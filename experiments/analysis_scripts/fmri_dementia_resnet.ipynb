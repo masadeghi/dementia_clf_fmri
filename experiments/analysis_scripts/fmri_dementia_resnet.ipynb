{
  "cells": [
    {
      "cell_type": "markdown",
      "metadata": {
        "id": "view-in-github",
        "colab_type": "text"
      },
      "source": [
        "<a href=\"https://colab.research.google.com/github/masadeghi/dementia_clf_fmri/blob/main/experiments/analysis_scripts/fmri_dementia_resnet.ipynb\" target=\"_parent\"><img src=\"https://colab.research.google.com/assets/colab-badge.svg\" alt=\"Open In Colab\"/></a>"
      ]
    },
    {
      "cell_type": "markdown",
      "metadata": {
        "id": "AYjq597MqRsy"
      },
      "source": [
        "# Import dependencies"
      ]
    },
    {
      "cell_type": "code",
      "execution_count": null,
      "metadata": {
        "id": "foycZUf_r9Kj"
      },
      "outputs": [],
      "source": [
        "import os\n",
        "import time\n",
        "import copy\n",
        "import math\n",
        "from pprint import pprint\n",
        "\n",
        "import numpy as np\n",
        "import pandas as pd\n",
        "import matplotlib.pyplot as plt\n",
        "\n",
        "from sklearn.model_selection import train_test_split\n",
        "from sklearn.metrics import f1_score, roc_auc_score, accuracy_score\n",
        "\n",
        "!pip install -qU focal_loss_torch\n",
        "from focal_loss.focal_loss import FocalLoss\n",
        "\n",
        "import torch\n",
        "import torch.nn as nn\n",
        "import torch.nn.functional as F\n",
        "from torch.utils.data import Dataset, DataLoader\n",
        "from torchvision import transforms"
      ]
    },
    {
      "cell_type": "code",
      "source": [
        "device = torch.device(\"cuda\" if torch.cuda.is_available() else \"cpu\")"
      ],
      "metadata": {
        "id": "lQrCK9EgsuoO"
      },
      "execution_count": null,
      "outputs": []
    },
    {
      "cell_type": "code",
      "source": [
        "sweep_id = wandb.sweep(sweep_config, project = 'fmri-dementia-resnet18-sweep-1')"
      ],
      "metadata": {
        "id": "FfBelBFNu5DO"
      },
      "execution_count": null,
      "outputs": []
    },
    {
      "cell_type": "code",
      "source": [
        "# Connecting to local runtime:\n",
        "# jupyter notebook --NotebookApp.allow_origin='https://colab.research.google.com' --port=8888 --NotebookApp.port_retries=0"
      ],
      "metadata": {
        "id": "ryHxJaaMzl-N"
      },
      "execution_count": null,
      "outputs": []
    },
    {
      "cell_type": "markdown",
      "metadata": {
        "id": "1h0ADUPUsDCe"
      },
      "source": [
        "# Import data"
      ]
    },
    {
      "cell_type": "code",
      "execution_count": null,
      "metadata": {
        "colab": {
          "base_uri": "https://localhost:8080/"
        },
        "id": "HRCYLtg3sECV",
        "outputId": "6193feeb-8641-490f-9489-ad76875cab11"
      },
      "outputs": [
        {
          "output_type": "stream",
          "name": "stdout",
          "text": [
            "Drive already mounted at /content/gdrive; to attempt to forcibly remount, call drive.mount(\"/content/gdrive\", force_remount=True).\n"
          ]
        }
      ],
      "source": [
        "# Mount Google drive\n",
        "from google.colab import drive\n",
        "\n",
        "drive.mount('/content/gdrive')"
      ]
    },
    {
      "cell_type": "code",
      "execution_count": null,
      "metadata": {
        "id": "zMTFFgAFtHQ0"
      },
      "outputs": [],
      "source": [
        "data_path = \"/content/gdrive/MyDrive/Coding projects/resting_fmri_dementia\"\n",
        "\n",
        "labels = pd.read_csv(os.path.join(data_path, 'labels_new.csv'))"
      ]
    },
    {
      "cell_type": "markdown",
      "source": [
        "# Base Model"
      ],
      "metadata": {
        "id": "JkgT7eC4fgvz"
      }
    },
    {
      "cell_type": "markdown",
      "source": [
        "## Split train/val"
      ],
      "metadata": {
        "id": "cWnv8hszgBQ9"
      }
    },
    {
      "cell_type": "code",
      "source": [
        "# labels_train, labels_val = train_test_split(labels, test_size = 0.2,\n",
        "#                                             shuffle = True, random_state = 42,\n",
        "#                                             stratify = labels['label'])\n",
        "\n",
        "# labels_train.to_csv(os.path.join(data_path, 'labels_train.csv'), header = True)\n",
        "\n",
        "# labels_val.to_csv(os.path.join(data_path, 'labels_val.csv'), header = True)"
      ],
      "metadata": {
        "id": "TpwIid6Qgrd3"
      },
      "execution_count": null,
      "outputs": []
    },
    {
      "cell_type": "markdown",
      "metadata": {
        "id": "AiAcy8_QsZvG"
      },
      "source": [
        "## Create dataloader"
      ]
    },
    {
      "cell_type": "code",
      "execution_count": null,
      "metadata": {
        "id": "Zq8QYQ4-sb_U"
      },
      "outputs": [],
      "source": [
        "class FMRILoader(Dataset):\n",
        "    \"\"\"\n",
        "    fMRI Dataset Loader\n",
        "\n",
        "    Args:\n",
        "        path (str):\n",
        "            Path to the CSV file\n",
        "\n",
        "        labels (dict):\n",
        "            Labels dictionnary if not provided by the CSV file\n",
        "\n",
        "            AD: Alzheimer's disease\n",
        "            FTD: Frontotemporal dementia\n",
        "            HC: Healthy control\n",
        "            MCI: Mild cognitive impairment\n",
        "    \"\"\"\n",
        "\n",
        "    def __init__(self, path:str, labels:dict = {1:'AD', 2:'FTD', 3:'HC', 4:'MCI'}):\n",
        "        self.folder = os.path.dirname(path)\n",
        "        self.df = pd.read_csv(path)\n",
        "        idname = dict()\n",
        "        if 'class_name' in self.df:\n",
        "            for i, row in self.df.iterrows():\n",
        "                idname[row['label']] = row['class_name']\n",
        "        else:\n",
        "            idname = labels\n",
        "        self.idclass = dict()\n",
        "        for i, id in enumerate(set(idname)):\n",
        "            self.idclass[id] = i\n",
        "        self.classes = []\n",
        "        for id in self.idclass:\n",
        "            self.classes.append(idname[id])\n",
        "\n",
        "    def __len__(self):\n",
        "        return len(self.df)\n",
        "\n",
        "    def __getitem__(self, idx):\n",
        "        \"\"\"\n",
        "        Returns:\n",
        "            A multichannel signal tensor and class id.\n",
        "        \"\"\"\n",
        "        matrix_path = self.df['matrix'][idx]\n",
        "        id = self.df['label'][idx]\n",
        "        data = pd.read_csv(self.folder + '/data_dir/' + matrix_path, header = None).to_numpy()\n",
        "        data = np.stack((data,)*3, axis = 0)\n",
        "        data = data[:3, :200, :140]\n",
        "\n",
        "        tensor = torch.tensor(data, dtype = torch.float32)\n",
        "\n",
        "\n",
        "\n",
        "        return tensor, self.idclass[id]"
      ]
    },
    {
      "cell_type": "code",
      "source": [
        "train_dataset = FMRILoader(\"/content/gdrive/MyDrive/Coding projects/resting_fmri_dementia/labels_train.csv\")\n",
        "val_dataset = FMRILoader(\"/content/gdrive/MyDrive/Coding projects/resting_fmri_dementia/labels_val.csv\")"
      ],
      "metadata": {
        "id": "iSK9AVZObaLA"
      },
      "execution_count": null,
      "outputs": []
    },
    {
      "cell_type": "code",
      "source": [
        "batch_size = 32\n",
        "train_loader = DataLoader(train_dataset, batch_size = batch_size, shuffle = True)\n",
        "val_loader = DataLoader(val_dataset, batch_size = batch_size, shuffle = False)"
      ],
      "metadata": {
        "id": "SfqL_DpAb9gd"
      },
      "execution_count": null,
      "outputs": []
    },
    {
      "cell_type": "markdown",
      "metadata": {
        "id": "gzwzLDeL6vOh"
      },
      "source": [
        "## ResNet18 model\n",
        "\n",
        "Focal loss source: https://github.com/mathiaszinnen/focal_loss_torch\n",
        "\n",
        "ROC-AUC score: https://scikit-learn.org/stable/modules/generated/sklearn.metrics.roc_auc_score.html#sklearn.metrics.roc_auc_score"
      ]
    },
    {
      "cell_type": "code",
      "source": [
        "from torchvision import models\n",
        "\n",
        "model = models.resnet18(pretrained=True)"
      ],
      "metadata": {
        "id": "loofHY6-6vwg",
        "colab": {
          "base_uri": "https://localhost:8080/"
        },
        "outputId": "fd4614d6-eb7f-499e-ea62-eaf93f46a656"
      },
      "execution_count": null,
      "outputs": [
        {
          "output_type": "stream",
          "name": "stderr",
          "text": [
            "/usr/local/lib/python3.8/dist-packages/torchvision/models/_utils.py:208: UserWarning: The parameter 'pretrained' is deprecated since 0.13 and may be removed in the future, please use 'weights' instead.\n",
            "  warnings.warn(\n",
            "/usr/local/lib/python3.8/dist-packages/torchvision/models/_utils.py:223: UserWarning: Arguments other than a weight enum or `None` for 'weights' are deprecated since 0.13 and may be removed in the future. The current behavior is equivalent to passing `weights=ResNet18_Weights.IMAGENET1K_V1`. You can also use `weights=ResNet18_Weights.DEFAULT` to get the most up-to-date weights.\n",
            "  warnings.warn(msg)\n"
          ]
        }
      ]
    },
    {
      "cell_type": "code",
      "source": [
        "for param in model.parameters():\n",
        "    param.requires_grad = False\n",
        "\n",
        "model.fc = nn.Sequential(\n",
        "    nn.Linear(512, 128),\n",
        "    nn.ReLU(inplace=True),\n",
        "    nn.Linear(128, 4),\n",
        "    nn.Softmax(dim = -1)\n",
        "    )\n",
        "\n",
        "model = model.to(device)"
      ],
      "metadata": {
        "id": "xgisFTfD7LrY"
      },
      "execution_count": null,
      "outputs": []
    },
    {
      "cell_type": "code",
      "source": [
        "class_num = labels['label'].value_counts().sort_index()\n",
        "class_weights = (class_num.max() / class_num).values\n",
        "class_weights = torch.FloatTensor(class_weights).to(device)\n",
        "\n",
        "criterion = FocalLoss(gamma = 2, weights = class_weights)\n",
        "optimizer = torch.optim.Adam(model.fc.parameters())"
      ],
      "metadata": {
        "id": "cLfDCZT0ShVH"
      },
      "execution_count": null,
      "outputs": []
    },
    {
      "cell_type": "markdown",
      "source": [
        "## Train model"
      ],
      "metadata": {
        "id": "nrJvG2gaiK0V"
      }
    },
    {
      "cell_type": "code",
      "source": [
        "train_losses = []\n",
        "train_accuracies = []\n",
        "train_f1s = []\n",
        "train_aucs = []\n",
        "\n",
        "val_losses = []\n",
        "val_accuracies = []\n",
        "val_f1s = []\n",
        "val_aucs = []\n",
        "\n",
        "def train_model(model, criterion, optimizer, num_epochs = 3):\n",
        "\n",
        "    since = time.time()\n",
        "\n",
        "    best_model_wts = copy.deepcopy(model.state_dict())\n",
        "    best_f1 = 0.0\n",
        "\n",
        "    for epoch in range(num_epochs):\n",
        "        print('Epoch {}/{}'.format(epoch + 1, num_epochs))\n",
        "        print('-' * 10)\n",
        "\n",
        "        for phase in ['train', 'validation']:\n",
        "            if phase == 'train':\n",
        "                model.train()\n",
        "                dataset = train_dataset\n",
        "                dataloader = train_loader\n",
        "            else:\n",
        "                model.eval()\n",
        "                dataset = val_dataset\n",
        "                dataloader = val_loader\n",
        "\n",
        "            running_loss = 0.0\n",
        "            running_outputs = torch.empty(0).cuda()\n",
        "            running_labels = torch.empty(0).cuda()\n",
        "            running_preds = torch.empty(0).cuda()\n",
        "\n",
        "            for inputs, targets in dataloader:\n",
        "                inputs = inputs.cuda()\n",
        "                targets = targets.cuda()\n",
        "\n",
        "                outputs = model(inputs)\n",
        "                outputs = torch.squeeze(outputs)\n",
        "                loss = criterion(outputs, targets)\n",
        "\n",
        "                if phase == 'train':\n",
        "                    optimizer.zero_grad()\n",
        "                    loss.backward()\n",
        "                    optimizer.step()\n",
        "\n",
        "                preds = torch.argmax(outputs, axis = -1) + 1\n",
        "                running_preds = torch.cat([running_preds, preds])\n",
        "\n",
        "                running_loss += loss.item() * inputs.size(0)\n",
        "                running_outputs = torch.cat([running_outputs, outputs])\n",
        "                running_labels = torch.cat([running_labels, targets])\n",
        "\n",
        "            running_labels = running_labels.cpu()\n",
        "            running_preds = running_preds.cpu()\n",
        "            running_outputs = running_outputs.detach().cpu()\n",
        "\n",
        "            epoch_loss = running_loss / len(dataset)\n",
        "            epoch_accuracy = accuracy_score(running_labels, running_preds)\n",
        "            epoch_f1 = f1_score(running_labels, running_preds, average = 'weighted')\n",
        "            epoch_auc = roc_auc_score(running_labels, running_outputs, multi_class = \"ovr\", average = \"weighted\")\n",
        "\n",
        "            print('{} loss: {:.4f}, accuracy: {:.4f}, f1: {:.4f}, auc: {:.4f}'.format(phase, epoch_accuracy, epoch_loss, epoch_f1, epoch_auc))\n",
        "\n",
        "            if phase == 'train':\n",
        "                train_losses.append(epoch_loss)\n",
        "                train_accuracies.append(epoch_accuracy)\n",
        "                train_f1s.append(epoch_f1)\n",
        "                train_aucs.append(epoch_auc)\n",
        "            else:\n",
        "                val_losses.append(epoch_loss)\n",
        "                val_accuracies.append(epoch_accuracy)\n",
        "                val_f1s.append(epoch_f1)\n",
        "                val_aucs.append(epoch_auc)\n",
        "\n",
        "            if phase == 'validation' and epoch_f1 > best_f1:\n",
        "                best_f1 = epoch_f1\n",
        "                best_model_wts = copy.deepcopy(model.state_dict())\n",
        "\n",
        "    time_elapsed = time.time() - since\n",
        "    print(f'Training complete in {time_elapsed // 60:.0f}m {time_elapsed % 60:.0f}s')\n",
        "    print(f'Best val F1 score: {best_f1:4f}')\n",
        "\n",
        "    return model"
      ],
      "metadata": {
        "id": "apWuX800iwfL"
      },
      "execution_count": null,
      "outputs": []
    },
    {
      "cell_type": "code",
      "source": [
        "epochs = 20\n",
        "\n",
        "model_trained = train_model(model, criterion, optimizer, num_epochs = epochs)"
      ],
      "metadata": {
        "id": "_znevel8ixAK",
        "colab": {
          "base_uri": "https://localhost:8080/"
        },
        "outputId": "1a53a6c7-5cc4-4e1a-ec96-9b6f284768c8"
      },
      "execution_count": null,
      "outputs": [
        {
          "output_type": "stream",
          "name": "stdout",
          "text": [
            "Epoch 1/20\n",
            "----------\n",
            "train loss: 0.1945, accuracy: 0.8397, f1: 0.1996, auc: 0.6693\n",
            "validation loss: 0.1970, accuracy: 0.7296, f1: 0.1821, auc: 0.7420\n",
            "Epoch 2/20\n",
            "----------\n",
            "train loss: 0.1773, accuracy: 0.6829, f1: 0.1775, auc: 0.7561\n",
            "validation loss: 0.1152, accuracy: 0.6898, f1: 0.1313, auc: 0.7532\n",
            "Epoch 3/20\n",
            "----------\n",
            "train loss: 0.1611, accuracy: 0.6181, f1: 0.1655, auc: 0.7853\n",
            "validation loss: 0.2727, accuracy: 0.7027, f1: 0.2317, auc: 0.7421\n",
            "Epoch 4/20\n",
            "----------\n",
            "train loss: 0.1560, accuracy: 0.5661, f1: 0.1627, auc: 0.8031\n",
            "validation loss: 0.2242, accuracy: 0.6695, f1: 0.2154, auc: 0.7502\n",
            "Epoch 5/20\n",
            "----------\n",
            "train loss: 0.1439, accuracy: 0.5380, f1: 0.1460, auc: 0.8253\n",
            "validation loss: 0.1848, accuracy: 0.6924, f1: 0.1861, auc: 0.7593\n",
            "Epoch 6/20\n",
            "----------\n",
            "train loss: 0.1510, accuracy: 0.5300, f1: 0.1586, auc: 0.8217\n",
            "validation loss: 0.2212, accuracy: 0.6262, f1: 0.2167, auc: 0.7656\n",
            "Epoch 7/20\n",
            "----------\n",
            "train loss: 0.1277, accuracy: 0.4997, f1: 0.1317, auc: 0.8371\n",
            "validation loss: 0.2121, accuracy: 0.6755, f1: 0.2074, auc: 0.7632\n",
            "Epoch 8/20\n",
            "----------\n",
            "train loss: 0.1358, accuracy: 0.4912, f1: 0.1387, auc: 0.8414\n",
            "validation loss: 0.2091, accuracy: 0.6127, f1: 0.2108, auc: 0.7694\n",
            "Epoch 9/20\n",
            "----------\n",
            "train loss: 0.1358, accuracy: 0.4715, f1: 0.1420, auc: 0.8462\n",
            "validation loss: 0.1909, accuracy: 0.6999, f1: 0.1748, auc: 0.7589\n",
            "Epoch 10/20\n",
            "----------\n",
            "train loss: 0.1064, accuracy: 0.4794, f1: 0.1102, auc: 0.8463\n",
            "validation loss: 0.2455, accuracy: 0.6423, f1: 0.2365, auc: 0.7751\n",
            "Epoch 11/20\n",
            "----------\n",
            "train loss: 0.1175, accuracy: 0.4295, f1: 0.1197, auc: 0.8625\n",
            "validation loss: 0.2485, accuracy: 0.6029, f1: 0.2324, auc: 0.7749\n",
            "Epoch 12/20\n",
            "----------\n",
            "train loss: 0.1226, accuracy: 0.4209, f1: 0.1279, auc: 0.8615\n",
            "validation loss: 0.1727, accuracy: 0.6008, f1: 0.1878, auc: 0.7755\n",
            "Epoch 13/20\n",
            "----------\n",
            "train loss: 0.1216, accuracy: 0.3941, f1: 0.1258, auc: 0.8749\n",
            "validation loss: 0.1455, accuracy: 0.7245, f1: 0.1487, auc: 0.7769\n",
            "Epoch 14/20\n",
            "----------\n",
            "train loss: 0.1165, accuracy: 0.4156, f1: 0.1224, auc: 0.8646\n",
            "validation loss: 0.1606, accuracy: 0.6117, f1: 0.1581, auc: 0.7783\n",
            "Epoch 15/20\n",
            "----------\n",
            "train loss: 0.1206, accuracy: 0.3931, f1: 0.1257, auc: 0.8705\n",
            "validation loss: 0.2939, accuracy: 0.7627, f1: 0.2433, auc: 0.7710\n",
            "Epoch 16/20\n",
            "----------\n",
            "train loss: 0.1256, accuracy: 0.4026, f1: 0.1300, auc: 0.8639\n",
            "validation loss: 0.2333, accuracy: 0.6120, f1: 0.2137, auc: 0.7801\n",
            "Epoch 17/20\n",
            "----------\n",
            "train loss: 0.1398, accuracy: 0.3758, f1: 0.1435, auc: 0.8825\n",
            "validation loss: 0.1364, accuracy: 0.6249, f1: 0.1290, auc: 0.7834\n",
            "Epoch 18/20\n",
            "----------\n",
            "train loss: 0.1054, accuracy: 0.3503, f1: 0.1108, auc: 0.8901\n",
            "validation loss: 0.1848, accuracy: 0.6232, f1: 0.1848, auc: 0.7677\n",
            "Epoch 19/20\n",
            "----------\n",
            "train loss: 0.1185, accuracy: 0.3523, f1: 0.1219, auc: 0.8919\n",
            "validation loss: 0.2030, accuracy: 0.6021, f1: 0.2003, auc: 0.7799\n",
            "Epoch 20/20\n",
            "----------\n",
            "train loss: 0.1003, accuracy: 0.3539, f1: 0.1067, auc: 0.8888\n",
            "validation loss: 0.1727, accuracy: 0.6296, f1: 0.1680, auc: 0.7772\n",
            "Training complete in 5m 24s\n",
            "Best val F1 score: 0.243326\n"
          ]
        }
      ]
    },
    {
      "cell_type": "code",
      "source": [
        "# Plot loss and metric curves\n",
        "fig, ax = plt.subplots(2, 2, figsize=(20, 10))\n",
        "\n",
        "ax[0, 0].plot(range(1, epochs + 1), train_losses, label = 'Training loss')\n",
        "ax[0, 0].plot(range(1, epochs + 1), val_losses, label = 'Validation loss')\n",
        "ax[0, 0].set_title('Loss curves')\n",
        "ax[0, 0].set_xlabel('Epochs')\n",
        "ax[0, 0].set_ylabel('Loss')\n",
        "\n",
        "ax[0, 1].plot(range(1, epochs + 1), train_f1s, label = 'Training F1-score')\n",
        "ax[0, 1].plot(range(1, epochs + 1), val_f1s, label = 'Validation F1-score')\n",
        "ax[0, 1].set_title('F1-score curves')\n",
        "ax[0, 1].set_xlabel('Epochs')\n",
        "ax[0, 1].set_ylabel('F1-score')\n",
        "\n",
        "ax[1, 0].plot(range(1, epochs + 1), train_accuracies, label = 'Training accuracy')\n",
        "ax[1, 0].plot(range(1, epochs + 1), val_accuracies, label = 'Validation accuracy')\n",
        "ax[1, 0].set_title('Accuracy curves')\n",
        "ax[1, 0].set_xlabel('Epochs')\n",
        "ax[1, 0].set_ylabel('Accuracy')\n",
        "\n",
        "ax[1, 1].plot(range(1, epochs + 1), train_aucs, label = 'Training AUC')\n",
        "ax[1, 1].plot(range(1, epochs + 1), val_aucs, label = 'Validation AUC')\n",
        "ax[1, 1].set_title('AUC curves')\n",
        "ax[1, 1].set_xlabel('Epochs')\n",
        "ax[1, 1].set_ylabel('AUC')\n",
        "\n",
        "plt.show()"
      ],
      "metadata": {
        "colab": {
          "base_uri": "https://localhost:8080/",
          "height": 621
        },
        "id": "GdCfQBQRYdUl",
        "outputId": "1b1457af-cff9-4319-b79c-afc73bfba246"
      },
      "execution_count": null,
      "outputs": [
        {
          "output_type": "display_data",
          "data": {
            "text/plain": [
              "<Figure size 1440x720 with 4 Axes>"
            ],
            "image/png": "[encoded data removed]"
          },
          "metadata": {
            "needs_background": "light"
          }
        }
      ]
    },
    {
      "cell_type": "markdown",
      "source": [
        "# Test"
      ],
      "metadata": {
        "id": "unFN9hXviMXP"
      }
    },
    {
      "cell_type": "code",
      "source": [
        "# Sample batch\n",
        "for i, (images,target) in enumerate(train_loader):\n",
        "  images = images.to(device)\n",
        "  target = target.to(device)\n",
        "  break\n",
        "\n",
        "print(\"Image batch shape:\", images.shape)\n",
        "print(\"Image tensor data type:\", images[0].type())\n",
        "print(\"Labels batch shape\", target.shape)\n",
        "print(\"Labels tensor data type\", target[0].type)\n",
        "print('Batch labels:', target)"
      ],
      "metadata": {
        "id": "Isyl2rrtwrbY",
        "colab": {
          "base_uri": "https://localhost:8080/"
        },
        "outputId": "e345dc69-2f4a-498e-d7b5-8f633b0c5854"
      },
      "execution_count": null,
      "outputs": [
        {
          "output_type": "stream",
          "name": "stdout",
          "text": [
            "Image batch shape: torch.Size([16, 3, 200, 140])\n",
            "Image tensor data type: torch.cuda.FloatTensor\n",
            "Labels batch shape torch.Size([16])\n",
            "Labels tensor data type <built-in method type of Tensor object at 0x7ff37b24f3b0>\n",
            "Batch labels: tensor([3, 2, 1, 1, 3, 2, 1, 2, 1, 1, 3, 2, 1, 3, 2, 2], device='cuda:0')\n"
          ]
        }
      ]
    },
    {
      "cell_type": "code",
      "source": [
        "model.eval()\n",
        "with torch.no_grad():\n",
        "  output = model(images)\n",
        "  output.shape"
      ],
      "metadata": {
        "id": "hTp2Ag3N9W3g"
      },
      "execution_count": null,
      "outputs": []
    },
    {
      "cell_type": "code",
      "source": [
        "output"
      ],
      "metadata": {
        "colab": {
          "base_uri": "https://localhost:8080/"
        },
        "id": "pyTlBYRqUG4h",
        "outputId": "31802e6c-fb99-4229-9537-23b811e596dd"
      },
      "execution_count": null,
      "outputs": [
        {
          "output_type": "execute_result",
          "data": {
            "text/plain": [
              "tensor([[1.6281e-18, 1.0000e+00, 3.2583e-30, 6.0830e-22],\n",
              "        [2.6671e-04, 9.9049e-01, 6.6711e-05, 9.1767e-03],\n",
              "        [4.4593e-02, 1.2156e-08, 3.4550e-10, 9.5541e-01],\n",
              "        [6.8298e-02, 9.2539e-01, 3.3762e-05, 6.2764e-03],\n",
              "        [7.3175e-04, 9.9926e-01, 1.0813e-07, 1.2914e-05],\n",
              "        [2.1385e-08, 1.0000e+00, 1.1930e-09, 9.7869e-08],\n",
              "        [2.3310e-07, 9.9999e-01, 1.3535e-08, 5.2441e-06],\n",
              "        [2.6229e-02, 9.7350e-01, 2.3204e-05, 2.4861e-04],\n",
              "        [1.1889e-06, 1.0000e+00, 2.0548e-10, 6.1925e-08],\n",
              "        [6.7974e-06, 9.9954e-01, 1.2820e-11, 4.5065e-04],\n",
              "        [3.4883e-03, 9.9648e-01, 9.6386e-09, 3.6591e-05],\n",
              "        [3.7709e-03, 9.9615e-01, 4.7359e-06, 7.5876e-05],\n",
              "        [7.4778e-04, 9.9909e-01, 1.8403e-06, 1.5591e-04],\n",
              "        [2.7202e-05, 9.9997e-01, 2.4497e-11, 4.8368e-06],\n",
              "        [9.3546e-06, 9.9999e-01, 3.2909e-10, 2.5858e-07],\n",
              "        [1.1075e-04, 9.9862e-01, 5.4909e-04, 7.2496e-04]], device='cuda:0')"
            ]
          },
          "metadata": {},
          "execution_count": 71
        }
      ]
    },
    {
      "cell_type": "code",
      "source": [
        "target"
      ],
      "metadata": {
        "id": "JC_i2WWykQI7",
        "colab": {
          "base_uri": "https://localhost:8080/"
        },
        "outputId": "c12085fd-4016-4c96-f9e4-9242fd113ecf"
      },
      "execution_count": null,
      "outputs": [
        {
          "output_type": "execute_result",
          "data": {
            "text/plain": [
              "tensor([3, 2, 1, 1, 3, 2, 1, 2, 1, 1, 3, 2, 1, 3, 2, 2], device='cuda:0')"
            ]
          },
          "metadata": {},
          "execution_count": 72
        }
      ]
    },
    {
      "cell_type": "code",
      "source": [
        "output.shape"
      ],
      "metadata": {
        "colab": {
          "base_uri": "https://localhost:8080/"
        },
        "id": "1-Apo22WOJE-",
        "outputId": "95e1008f-77c3-4e45-e60c-41cdf8db8334"
      },
      "execution_count": null,
      "outputs": [
        {
          "output_type": "execute_result",
          "data": {
            "text/plain": [
              "torch.Size([16, 4])"
            ]
          },
          "metadata": {},
          "execution_count": 73
        }
      ]
    },
    {
      "cell_type": "code",
      "source": [
        "target.shape"
      ],
      "metadata": {
        "colab": {
          "base_uri": "https://localhost:8080/"
        },
        "id": "2CknAIc-OK7w",
        "outputId": "69a7f9c6-77d3-40e3-f36f-41525a36a6e5"
      },
      "execution_count": null,
      "outputs": [
        {
          "output_type": "execute_result",
          "data": {
            "text/plain": [
              "torch.Size([16])"
            ]
          },
          "metadata": {},
          "execution_count": 74
        }
      ]
    },
    {
      "cell_type": "code",
      "source": [
        "loss = criterion(output, target)"
      ],
      "metadata": {
        "id": "X4PGJT5HiXL1"
      },
      "execution_count": null,
      "outputs": []
    },
    {
      "cell_type": "code",
      "source": [
        "loss"
      ],
      "metadata": {
        "colab": {
          "base_uri": "https://localhost:8080/"
        },
        "id": "KkKRJdN3WFSU",
        "outputId": "2fffaa24-35d5-4ae3-b4e5-8d4a8f6eda05"
      },
      "execution_count": null,
      "outputs": [
        {
          "output_type": "execute_result",
          "data": {
            "text/plain": [
              "tensor(11.3403, device='cuda:0')"
            ]
          },
          "metadata": {},
          "execution_count": 76
        }
      ]
    },
    {
      "cell_type": "code",
      "source": [
        "preds = torch.argmax(output, axis = -1) + 1"
      ],
      "metadata": {
        "id": "dYG0S2fOT1Cz"
      },
      "execution_count": null,
      "outputs": []
    },
    {
      "cell_type": "code",
      "source": [
        "preds"
      ],
      "metadata": {
        "colab": {
          "base_uri": "https://localhost:8080/"
        },
        "id": "CxwEeEAqUBqY",
        "outputId": "803c6e60-9e25-41a8-df5c-def1e9e4802f"
      },
      "execution_count": null,
      "outputs": [
        {
          "output_type": "execute_result",
          "data": {
            "text/plain": [
              "tensor([2, 2, 4, 2, 2, 2, 2, 2, 2, 2, 2, 2, 2, 2, 2, 2], device='cuda:0')"
            ]
          },
          "metadata": {},
          "execution_count": 78
        }
      ]
    },
    {
      "cell_type": "code",
      "source": [
        "from sklearn.preprocessing import LabelBinarizer\n",
        "\n",
        "y_whole = labels['label'].values\n",
        "label_binarizer = LabelBinarizer().fit(y_whole)\n",
        "y_onehot_pred = label_binarizer.transform(preds.cpu())\n",
        "\n",
        "y_onehot_target = label_binarizer.transform(target.cpu())"
      ],
      "metadata": {
        "id": "qNfMnKgiKGF1"
      },
      "execution_count": null,
      "outputs": []
    },
    {
      "cell_type": "code",
      "source": [
        "y_onehot_target.shape"
      ],
      "metadata": {
        "colab": {
          "base_uri": "https://localhost:8080/"
        },
        "id": "cb4floXpLG6j",
        "outputId": "343c9936-58dd-4805-fa63-ff0dcc60a732"
      },
      "execution_count": null,
      "outputs": [
        {
          "output_type": "execute_result",
          "data": {
            "text/plain": [
              "(16, 4)"
            ]
          },
          "metadata": {},
          "execution_count": 29
        }
      ]
    },
    {
      "cell_type": "code",
      "source": [
        "import matplotlib.pyplot as plt"
      ],
      "metadata": {
        "id": "fI2FGU8xMD81"
      },
      "execution_count": null,
      "outputs": []
    },
    {
      "cell_type": "code",
      "source": [
        "from sklearn.metrics import RocCurveDisplay\n",
        "\n",
        "RocCurveDisplay.from_predictions(\n",
        "    y_onehot_target.ravel(),\n",
        "    y_onehot_pred.ravel(),\n",
        "    name = \"micro-average OvR\",\n",
        "    color = \"darkorange\",\n",
        ")\n",
        "plt.plot([0, 1], [0, 1], \"k--\", label=\"chance level (AUC = 0.5)\")\n",
        "plt.axis(\"square\")\n",
        "plt.xlabel(\"False Positive Rate\")\n",
        "plt.ylabel(\"True Positive Rate\")\n",
        "plt.title(\"Micro-averaged One-vs-Rest\\nReceiver Operating Characteristic\")\n",
        "plt.legend()\n",
        "plt.show()"
      ],
      "metadata": {
        "colab": {
          "base_uri": "https://localhost:8080/"
        },
        "id": "wnb6T3_oLJ5K",
        "outputId": "4977cb2b-5688-41db-e686-9e4a5465d91b"
      },
      "execution_count": null,
      "outputs": [
        {
          "output_type": "display_data",
          "data": {
            "text/plain": [
              "<Figure size 432x288 with 1 Axes>"
            ],
            "image/png": "[encoded data removed]"
          },
          "metadata": {
            "needs_background": "light"
          }
        }
      ]
    },
    {
      "cell_type": "code",
      "source": [
        "from sklearn.metrics import roc_auc_score\n",
        "\n",
        "micro_roc_auc_ovr = roc_auc_score(\n",
        "    target.cpu().numpy(),\n",
        "    output.cpu().numpy(),\n",
        "    multi_class=\"ovr\",\n",
        "    average=\"weighted\",\n",
        ")\n",
        "\n",
        "print(f\"Micro-averaged One-vs-Rest ROC AUC score:\\n{micro_roc_auc_ovr:.2f}\")"
      ],
      "metadata": {
        "colab": {
          "base_uri": "https://localhost:8080/"
        },
        "id": "9ju5we1FMNIx",
        "outputId": "26d7e164-f400-492d-f83d-641ad30f7b38"
      },
      "execution_count": null,
      "outputs": [
        {
          "output_type": "error",
          "ename": "ValueError",
          "evalue": "ignored",
          "traceback": [
            "\u001b[0;31m---------------------------------------------------------------------------\u001b[0m",
            "\u001b[0;31mValueError\u001b[0m                                Traceback (most recent call last)",
            "\u001b[0;32m<ipython-input-111-e4776c301da5>\u001b[0m in \u001b[0;36m<module>\u001b[0;34m\u001b[0m\n\u001b[1;32m      1\u001b[0m \u001b[0;32mfrom\u001b[0m \u001b[0msklearn\u001b[0m\u001b[0;34m.\u001b[0m\u001b[0mmetrics\u001b[0m \u001b[0;32mimport\u001b[0m \u001b[0mroc_auc_score\u001b[0m\u001b[0;34m\u001b[0m\u001b[0;34m\u001b[0m\u001b[0m\n\u001b[1;32m      2\u001b[0m \u001b[0;34m\u001b[0m\u001b[0m\n\u001b[0;32m----> 3\u001b[0;31m micro_roc_auc_ovr = roc_auc_score(\n\u001b[0m\u001b[1;32m      4\u001b[0m     \u001b[0mtarget\u001b[0m\u001b[0;34m.\u001b[0m\u001b[0mcpu\u001b[0m\u001b[0;34m(\u001b[0m\u001b[0;34m)\u001b[0m\u001b[0;34m.\u001b[0m\u001b[0mnumpy\u001b[0m\u001b[0;34m(\u001b[0m\u001b[0;34m)\u001b[0m\u001b[0;34m,\u001b[0m\u001b[0;34m\u001b[0m\u001b[0;34m\u001b[0m\u001b[0m\n\u001b[1;32m      5\u001b[0m     \u001b[0moutput\u001b[0m\u001b[0;34m.\u001b[0m\u001b[0mcpu\u001b[0m\u001b[0;34m(\u001b[0m\u001b[0;34m)\u001b[0m\u001b[0;34m.\u001b[0m\u001b[0mnumpy\u001b[0m\u001b[0;34m(\u001b[0m\u001b[0;34m)\u001b[0m\u001b[0;34m,\u001b[0m\u001b[0;34m\u001b[0m\u001b[0;34m\u001b[0m\u001b[0m\n",
            "\u001b[0;32m/usr/local/lib/python3.8/dist-packages/sklearn/metrics/_ranking.py\u001b[0m in \u001b[0;36mroc_auc_score\u001b[0;34m(y_true, y_score, average, sample_weight, max_fpr, multi_class, labels)\u001b[0m\n\u001b[1;32m    559\u001b[0m         \u001b[0;32mif\u001b[0m \u001b[0mmulti_class\u001b[0m \u001b[0;34m==\u001b[0m \u001b[0;34m\"raise\"\u001b[0m\u001b[0;34m:\u001b[0m\u001b[0;34m\u001b[0m\u001b[0;34m\u001b[0m\u001b[0m\n\u001b[1;32m    560\u001b[0m             \u001b[0;32mraise\u001b[0m \u001b[0mValueError\u001b[0m\u001b[0;34m(\u001b[0m\u001b[0;34m\"multi_class must be in ('ovo', 'ovr')\"\u001b[0m\u001b[0;34m)\u001b[0m\u001b[0;34m\u001b[0m\u001b[0;34m\u001b[0m\u001b[0m\n\u001b[0;32m--> 561\u001b[0;31m         return _multiclass_roc_auc_score(\n\u001b[0m\u001b[1;32m    562\u001b[0m             \u001b[0my_true\u001b[0m\u001b[0;34m,\u001b[0m \u001b[0my_score\u001b[0m\u001b[0;34m,\u001b[0m \u001b[0mlabels\u001b[0m\u001b[0;34m,\u001b[0m \u001b[0mmulti_class\u001b[0m\u001b[0;34m,\u001b[0m \u001b[0maverage\u001b[0m\u001b[0;34m,\u001b[0m \u001b[0msample_weight\u001b[0m\u001b[0;34m\u001b[0m\u001b[0;34m\u001b[0m\u001b[0m\n\u001b[1;32m    563\u001b[0m         )\n",
            "\u001b[0;32m/usr/local/lib/python3.8/dist-packages/sklearn/metrics/_ranking.py\u001b[0m in \u001b[0;36m_multiclass_roc_auc_score\u001b[0;34m(y_true, y_score, labels, multi_class, average, sample_weight)\u001b[0m\n\u001b[1;32m    663\u001b[0m         \u001b[0mclasses\u001b[0m \u001b[0;34m=\u001b[0m \u001b[0m_unique\u001b[0m\u001b[0;34m(\u001b[0m\u001b[0my_true\u001b[0m\u001b[0;34m)\u001b[0m\u001b[0;34m\u001b[0m\u001b[0;34m\u001b[0m\u001b[0m\n\u001b[1;32m    664\u001b[0m         \u001b[0;32mif\u001b[0m \u001b[0mlen\u001b[0m\u001b[0;34m(\u001b[0m\u001b[0mclasses\u001b[0m\u001b[0;34m)\u001b[0m \u001b[0;34m!=\u001b[0m \u001b[0my_score\u001b[0m\u001b[0;34m.\u001b[0m\u001b[0mshape\u001b[0m\u001b[0;34m[\u001b[0m\u001b[0;36m1\u001b[0m\u001b[0;34m]\u001b[0m\u001b[0;34m:\u001b[0m\u001b[0;34m\u001b[0m\u001b[0;34m\u001b[0m\u001b[0m\n\u001b[0;32m--> 665\u001b[0;31m             raise ValueError(\n\u001b[0m\u001b[1;32m    666\u001b[0m                 \u001b[0;34m\"Number of classes in y_true not equal to the number of \"\u001b[0m\u001b[0;34m\u001b[0m\u001b[0;34m\u001b[0m\u001b[0m\n\u001b[1;32m    667\u001b[0m                 \u001b[0;34m\"columns in 'y_score'\"\u001b[0m\u001b[0;34m\u001b[0m\u001b[0;34m\u001b[0m\u001b[0m\n",
            "\u001b[0;31mValueError\u001b[0m: Number of classes in y_true not equal to the number of columns in 'y_score'"
          ]
        }
      ]
    },
    {
      "cell_type": "code",
      "source": [
        "micro_roc_auc_ovr"
      ],
      "metadata": {
        "colab": {
          "base_uri": "https://localhost:8080/"
        },
        "id": "4FqRBBxsP1QC",
        "outputId": "a43d7e5c-6a87-4f5f-a9af-999d0afa489c"
      },
      "execution_count": null,
      "outputs": [
        {
          "output_type": "execute_result",
          "data": {
            "text/plain": [
              "0.5357905982905984"
            ]
          },
          "metadata": {},
          "execution_count": 63
        }
      ]
    },
    {
      "cell_type": "code",
      "source": [
        "optimizer.zero_grad()\n",
        "loss.backward()\n",
        "optimizer.step()"
      ],
      "metadata": {
        "id": "DmlGbllLitfw"
      },
      "execution_count": null,
      "outputs": []
    },
    {
      "cell_type": "code",
      "source": [
        "f1_score(target.cpu(), preds.cpu(), average = 'weighted')"
      ],
      "metadata": {
        "colab": {
          "base_uri": "https://localhost:8080/"
        },
        "id": "ppVzSfnDw2nG",
        "outputId": "29f4d661-3439-495c-da12-02e451380218"
      },
      "execution_count": null,
      "outputs": [
        {
          "output_type": "execute_result",
          "data": {
            "text/plain": [
              "0.03125"
            ]
          },
          "metadata": {},
          "execution_count": 19
        }
      ]
    },
    {
      "cell_type": "code",
      "source": [
        "weights"
      ],
      "metadata": {
        "colab": {
          "base_uri": "https://localhost:8080/"
        },
        "id": "fwX0aBmYSCi8",
        "outputId": "4094be6c-7d54-4da9-c9b4-7d05432bba7e"
      },
      "execution_count": null,
      "outputs": [
        {
          "output_type": "execute_result",
          "data": {
            "text/plain": [
              "tensor([2.3400, 1.0200, 1.0000, 1.1400], device='cuda:0')"
            ]
          },
          "metadata": {},
          "execution_count": 80
        }
      ]
    },
    {
      "cell_type": "code",
      "source": [
        "target"
      ],
      "metadata": {
        "colab": {
          "base_uri": "https://localhost:8080/"
        },
        "id": "3o2ioHN9SDkH",
        "outputId": "52124be3-677c-4013-a4eb-7ea9e44027b9"
      },
      "execution_count": null,
      "outputs": [
        {
          "output_type": "execute_result",
          "data": {
            "text/plain": [
              "tensor([3, 2, 1, 1, 3, 2, 1, 2, 1, 1, 3, 2, 1, 3, 2, 2], device='cuda:0')"
            ]
          },
          "metadata": {},
          "execution_count": 81
        }
      ]
    },
    {
      "cell_type": "code",
      "source": [
        "weighted_target = target * weights"
      ],
      "metadata": {
        "colab": {
          "base_uri": "https://localhost:8080/"
        },
        "id": "DPp9H8WfSGdP",
        "outputId": "0b463130-52f2-48cc-ab78-00b3d126678e"
      },
      "execution_count": null,
      "outputs": [
        {
          "output_type": "error",
          "ename": "RuntimeError",
          "evalue": "ignored",
          "traceback": [
            "\u001b[0;31m---------------------------------------------------------------------------\u001b[0m",
            "\u001b[0;31mRuntimeError\u001b[0m                              Traceback (most recent call last)",
            "\u001b[0;32m<ipython-input-82-98b493560c8a>\u001b[0m in \u001b[0;36m<module>\u001b[0;34m\u001b[0m\n\u001b[0;32m----> 1\u001b[0;31m \u001b[0mweighted_target\u001b[0m \u001b[0;34m=\u001b[0m \u001b[0mtarget\u001b[0m \u001b[0;34m*\u001b[0m \u001b[0mweights\u001b[0m\u001b[0;34m\u001b[0m\u001b[0;34m\u001b[0m\u001b[0m\n\u001b[0m",
            "\u001b[0;31mRuntimeError\u001b[0m: The size of tensor a (16) must match the size of tensor b (4) at non-singleton dimension 0"
          ]
        }
      ]
    },
    {
      "cell_type": "code",
      "source": [
        "np.mean((preds == target).cpu().numpy())"
      ],
      "metadata": {
        "colab": {
          "base_uri": "https://localhost:8080/"
        },
        "id": "ftCcqOMlSLVQ",
        "outputId": "f017a68f-7903-4980-b88d-79f1220a75f7"
      },
      "execution_count": null,
      "outputs": [
        {
          "output_type": "execute_result",
          "data": {
            "text/plain": [
              "0.375"
            ]
          },
          "metadata": {},
          "execution_count": 105
        }
      ]
    },
    {
      "cell_type": "code",
      "source": [
        "from sklearn.metrics import accuracy_score\n",
        "\n",
        "accuracy_score(target.cpu(), preds.cpu())"
      ],
      "metadata": {
        "colab": {
          "base_uri": "https://localhost:8080/"
        },
        "id": "yKm81y43VjDF",
        "outputId": "90fca77b-c8bc-46a2-fee7-d8252b18dd55"
      },
      "execution_count": null,
      "outputs": [
        {
          "output_type": "execute_result",
          "data": {
            "text/plain": [
              "0.375"
            ]
          },
          "metadata": {},
          "execution_count": 109
        }
      ]
    },
    {
      "cell_type": "code",
      "source": [
        "running_outputs = torch.empty(0).cuda()"
      ],
      "metadata": {
        "id": "ZEpbTZeTXA92"
      },
      "execution_count": null,
      "outputs": []
    },
    {
      "cell_type": "code",
      "source": [
        "torch.cat([running_outputs, output]).shape"
      ],
      "metadata": {
        "colab": {
          "base_uri": "https://localhost:8080/"
        },
        "id": "smSJPnfqXBdY",
        "outputId": "55b44a8f-55b4-45c9-9d4d-e9344453ab97"
      },
      "execution_count": null,
      "outputs": [
        {
          "output_type": "execute_result",
          "data": {
            "text/plain": [
              "torch.Size([16, 4])"
            ]
          },
          "metadata": {},
          "execution_count": 114
        }
      ]
    },
    {
      "cell_type": "markdown",
      "source": [
        "# My model 1"
      ],
      "metadata": {
        "id": "Kekl_vuDYfRn"
      }
    },
    {
      "cell_type": "code",
      "source": [
        "train_losses = []\n",
        "train_f1s = []\n",
        "\n",
        "val_losses = []\n",
        "val_f1s = []\n",
        "\n",
        "def train_phase(train_loader, model, criterion, optimizer, num_epochs = 3):\n",
        "\n",
        "  phase = 'train'\n",
        "\n",
        "  model.train()\n",
        "  dataset = train_dataset\n",
        "  dataloader = train_loader\n",
        "\n",
        "  running_loss = 0.0\n",
        "  running_preds = torch.empty(0).cuda()\n",
        "  running_labels = torch.empty(0).cuda()\n",
        "\n",
        "  for inputs, targets in dataloader:\n",
        "    inputs = inputs.cuda()\n",
        "    targets = targets.cuda()\n",
        "\n",
        "  outputs = model(inputs)\n",
        "  outputs = outputs.squeeze()\n",
        "  loss = criterion(outputs, targets)\n",
        "\n",
        "  optimizer.zero_grad()\n",
        "  loss.backward()\n",
        "  optimizer.step()\n",
        "\n",
        "  preds = torch.argmax(outputs, axis = -1) + 1\n",
        "  running_preds = torch.cat([running_preds, preds])\n",
        "\n",
        "  running_loss += loss.item() * inputs.size(0)\n",
        "  running_labels = torch.cat([running_labels, targets])\n",
        "\n",
        "\n",
        "def val_phase(model, criterion, optimizer, num_epochs = 3):\n",
        "\n",
        "  phase = 'validation'\n",
        "\n",
        "  model.eval()\n",
        "  dataset = val_dataset\n",
        "  dataloader = val_loader\n",
        "\n",
        "  running_loss = 0.0\n",
        "  running_preds = torch.empty(0).cuda()\n",
        "  running_labels = torch.empty(0).cuda()\n",
        "\n",
        "\n",
        "def train_model(model, criterion, optimizer, num_epochs = 3):\n",
        "\n",
        "    since = time.time()\n",
        "\n",
        "    best_model_wts = copy.deepcopy(model.state_dict())\n",
        "    best_f1 = 0.0\n",
        "\n",
        "    for epoch in range(num_epochs):\n",
        "        print('Epoch {}/{}'.format(epoch + 1, num_epochs))\n",
        "        print('-' * 10)\n",
        "\n",
        "\n",
        "\n",
        "\n",
        "\n",
        "\n",
        "\n",
        "            epoch_loss = running_loss / len(dataset)\n",
        "            epoch_f1 = f1_score(running_labels.cpu(), running_preds.cpu(), average = 'weighted')\n",
        "\n",
        "            print('{} loss: {:.4f}, f1: {:.4f}'.format(phase, epoch_loss, epoch_f1))\n",
        "\n",
        "            if phase == 'train':\n",
        "                train_losses.append(epoch_loss)\n",
        "                train_f1s.append(epoch_f1)\n",
        "            else:\n",
        "                val_losses.append(epoch_loss)\n",
        "                val_f1s.append(epoch_f1)\n",
        "\n",
        "            if phase == 'validation' and epoch_f1 > best_f1:\n",
        "                best_f1 = epoch_f1\n",
        "                best_model_wts = copy.deepcopy(model.state_dict())\n",
        "\n",
        "    time_elapsed = time.time() - since\n",
        "    print(f'Training complete in {time_elapsed // 60:.0f}m {time_elapsed % 60:.0f}s')\n",
        "    print(f'Best val F1 score: {best_f1:4f}')\n",
        "\n",
        "    return model"
      ],
      "metadata": {
        "id": "KOBEcFueIPPF"
      },
      "execution_count": null,
      "outputs": []
    },
    {
      "cell_type": "code",
      "source": [
        "epochs = 5\n",
        "\n",
        "model_trained_focal_loss = train_model(model, criterion, optimizer, num_epochs = epochs)"
      ],
      "metadata": {
        "colab": {
          "base_uri": "https://localhost:8080/",
          "height": 396
        },
        "id": "Na5eWrIRFfHZ",
        "outputId": "f186ea27-0997-4532-8906-86267c5afcf3"
      },
      "execution_count": null,
      "outputs": [
        {
          "output_type": "stream",
          "name": "stdout",
          "text": [
            "Epoch 1/5\n",
            "----------\n"
          ]
        },
        {
          "output_type": "error",
          "ename": "RuntimeError",
          "evalue": "ignored",
          "traceback": [
            "\u001b[0;31m---------------------------------------------------------------------------\u001b[0m",
            "\u001b[0;31mRuntimeError\u001b[0m                              Traceback (most recent call last)",
            "\u001b[0;32m<ipython-input-25-00655987cf6f>\u001b[0m in \u001b[0;36m<module>\u001b[0;34m\u001b[0m\n\u001b[1;32m      1\u001b[0m \u001b[0mepochs\u001b[0m \u001b[0;34m=\u001b[0m \u001b[0;36m5\u001b[0m\u001b[0;34m\u001b[0m\u001b[0;34m\u001b[0m\u001b[0m\n\u001b[1;32m      2\u001b[0m \u001b[0;34m\u001b[0m\u001b[0m\n\u001b[0;32m----> 3\u001b[0;31m \u001b[0mmodel_trained_focal_loss\u001b[0m \u001b[0;34m=\u001b[0m \u001b[0mtrain_model\u001b[0m\u001b[0;34m(\u001b[0m\u001b[0mmodel\u001b[0m\u001b[0;34m,\u001b[0m \u001b[0mcriterion\u001b[0m\u001b[0;34m,\u001b[0m \u001b[0moptimizer\u001b[0m\u001b[0;34m,\u001b[0m \u001b[0mnum_epochs\u001b[0m \u001b[0;34m=\u001b[0m \u001b[0mepochs\u001b[0m\u001b[0;34m)\u001b[0m\u001b[0;34m\u001b[0m\u001b[0;34m\u001b[0m\u001b[0m\n\u001b[0m",
            "\u001b[0;32m<ipython-input-24-023be83ae422>\u001b[0m in \u001b[0;36mtrain_model\u001b[0;34m(model, criterion, optimizer, num_epochs)\u001b[0m\n\u001b[1;32m     35\u001b[0m                 \u001b[0moutputs\u001b[0m \u001b[0;34m=\u001b[0m \u001b[0mmodel\u001b[0m\u001b[0;34m(\u001b[0m\u001b[0minputs\u001b[0m\u001b[0;34m)\u001b[0m\u001b[0;34m\u001b[0m\u001b[0;34m\u001b[0m\u001b[0m\n\u001b[1;32m     36\u001b[0m                 \u001b[0moutputs\u001b[0m \u001b[0;34m=\u001b[0m \u001b[0mtorch\u001b[0m\u001b[0;34m.\u001b[0m\u001b[0msqueeze\u001b[0m\u001b[0;34m(\u001b[0m\u001b[0moutputs\u001b[0m\u001b[0;34m)\u001b[0m\u001b[0;34m\u001b[0m\u001b[0;34m\u001b[0m\u001b[0m\n\u001b[0;32m---> 37\u001b[0;31m                 \u001b[0mloss\u001b[0m \u001b[0;34m=\u001b[0m \u001b[0mcriterion\u001b[0m\u001b[0;34m(\u001b[0m\u001b[0moutputs\u001b[0m\u001b[0;34m,\u001b[0m \u001b[0mtargets\u001b[0m\u001b[0;34m)\u001b[0m\u001b[0;34m\u001b[0m\u001b[0;34m\u001b[0m\u001b[0m\n\u001b[0m\u001b[1;32m     38\u001b[0m \u001b[0;34m\u001b[0m\u001b[0m\n\u001b[1;32m     39\u001b[0m                 \u001b[0;32mif\u001b[0m \u001b[0mphase\u001b[0m \u001b[0;34m==\u001b[0m \u001b[0;34m'train'\u001b[0m\u001b[0;34m:\u001b[0m\u001b[0;34m\u001b[0m\u001b[0;34m\u001b[0m\u001b[0m\n",
            "\u001b[0;32m/usr/local/lib/python3.8/dist-packages/torch/nn/modules/module.py\u001b[0m in \u001b[0;36m_call_impl\u001b[0;34m(self, *input, **kwargs)\u001b[0m\n\u001b[1;32m   1192\u001b[0m         if not (self._backward_hooks or self._forward_hooks or self._forward_pre_hooks or _global_backward_hooks\n\u001b[1;32m   1193\u001b[0m                 or _global_forward_hooks or _global_forward_pre_hooks):\n\u001b[0;32m-> 1194\u001b[0;31m             \u001b[0;32mreturn\u001b[0m \u001b[0mforward_call\u001b[0m\u001b[0;34m(\u001b[0m\u001b[0;34m*\u001b[0m\u001b[0minput\u001b[0m\u001b[0;34m,\u001b[0m \u001b[0;34m**\u001b[0m\u001b[0mkwargs\u001b[0m\u001b[0;34m)\u001b[0m\u001b[0;34m\u001b[0m\u001b[0;34m\u001b[0m\u001b[0m\n\u001b[0m\u001b[1;32m   1195\u001b[0m         \u001b[0;31m# Do not call functions when jit is used\u001b[0m\u001b[0;34m\u001b[0m\u001b[0;34m\u001b[0m\u001b[0;34m\u001b[0m\u001b[0m\n\u001b[1;32m   1196\u001b[0m         \u001b[0mfull_backward_hooks\u001b[0m\u001b[0;34m,\u001b[0m \u001b[0mnon_full_backward_hooks\u001b[0m \u001b[0;34m=\u001b[0m \u001b[0;34m[\u001b[0m\u001b[0;34m]\u001b[0m\u001b[0;34m,\u001b[0m \u001b[0;34m[\u001b[0m\u001b[0;34m]\u001b[0m\u001b[0;34m\u001b[0m\u001b[0;34m\u001b[0m\u001b[0m\n",
            "\u001b[0;32m<ipython-input-21-5b94717c5165>\u001b[0m in \u001b[0;36mforward\u001b[0;34m(self, inputs, targets)\u001b[0m\n\u001b[1;32m      7\u001b[0m \u001b[0;34m\u001b[0m\u001b[0m\n\u001b[1;32m      8\u001b[0m     \u001b[0;32mdef\u001b[0m \u001b[0mforward\u001b[0m\u001b[0;34m(\u001b[0m\u001b[0mself\u001b[0m\u001b[0;34m,\u001b[0m \u001b[0minputs\u001b[0m\u001b[0;34m,\u001b[0m \u001b[0mtargets\u001b[0m\u001b[0;34m)\u001b[0m\u001b[0;34m:\u001b[0m\u001b[0;34m\u001b[0m\u001b[0;34m\u001b[0m\u001b[0m\n\u001b[0;32m----> 9\u001b[0;31m         \u001b[0mCE_loss\u001b[0m \u001b[0;34m=\u001b[0m \u001b[0mnn\u001b[0m\u001b[0;34m.\u001b[0m\u001b[0mCrossEntropyLoss\u001b[0m\u001b[0;34m(\u001b[0m\u001b[0minputs\u001b[0m\u001b[0;34m,\u001b[0m \u001b[0mtargets\u001b[0m\u001b[0;34m,\u001b[0m \u001b[0mreduction\u001b[0m\u001b[0;34m=\u001b[0m\u001b[0;34m'none'\u001b[0m\u001b[0;34m)\u001b[0m\u001b[0;34m\u001b[0m\u001b[0;34m\u001b[0m\u001b[0m\n\u001b[0m\u001b[1;32m     10\u001b[0m         \u001b[0mtargets\u001b[0m \u001b[0;34m=\u001b[0m \u001b[0mtargets\u001b[0m\u001b[0;34m.\u001b[0m\u001b[0mtype\u001b[0m\u001b[0;34m(\u001b[0m\u001b[0mtorch\u001b[0m\u001b[0;34m.\u001b[0m\u001b[0mlong\u001b[0m\u001b[0;34m)\u001b[0m\u001b[0;34m\u001b[0m\u001b[0;34m\u001b[0m\u001b[0m\n\u001b[1;32m     11\u001b[0m         \u001b[0mat\u001b[0m \u001b[0;34m=\u001b[0m \u001b[0mself\u001b[0m\u001b[0;34m.\u001b[0m\u001b[0malpha\u001b[0m\u001b[0;34m.\u001b[0m\u001b[0mgather\u001b[0m\u001b[0;34m(\u001b[0m\u001b[0;36m0\u001b[0m\u001b[0;34m,\u001b[0m \u001b[0mtargets\u001b[0m\u001b[0;34m.\u001b[0m\u001b[0mdata\u001b[0m\u001b[0;34m.\u001b[0m\u001b[0mview\u001b[0m\u001b[0;34m(\u001b[0m\u001b[0;34m-\u001b[0m\u001b[0;36m1\u001b[0m\u001b[0;34m)\u001b[0m\u001b[0;34m)\u001b[0m\u001b[0;34m\u001b[0m\u001b[0;34m\u001b[0m\u001b[0m\n",
            "\u001b[0;32m/usr/local/lib/python3.8/dist-packages/torch/nn/modules/loss.py\u001b[0m in \u001b[0;36m__init__\u001b[0;34m(self, weight, size_average, ignore_index, reduce, reduction, label_smoothing)\u001b[0m\n\u001b[1;32m   1167\u001b[0m     def __init__(self, weight: Optional[Tensor] = None, size_average=None, ignore_index: int = -100,\n\u001b[1;32m   1168\u001b[0m                  reduce=None, reduction: str = 'mean', label_smoothing: float = 0.0) -> None:\n\u001b[0;32m-> 1169\u001b[0;31m         \u001b[0msuper\u001b[0m\u001b[0;34m(\u001b[0m\u001b[0mCrossEntropyLoss\u001b[0m\u001b[0;34m,\u001b[0m \u001b[0mself\u001b[0m\u001b[0;34m)\u001b[0m\u001b[0;34m.\u001b[0m\u001b[0m__init__\u001b[0m\u001b[0;34m(\u001b[0m\u001b[0mweight\u001b[0m\u001b[0;34m,\u001b[0m \u001b[0msize_average\u001b[0m\u001b[0;34m,\u001b[0m \u001b[0mreduce\u001b[0m\u001b[0;34m,\u001b[0m \u001b[0mreduction\u001b[0m\u001b[0;34m)\u001b[0m\u001b[0;34m\u001b[0m\u001b[0;34m\u001b[0m\u001b[0m\n\u001b[0m\u001b[1;32m   1170\u001b[0m         \u001b[0mself\u001b[0m\u001b[0;34m.\u001b[0m\u001b[0mignore_index\u001b[0m \u001b[0;34m=\u001b[0m \u001b[0mignore_index\u001b[0m\u001b[0;34m\u001b[0m\u001b[0;34m\u001b[0m\u001b[0m\n\u001b[1;32m   1171\u001b[0m         \u001b[0mself\u001b[0m\u001b[0;34m.\u001b[0m\u001b[0mlabel_smoothing\u001b[0m \u001b[0;34m=\u001b[0m \u001b[0mlabel_smoothing\u001b[0m\u001b[0;34m\u001b[0m\u001b[0;34m\u001b[0m\u001b[0m\n",
            "\u001b[0;32m/usr/local/lib/python3.8/dist-packages/torch/nn/modules/loss.py\u001b[0m in \u001b[0;36m__init__\u001b[0;34m(self, weight, size_average, reduce, reduction)\u001b[0m\n\u001b[1;32m     28\u001b[0m \u001b[0;32mclass\u001b[0m \u001b[0m_WeightedLoss\u001b[0m\u001b[0;34m(\u001b[0m\u001b[0m_Loss\u001b[0m\u001b[0;34m)\u001b[0m\u001b[0;34m:\u001b[0m\u001b[0;34m\u001b[0m\u001b[0;34m\u001b[0m\u001b[0m\n\u001b[1;32m     29\u001b[0m     \u001b[0;32mdef\u001b[0m \u001b[0m__init__\u001b[0m\u001b[0;34m(\u001b[0m\u001b[0mself\u001b[0m\u001b[0;34m,\u001b[0m \u001b[0mweight\u001b[0m\u001b[0;34m:\u001b[0m \u001b[0mOptional\u001b[0m\u001b[0;34m[\u001b[0m\u001b[0mTensor\u001b[0m\u001b[0;34m]\u001b[0m \u001b[0;34m=\u001b[0m \u001b[0;32mNone\u001b[0m\u001b[0;34m,\u001b[0m \u001b[0msize_average\u001b[0m\u001b[0;34m=\u001b[0m\u001b[0;32mNone\u001b[0m\u001b[0;34m,\u001b[0m \u001b[0mreduce\u001b[0m\u001b[0;34m=\u001b[0m\u001b[0;32mNone\u001b[0m\u001b[0;34m,\u001b[0m \u001b[0mreduction\u001b[0m\u001b[0;34m:\u001b[0m \u001b[0mstr\u001b[0m \u001b[0;34m=\u001b[0m \u001b[0;34m'mean'\u001b[0m\u001b[0;34m)\u001b[0m \u001b[0;34m->\u001b[0m \u001b[0;32mNone\u001b[0m\u001b[0;34m:\u001b[0m\u001b[0;34m\u001b[0m\u001b[0;34m\u001b[0m\u001b[0m\n\u001b[0;32m---> 30\u001b[0;31m         \u001b[0msuper\u001b[0m\u001b[0;34m(\u001b[0m\u001b[0m_WeightedLoss\u001b[0m\u001b[0;34m,\u001b[0m \u001b[0mself\u001b[0m\u001b[0;34m)\u001b[0m\u001b[0;34m.\u001b[0m\u001b[0m__init__\u001b[0m\u001b[0;34m(\u001b[0m\u001b[0msize_average\u001b[0m\u001b[0;34m,\u001b[0m \u001b[0mreduce\u001b[0m\u001b[0;34m,\u001b[0m \u001b[0mreduction\u001b[0m\u001b[0;34m)\u001b[0m\u001b[0;34m\u001b[0m\u001b[0;34m\u001b[0m\u001b[0m\n\u001b[0m\u001b[1;32m     31\u001b[0m         \u001b[0mself\u001b[0m\u001b[0;34m.\u001b[0m\u001b[0mregister_buffer\u001b[0m\u001b[0;34m(\u001b[0m\u001b[0;34m'weight'\u001b[0m\u001b[0;34m,\u001b[0m \u001b[0mweight\u001b[0m\u001b[0;34m)\u001b[0m\u001b[0;34m\u001b[0m\u001b[0;34m\u001b[0m\u001b[0m\n\u001b[1;32m     32\u001b[0m         \u001b[0mself\u001b[0m\u001b[0;34m.\u001b[0m\u001b[0mweight\u001b[0m\u001b[0;34m:\u001b[0m \u001b[0mOptional\u001b[0m\u001b[0;34m[\u001b[0m\u001b[0mTensor\u001b[0m\u001b[0;34m]\u001b[0m\u001b[0;34m\u001b[0m\u001b[0;34m\u001b[0m\u001b[0m\n",
            "\u001b[0;32m/usr/local/lib/python3.8/dist-packages/torch/nn/modules/loss.py\u001b[0m in \u001b[0;36m__init__\u001b[0;34m(self, size_average, reduce, reduction)\u001b[0m\n\u001b[1;32m     21\u001b[0m         \u001b[0msuper\u001b[0m\u001b[0;34m(\u001b[0m\u001b[0m_Loss\u001b[0m\u001b[0;34m,\u001b[0m \u001b[0mself\u001b[0m\u001b[0;34m)\u001b[0m\u001b[0;34m.\u001b[0m\u001b[0m__init__\u001b[0m\u001b[0;34m(\u001b[0m\u001b[0;34m)\u001b[0m\u001b[0;34m\u001b[0m\u001b[0;34m\u001b[0m\u001b[0m\n\u001b[1;32m     22\u001b[0m         \u001b[0;32mif\u001b[0m \u001b[0msize_average\u001b[0m \u001b[0;32mis\u001b[0m \u001b[0;32mnot\u001b[0m \u001b[0;32mNone\u001b[0m \u001b[0;32mor\u001b[0m \u001b[0mreduce\u001b[0m \u001b[0;32mis\u001b[0m \u001b[0;32mnot\u001b[0m \u001b[0;32mNone\u001b[0m\u001b[0;34m:\u001b[0m\u001b[0;34m\u001b[0m\u001b[0;34m\u001b[0m\u001b[0m\n\u001b[0;32m---> 23\u001b[0;31m             \u001b[0mself\u001b[0m\u001b[0;34m.\u001b[0m\u001b[0mreduction\u001b[0m\u001b[0;34m:\u001b[0m \u001b[0mstr\u001b[0m \u001b[0;34m=\u001b[0m \u001b[0m_Reduction\u001b[0m\u001b[0;34m.\u001b[0m\u001b[0mlegacy_get_string\u001b[0m\u001b[0;34m(\u001b[0m\u001b[0msize_average\u001b[0m\u001b[0;34m,\u001b[0m \u001b[0mreduce\u001b[0m\u001b[0;34m)\u001b[0m\u001b[0;34m\u001b[0m\u001b[0;34m\u001b[0m\u001b[0m\n\u001b[0m\u001b[1;32m     24\u001b[0m         \u001b[0;32melse\u001b[0m\u001b[0;34m:\u001b[0m\u001b[0;34m\u001b[0m\u001b[0;34m\u001b[0m\u001b[0m\n\u001b[1;32m     25\u001b[0m             \u001b[0mself\u001b[0m\u001b[0;34m.\u001b[0m\u001b[0mreduction\u001b[0m \u001b[0;34m=\u001b[0m \u001b[0mreduction\u001b[0m\u001b[0;34m\u001b[0m\u001b[0;34m\u001b[0m\u001b[0m\n",
            "\u001b[0;32m/usr/local/lib/python3.8/dist-packages/torch/nn/_reduction.py\u001b[0m in \u001b[0;36mlegacy_get_string\u001b[0;34m(size_average, reduce, emit_warning)\u001b[0m\n\u001b[1;32m     33\u001b[0m         \u001b[0mreduce\u001b[0m \u001b[0;34m=\u001b[0m \u001b[0;32mTrue\u001b[0m\u001b[0;34m\u001b[0m\u001b[0;34m\u001b[0m\u001b[0m\n\u001b[1;32m     34\u001b[0m \u001b[0;34m\u001b[0m\u001b[0m\n\u001b[0;32m---> 35\u001b[0;31m     \u001b[0;32mif\u001b[0m \u001b[0msize_average\u001b[0m \u001b[0;32mand\u001b[0m \u001b[0mreduce\u001b[0m\u001b[0;34m:\u001b[0m\u001b[0;34m\u001b[0m\u001b[0;34m\u001b[0m\u001b[0m\n\u001b[0m\u001b[1;32m     36\u001b[0m         \u001b[0mret\u001b[0m \u001b[0;34m=\u001b[0m \u001b[0;34m'mean'\u001b[0m\u001b[0;34m\u001b[0m\u001b[0;34m\u001b[0m\u001b[0m\n\u001b[1;32m     37\u001b[0m     \u001b[0;32melif\u001b[0m \u001b[0mreduce\u001b[0m\u001b[0;34m:\u001b[0m\u001b[0;34m\u001b[0m\u001b[0;34m\u001b[0m\u001b[0m\n",
            "\u001b[0;31mRuntimeError\u001b[0m: Boolean value of Tensor with more than one value is ambiguous"
          ]
        }
      ]
    },
    {
      "cell_type": "markdown",
      "source": [
        "# My model"
      ],
      "metadata": {
        "id": "GKLja---SuCa"
      }
    },
    {
      "cell_type": "code",
      "source": [
        "!pip install -qU braindecode"
      ],
      "metadata": {
        "colab": {
          "base_uri": "https://localhost:8080/"
        },
        "id": "58Teq8HxSv-E",
        "outputId": "ca75bd5f-7392-4a4a-a186-9efeed88dcf3"
      },
      "execution_count": null,
      "outputs": [
        {
          "output_type": "stream",
          "name": "stdout",
          "text": [
            "\u001b[2K     \u001b[90m━━━━━━━━━━━━━━━━━━━━━━━━━━━━━━━━━━━━━━\u001b[0m \u001b[32m184.4/184.4 KB\u001b[0m \u001b[31m14.3 MB/s\u001b[0m eta \u001b[36m0:00:00\u001b[0m\n",
            "\u001b[2K     \u001b[90m━━━━━━━━━━━━━━━━━━━━━━━━━━━━━━━━━━━━━━━━\u001b[0m \u001b[32m7.6/7.6 MB\u001b[0m \u001b[31m94.3 MB/s\u001b[0m eta \u001b[36m0:00:00\u001b[0m\n",
            "\u001b[2K     \u001b[90m━━━━━━━━━━━━━━━━━━━━━━━━━━━━━━━━━━━━━━\u001b[0m \u001b[32m193.7/193.7 KB\u001b[0m \u001b[31m25.8 MB/s\u001b[0m eta \u001b[36m0:00:00\u001b[0m\n",
            "\u001b[?25h"
          ]
        }
      ]
    },
    {
      "cell_type": "code",
      "source": [
        "from braindecode.models import ShallowFBCSPNet\n",
        "import torch\n",
        "\n",
        "device = \"cuda\" if torch.cuda.is_available() else \"cpu\"\n",
        "\n",
        "if device == \"cuda\":\n",
        "  torch.backends.cudnn.benchmark = True\n",
        "\n",
        "model = ShallowFBCSPNet(\n",
        "    in_chans = 200,\n",
        "    n_classes = 4,\n",
        "    input_window_samples = 140,\n",
        "    final_conv_length = \"auto\"\n",
        ")\n",
        "\n",
        "model = model.cuda()"
      ],
      "metadata": {
        "colab": {
          "base_uri": "https://localhost:8080/"
        },
        "id": "TMSaWVM4S1-W",
        "outputId": "e4ec40e9-8b24-46c8-849f-28f2da8ad5d8"
      },
      "execution_count": null,
      "outputs": [
        {
          "output_type": "execute_result",
          "data": {
            "text/plain": [
              "ShallowFBCSPNet(\n",
              "  (ensuredims): Ensure4d()\n",
              "  (dimshuffle): Expression(expression=transpose_time_to_spat) \n",
              "  (conv_time): Conv2d(1, 40, kernel_size=(25, 1), stride=(1, 1))\n",
              "  (conv_spat): Conv2d(40, 40, kernel_size=(1, 200), stride=(1, 1), bias=False)\n",
              "  (bnorm): BatchNorm2d(40, eps=1e-05, momentum=0.1, affine=True, track_running_stats=True)\n",
              "  (conv_nonlin_exp): Expression(expression=square) \n",
              "  (pool): AvgPool2d(kernel_size=(75, 1), stride=(15, 1), padding=0)\n",
              "  (pool_nonlin_exp): Expression(expression=safe_log) \n",
              "  (drop): Dropout(p=0.5, inplace=False)\n",
              "  (conv_classifier): Conv2d(40, 4, kernel_size=(3, 1), stride=(1, 1))\n",
              "  (softmax): LogSoftmax(dim=1)\n",
              "  (squeeze): Expression(expression=squeeze_final_output) \n",
              ")"
            ]
          },
          "metadata": {},
          "execution_count": 2
        }
      ]
    },
    {
      "cell_type": "code",
      "source": [
        "import skorch"
      ],
      "metadata": {
        "id": "yJyhRSAn9322"
      },
      "execution_count": null,
      "outputs": []
    },
    {
      "cell_type": "code",
      "source": [
        "from skorch.callbacks import LRScheduler\n",
        "from braindecode import EEGClassifier\n",
        "\n",
        "lr = 0.0625 * 0.01\n",
        "weight_decay = 0\n",
        "batch_size = 64\n",
        "n_epochs = 4\n",
        "\n",
        "clf = EEGClassifier(\n",
        "    model,\n",
        "    criterion = torch.nn.NLLLoss,\n",
        "    optimizer = torch.optim.AdamW,\n",
        "    train_split=,\n",
        "    optimizer__lr=lr,\n",
        "    optimizer__weight_decay=weight_decay,\n",
        "    batch_size=batch_size,\n",
        "    callbacks=[\n",
        "        \"accuracy\",\n",
        "        (\"lr_scheduler\", LRScheduler(\"CosineAnnealingLR\", T_max=n_epochs - 1)),\n",
        "    ],\n",
        "    device=device,\n",
        ")\n",
        "\n",
        "clf.fit(train_subset, y=None, epochs=n_epochs)\n",
        "\n",
        "# score the Model after training (optional)\n",
        "y_test = test_set.get_metadata().target\n",
        "test_acc = clf.score(test_set, y=y_test)\n",
        "print(f\"Test acc: {(test_acc * 100):.2f}%\")"
      ],
      "metadata": {
        "id": "Uy1an9-eU1Wh"
      },
      "execution_count": null,
      "outputs": []
    }
  ],
  "metadata": {
    "colab": {
      "provenance": [],
      "collapsed_sections": [
        "unFN9hXviMXP",
        "Kekl_vuDYfRn",
        "GKLja---SuCa"
      ],
      "authorship_tag": "ABX9TyO0W5SlO3GMUPKDnan3t54V",
      "include_colab_link": true
    },
    "kernelspec": {
      "display_name": "Python 3",
      "name": "python3"
    },
    "language_info": {
      "name": "python"
    },
    "gpuClass": "standard"
  },
  "nbformat": 4,
  "nbformat_minor": 0
}
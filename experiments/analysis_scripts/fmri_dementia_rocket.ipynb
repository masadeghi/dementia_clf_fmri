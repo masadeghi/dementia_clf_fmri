{
  "nbformat": 4,
  "nbformat_minor": 0,
  "metadata": {
    "colab": {
      "provenance": [],
      "authorship_tag": "ABX9TyNMwThun4VF6bJkITGQbXDp",
      "include_colab_link": true
    },
    "kernelspec": {
      "name": "python3",
      "display_name": "Python 3"
    },
    "language_info": {
      "name": "python"
    }
  },
  "cells": [
    {
      "cell_type": "markdown",
      "metadata": {
        "id": "view-in-github",
        "colab_type": "text"
      },
      "source": [
        "<a href=\"https://colab.research.google.com/github/masadeghi/dementia_clf_fmri/blob/main/experiments/analysis_scripts/fmri_dementia_rocket.ipynb\" target=\"_parent\"><img src=\"https://colab.research.google.com/assets/colab-badge.svg\" alt=\"Open In Colab\"/></a>"
      ]
    },
    {
      "cell_type": "markdown",
      "source": [
        "# Import dependencies"
      ],
      "metadata": {
        "id": "spjBe9dU-MCP"
      }
    },
    {
      "cell_type": "code",
      "execution_count": null,
      "metadata": {
        "colab": {
          "base_uri": "https://localhost:8080/"
        },
        "id": "okya3V6w91Lh",
        "outputId": "e143f32d-03aa-4c5e-eb02-761d18b620fc"
      },
      "outputs": [
        {
          "output_type": "stream",
          "name": "stdout",
          "text": [
            "\u001b[2K     \u001b[90m━━━━━━━━━━━━━━━━━━━━━━━━━━━━━━━━━━━━━━━\u001b[0m \u001b[32m272.3/272.3 KB\u001b[0m \u001b[31m9.6 MB/s\u001b[0m eta \u001b[36m0:00:00\u001b[0m\n",
            "\u001b[2K     \u001b[90m━━━━━━━━━━━━━━━━━━━━━━━━━━━━━━━━━━━━━━━━\u001b[0m \u001b[32m2.5/2.5 MB\u001b[0m \u001b[31m47.7 MB/s\u001b[0m eta \u001b[36m0:00:00\u001b[0m\n",
            "\u001b[?25h"
          ]
        }
      ],
      "source": [
        "import os\n",
        "\n",
        "import numpy as np\n",
        "import pandas as pd\n",
        "import matplotlib.pyplot as plt\n",
        "\n",
        "from sklearn.model_selection import train_test_split\n",
        "from sklearn.metrics import f1_score, roc_auc_score, accuracy_score, balanced_accuracy_score\n",
        "\n",
        "!pip install -qU focal_loss_torch\n",
        "from focal_loss.focal_loss import FocalLoss\n",
        "\n",
        "!pip install -qU tsai\n",
        "from tsai.all import *"
      ]
    },
    {
      "cell_type": "code",
      "source": [
        "my_setup()"
      ],
      "metadata": {
        "colab": {
          "base_uri": "https://localhost:8080/"
        },
        "id": "vYZ-bR1P9-hd",
        "outputId": "b19160b1-4cb3-4a4f-a75e-6d62225980d2"
      },
      "execution_count": null,
      "outputs": [
        {
          "output_type": "stream",
          "name": "stdout",
          "text": [
            "os              : Linux-5.10.147+-x86_64-with-glibc2.29\n",
            "python          : 3.8.10\n",
            "tsai            : 0.3.4\n",
            "fastai          : 2.7.10\n",
            "fastcore        : 1.5.27\n",
            "torch           : 1.13.1+cu116\n",
            "device          : cpu\n",
            "cpu cores       : 1\n",
            "threads per cpu : 2\n",
            "RAM             : 12.68 GB\n",
            "GPU memory      : N/A\n"
          ]
        }
      ]
    },
    {
      "cell_type": "markdown",
      "source": [
        "# Import data"
      ],
      "metadata": {
        "id": "wDfPcy-s-Axy"
      }
    },
    {
      "cell_type": "code",
      "source": [
        "# Mount Google drive\n",
        "from google.colab import drive\n",
        "\n",
        "drive.mount('/content/gdrive')"
      ],
      "metadata": {
        "colab": {
          "base_uri": "https://localhost:8080/"
        },
        "id": "oFopRony-ORN",
        "outputId": "fec5de74-1ef9-49d1-ecfb-6f00d5bb89b4"
      },
      "execution_count": null,
      "outputs": [
        {
          "output_type": "stream",
          "name": "stdout",
          "text": [
            "Mounted at /content/gdrive\n"
          ]
        }
      ]
    },
    {
      "cell_type": "code",
      "source": [
        "data_path = \"/content/gdrive/MyDrive/Coding projects/resting_fmri_dementia\"\n",
        "\n",
        "labels = pd.read_csv(os.path.join(data_path, 'labels_new.csv'))"
      ],
      "metadata": {
        "id": "LMJAVzRu-QXO"
      },
      "execution_count": null,
      "outputs": []
    },
    {
      "cell_type": "markdown",
      "source": [
        "# Train/val/test split"
      ],
      "metadata": {
        "id": "BeQF-g-M-XTU"
      }
    },
    {
      "cell_type": "code",
      "source": [
        "# Splitting out the test set\n",
        "labels_train_val, labels_test = train_test_split(labels, test_size = 0.1,\n",
        "                                            shuffle = True, random_state = 42,\n",
        "                                            stratify = labels['label'])\n",
        "\n",
        "# Train/val split\n",
        "labels_train, labels_val = train_test_split(labels_train_val, test_size = 0.2,\n",
        "                                            shuffle = True, random_state = 42,\n",
        "                                            stratify = labels_train_val['label'])"
      ],
      "metadata": {
        "id": "xjpCikGF-Y7S"
      },
      "execution_count": null,
      "outputs": []
    },
    {
      "cell_type": "code",
      "source": [
        "labels_train_val = labels_train_val.reset_index()\n",
        "labels_train = labels_train.reset_index()\n",
        "labels_val = labels_val.reset_index()\n",
        "labels_test = labels_test.reset_index()"
      ],
      "metadata": {
        "id": "WnptFVOg-ev6"
      },
      "execution_count": null,
      "outputs": []
    },
    {
      "cell_type": "code",
      "source": [
        "# labels_train_val.to_csv(os.path.join(data_path, 'labels_train_val.csv'), header = True)\n",
        "# labels_test.to_csv(os.path.join(data_path, 'labels_test.csv'), header = True)\n",
        "# labels_train.to_csv(os.path.join(data_path, 'labels_train.csv'), header = True)\n",
        "# labels_val.to_csv(os.path.join(data_path, 'labels_val.csv'), header = True)"
      ],
      "metadata": {
        "id": "Hp3UJWbR-ghZ"
      },
      "execution_count": null,
      "outputs": []
    },
    {
      "cell_type": "markdown",
      "source": [
        "# Create datasets"
      ],
      "metadata": {
        "id": "njQr_xL3-pDJ"
      }
    },
    {
      "cell_type": "code",
      "source": [
        "def get_datasets(data_csv):\n",
        "\n",
        "  X = np.empty((len(data_csv), 200, 140))\n",
        "  y = np.empty(len(data_csv))\n",
        "\n",
        "  for i, row in data_csv.iterrows():\n",
        "    matrix_name = row['matrix']\n",
        "    matrix_label = row['label']\n",
        "    matrix_path = os.path.join(data_path, 'data_dir', matrix_name)\n",
        "    matrix_arr = np.genfromtxt(matrix_path, delimiter = ',')\n",
        "    matrix_arr = matrix_arr[:200, :140]\n",
        "    X[i] = matrix_arr\n",
        "    y[i] = matrix_label\n",
        "\n",
        "  return X, y"
      ],
      "metadata": {
        "id": "Q1AWP4bu-qsa"
      },
      "execution_count": null,
      "outputs": []
    },
    {
      "cell_type": "code",
      "source": [
        "X, y = get_datasets(labels_train_val)\n",
        "X_train, y_train = get_datasets(labels_train)\n",
        "X_val, y_val = get_datasets(labels_val)\n",
        "X_test, y_test = get_datasets(labels_test)"
      ],
      "metadata": {
        "id": "S6nafPdp-u_8"
      },
      "execution_count": null,
      "outputs": []
    },
    {
      "cell_type": "code",
      "source": [
        "# If training train/val sets together:\n",
        "splits = get_splits(y, valid_size = .2, stratify = True, random_state = 42, shuffle = True)"
      ],
      "metadata": {
        "colab": {
          "base_uri": "https://localhost:8080/",
          "height": 91
        },
        "id": "L1RE07Lq_Uck",
        "outputId": "1c45e417-ac43-4be6-e83d-f245230b9a27"
      },
      "execution_count": null,
      "outputs": [
        {
          "output_type": "display_data",
          "data": {
            "text/plain": [
              "<Figure size 1152x36 with 1 Axes>"
            ],
            "image/png": "[encoded data removed]"
          },
          "metadata": {
            "needs_background": "light"
          }
        }
      ]
    },
    {
      "cell_type": "code",
      "source": [
        "class_map = {\n",
        "    1: 'AD',\n",
        "    2: 'FTD',\n",
        "    3: 'HC',\n",
        "    4: 'MCI'\n",
        "}\n",
        "\n",
        "labeler = ReLabeler(class_map)\n",
        "y = labeler(y)\n",
        "y_train = labeler(y_train)\n",
        "y_val = labeler(y_val)\n",
        "y_test = labeler(y_test)"
      ],
      "metadata": {
        "id": "9AXCiFN2_ZvP"
      },
      "execution_count": null,
      "outputs": []
    },
    {
      "cell_type": "markdown",
      "source": [
        "# Generate features"
      ],
      "metadata": {
        "id": "XMb9jYst_BsU"
      }
    },
    {
      "cell_type": "code",
      "source": [
        "tfms  = [None, [Categorize()]]\n",
        "batch_tfms = [TSStandardize(by_sample=True)]\n",
        "dls = get_ts_dls(X, y, splits = splits,\n",
        "                 tfms = tfms, drop_last = False,\n",
        "                 shuffle_train = False, batch_tfms = batch_tfms,\n",
        "                 bs=10_000)"
      ],
      "metadata": {
        "id": "7oWVcBnz-6bD"
      },
      "execution_count": null,
      "outputs": []
    },
    {
      "cell_type": "code",
      "source": [
        "model = build_ts_model(ROCKET, dls=dls)"
      ],
      "metadata": {
        "id": "uCg50mmEAsiP"
      },
      "execution_count": null,
      "outputs": []
    },
    {
      "cell_type": "code",
      "source": [
        "X_train_rocket, y_train_rocket = create_rocket_features(dls.train, model)\n",
        "X_valid_rocket, y_valid_rocket = create_rocket_features(dls.valid, model)\n",
        "X_train_rocket.shape, X_valid_rocket.shape"
      ],
      "metadata": {
        "colab": {
          "base_uri": "https://localhost:8080/"
        },
        "id": "A0MxX3t1AgRT",
        "outputId": "4ceba90d-2839-4121-880f-210182325ab8"
      },
      "execution_count": null,
      "outputs": [
        {
          "output_type": "execute_result",
          "data": {
            "text/plain": [
              "((948, 20000), (237, 20000))"
            ]
          },
          "metadata": {},
          "execution_count": 16
        }
      ]
    },
    {
      "cell_type": "markdown",
      "source": [
        "# Classify features"
      ],
      "metadata": {
        "id": "8rNzhRvCBJQz"
      }
    },
    {
      "cell_type": "code",
      "source": [
        "from sklearn.linear_model import RidgeClassifierCV\n",
        "ridge = RidgeClassifierCV(alphas = np.logspace(-8, 8, 17), normalize=True)\n",
        "ridge.fit(X_train_rocket, y_train_rocket)\n",
        "print(f'alpha: {ridge.alpha_:.2E}  train: {ridge.score(X_train_rocket, y_train_rocket):.5f}  valid: {ridge.score(X_valid_rocket, y_valid_rocket):.5f}')"
      ],
      "metadata": {
        "colab": {
          "base_uri": "https://localhost:8080/"
        },
        "id": "Y05Z9Vv6AzZJ",
        "outputId": "999eb1e0-8451-4cf9-ad31-80b62b546cfe"
      },
      "execution_count": null,
      "outputs": [
        {
          "output_type": "stream",
          "name": "stdout",
          "text": [
            "alpha: 1.00E+01  train: 0.98840  valid: 0.63291\n"
          ]
        }
      ]
    }
  ]
}
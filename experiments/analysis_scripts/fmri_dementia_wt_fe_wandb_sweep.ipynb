{
  "cells": [
    {
      "cell_type": "markdown",
      "metadata": {
        "id": "view-in-github",
        "colab_type": "text"
      },
      "source": [
        "<a href=\"https://colab.research.google.com/github/masadeghi/dementia_clf_fmri/blob/main/experiments/analysis_scripts/fmri_dementia_wt_fe_wandb_sweep.ipynb\" target=\"_parent\"><img src=\"https://colab.research.google.com/assets/colab-badge.svg\" alt=\"Open In Colab\"/></a>"
      ]
    },
    {
      "cell_type": "markdown",
      "metadata": {
        "id": "QFpT1OR5Wb15"
      },
      "source": [
        "# Import dependencies"
      ]
    },
    {
      "cell_type": "code",
      "execution_count": null,
      "metadata": {
        "colab": {
          "base_uri": "https://localhost:8080/"
        },
        "id": "Sr9lsBhjWL_G",
        "outputId": "8c30484b-c4ad-4ed1-eb3d-1f4872af4b60"
      },
      "outputs": [
        {
          "name": "stdout",
          "output_type": "stream",
          "text": [
            "\u001b[2K     \u001b[90m━━━━━━━━━━━━━━━━━━━━━━━━━━━━━━━━━━━━━━\u001b[0m \u001b[32m298.9/298.9 kB\u001b[0m \u001b[31m15.6 MB/s\u001b[0m eta \u001b[36m0:00:00\u001b[0m\n",
            "\u001b[2K     \u001b[90m━━━━━━━━━━━━━━━━━━━━━━━━━━━━━━━━━━━━━━━━\u001b[0m \u001b[32m2.5/2.5 MB\u001b[0m \u001b[31m55.0 MB/s\u001b[0m eta \u001b[36m0:00:00\u001b[0m\n",
            "\u001b[2K     \u001b[90m━━━━━━━━━━━━━━━━━━━━━━━━━━━━━━━━━━━━━━━━\u001b[0m \u001b[32m2.1/2.1 MB\u001b[0m \u001b[31m47.5 MB/s\u001b[0m eta \u001b[36m0:00:00\u001b[0m\n",
            "\u001b[2K     \u001b[90m━━━━━━━━━━━━━━━━━━━━━━━━━━━━━━━━━━━━━━\u001b[0m \u001b[32m184.3/184.3 kB\u001b[0m \u001b[31m21.7 MB/s\u001b[0m eta \u001b[36m0:00:00\u001b[0m\n",
            "\u001b[2K     \u001b[90m━━━━━━━━━━━━━━━━━━━━━━━━━━━━━━━━━━━━━━\u001b[0m \u001b[32m209.4/209.4 kB\u001b[0m \u001b[31m21.7 MB/s\u001b[0m eta \u001b[36m0:00:00\u001b[0m\n",
            "\u001b[?25h  Preparing metadata (setup.py) ... \u001b[?25l\u001b[?25hdone\n",
            "\u001b[2K     \u001b[90m━━━━━━━━━━━━━━━━━━━━━━━━━━━━━━━━━━━━━━━━\u001b[0m \u001b[32m62.7/62.7 kB\u001b[0m \u001b[31m8.5 MB/s\u001b[0m eta \u001b[36m0:00:00\u001b[0m\n",
            "\u001b[?25h  Building wheel for pathtools (setup.py) ... \u001b[?25l\u001b[?25hdone\n"
          ]
        }
      ],
      "source": [
        "import os\n",
        "import gc\n",
        "from pprint import pprint\n",
        "\n",
        "import numpy as np\n",
        "import pandas as pd\n",
        "import matplotlib.pyplot as plt\n",
        "\n",
        "from sklearn.metrics import f1_score, accuracy_score, balanced_accuracy_score\n",
        "from sklearn.utils import class_weight\n",
        "\n",
        "# from joblib import Parallel, delayed\n",
        "\n",
        "!pip install -qU tsai\n",
        "from tsai.all import *\n",
        "from fastai.callback.tracker import EarlyStoppingCallback, TrackerCallback\n",
        "from fastai.vision.all import *\n",
        "\n",
        "!pip install -qU wandb\n",
        "import wandb\n",
        "# from wandb.fastai import WandbCallback"
      ]
    },
    {
      "cell_type": "code",
      "execution_count": null,
      "metadata": {
        "id": "PvKGdv3fWYIe"
      },
      "outputs": [],
      "source": [
        "device = torch.device(\"cuda\" if torch.cuda.is_available() else \"cpu\")"
      ]
    },
    {
      "cell_type": "markdown",
      "metadata": {
        "id": "C_HhR_EgbIhD"
      },
      "source": [
        "# Set working directory"
      ]
    },
    {
      "cell_type": "code",
      "execution_count": null,
      "metadata": {
        "colab": {
          "base_uri": "https://localhost:8080/"
        },
        "id": "oYqvLCGYWiHI",
        "outputId": "7b054fd9-2cd5-4030-de1e-555a62e8b830"
      },
      "outputs": [
        {
          "name": "stdout",
          "output_type": "stream",
          "text": [
            "Mounted at /content/gdrive\n"
          ]
        }
      ],
      "source": [
        "# Mount Google drive\n",
        "from google.colab import drive\n",
        "\n",
        "drive.mount('/content/gdrive')"
      ]
    },
    {
      "cell_type": "code",
      "execution_count": null,
      "metadata": {
        "colab": {
          "base_uri": "https://localhost:8080/"
        },
        "id": "MLzP4Nx7WkiY",
        "outputId": "5e8d38a8-b3e4-42d9-c934-fb10e928c45e"
      },
      "outputs": [
        {
          "name": "stdout",
          "output_type": "stream",
          "text": [
            "/content/gdrive/MyDrive/Coding projects/resting_fmri_dementia\n"
          ]
        }
      ],
      "source": [
        "%cd /content/gdrive/MyDrive/Coding projects/resting_fmri_dementia/"
      ]
    },
    {
      "cell_type": "markdown",
      "metadata": {
        "id": "onUAVxHz4FE5"
      },
      "source": [
        "# Setup Weights and Biases"
      ]
    },
    {
      "cell_type": "markdown",
      "metadata": {
        "id": "gXP8L-HD4iRJ"
      },
      "source": [
        "## Login to WandB"
      ]
    },
    {
      "cell_type": "code",
      "execution_count": null,
      "metadata": {
        "colab": {
          "background_save": true,
          "base_uri": "https://localhost:8080/"
        },
        "id": "4s6rzQ1C4Ht8",
        "outputId": "a23d9d1c-421f-46a7-b17e-ab98b69e7acd"
      },
      "outputs": [
        {
          "name": "stderr",
          "output_type": "stream",
          "text": [
            "\u001b[34m\u001b[1mwandb\u001b[0m: W&B API key is configured. Use \u001b[1m`wandb login --relogin`\u001b[0m to force relogin\n",
            "\u001b[34m\u001b[1mwandb\u001b[0m: \u001b[33mWARNING\u001b[0m If you're specifying your api key in code, ensure this code is not shared publicly.\n",
            "\u001b[34m\u001b[1mwandb\u001b[0m: \u001b[33mWARNING\u001b[0m Consider setting the WANDB_API_KEY environment variable, or running `wandb login` from the command line.\n",
            "\u001b[34m\u001b[1mwandb\u001b[0m: Appending key for api.wandb.ai to your netrc file: /root/.netrc\n"
          ]
        },
        {
          "data": {
            "text/plain": [
              "True"
            ]
          },
          "execution_count": 8,
          "metadata": {},
          "output_type": "execute_result"
        }
      ],
      "source": [
        "wandb.login(key = '####')"
      ]
    },
    {
      "cell_type": "markdown",
      "metadata": {
        "id": "Jci4AsUt4kZV"
      },
      "source": [
        "## Set up parameters dict and sweeep"
      ]
    },
    {
      "cell_type": "code",
      "execution_count": null,
      "metadata": {
        "colab": {
          "background_save": true,
          "base_uri": "https://localhost:8080/"
        },
        "id": "Fl_42JMJ4J3b",
        "outputId": "009db2da-2270-4250-95a4-8b2cc7b1e018"
      },
      "outputs": [
        {
          "name": "stdout",
          "output_type": "stream",
          "text": [
            "{'method': 'random',\n",
            " 'metric': {'goal': 'maximize', 'name': 'balanced_accuracy'},\n",
            " 'parameters': {'batch_size': {'values': [64, 128]},\n",
            "                'bidirectional': {'values': [True, False]},\n",
            "                'bn_cont': {'value': True},\n",
            "                'bn_final': {'value': False},\n",
            "                'cell_dropout': {'values': [0, 0.1]},\n",
            "                'desired_wvt_freqs': {'value': 'full'},\n",
            "                'features_ext': {'value': 'custom'},\n",
            "                'gamma': {'value': 2},\n",
            "                'hidden_size': {'values': [256, 512]},\n",
            "                'loss_function': {'value': None},\n",
            "                'lr_division': {'values': [25, 100, 300]},\n",
            "                'moms': {'values': [[0.99, 0.9, 0.99], [0.95, 0.85, 0.95]]},\n",
            "                'num_epochs': {'value': 30},\n",
            "                'optimizer': {'value': 'adam'},\n",
            "                'rnn_dropout': {'values': [0, 0.1]},\n",
            "                'rnn_layers': {'values': [2, 3]},\n",
            "                'se': {'values': [0, 8, 16]},\n",
            "                'seq_len': {'value': 140},\n",
            "                'shuffle': {'value': True},\n",
            "                'skip': {'values': [True, False]},\n",
            "                'tab_fc_dropout': {'values': [0.2, 0.3, 0.4]},\n",
            "                'tabular_layers': {'value': [200, 100]},\n",
            "                'train_bn': {'value': False},\n",
            "                'train_pct_start': {'value': 0.25},\n",
            "                'ts_fc_dropout': {'value': 0},\n",
            "                'use_bn': {'value': True},\n",
            "                'wd': {'values': [0.0001, 1e-05, 1e-06]},\n",
            "                'wd_bn_bias': {'value': False},\n",
            "                'wvt_max_freq': {'values': ['full', 'half']}}}\n"
          ]
        }
      ],
      "source": [
        "sweep_config = {\n",
        "    'method' : 'random'\n",
        "}\n",
        "\n",
        "metric = {\n",
        "    'name': 'balanced_accuracy',\n",
        "    'goal': 'maximize'\n",
        "}\n",
        "\n",
        "sweep_config['metric'] = metric\n",
        "\n",
        "parameters_dict = {\n",
        "    'wvt_max_freq': {'values': ['full', 'half']},                               # The frequency_range for the wavelet transformation.\n",
        "    'features_ext': {'value': 'custom'},                                           # The method of feature extraction used. {'values': ['custom', 'min']}\n",
        "    'desired_wvt_freqs': {'value': 'full'},                # Use all or only some of the wavelet-transformed data -- default: \"full\" // Options: full = all 20; stingy = [3, 4, 5, 6, 7, 8, 11, 12, 13, 15, 16, 17, 19]; lax = [1, 3, 4, 5, 6, 7, 8, 9, 11, 12, 13, 15, 16, 17, 19]\n",
        "    'batch_size': {'values': [64, 128]},                                        # batch_size for both time series and tabular data. -- default: [64]\n",
        "    'seq_len': {'value': 140},                                                  # seq_len for lstm layers.\n",
        "    'hidden_size': {'values': [256, 512]},                                      # The number of units in the fully connected layer that combines the outputs of the LSTM and the FCN is hidden_size * (1 + bidirectional) + 128 {the number of units of the last conv block}. -- default: 100\n",
        "    'rnn_layers': {'values': [2, 3]},                                           # Number of LSTM layers. -- default: 1\n",
        "    'cell_dropout': {'values': [0, 0.1]},                                       # Dropout within the LSTM layer. -- default: 0\n",
        "    'rnn_dropout': {'values': [0, 0.1]},                                        # Dropout within dropout layer that succeeds the LSTM layer. -- default: 0.8\n",
        "    'bidirectional': {'values': [True, False]},                                 # Whether the RNN is bidirectional or not. -- default: False\n",
        "    'ts_fc_dropout': {'value': 0},                                              # Dropout in the fully connected layer that combines the outputs of the LSTM and the FCN. -- default: 0.\n",
        "    'shuffle': {'value': True},                                                 # If True, LSTM receives data as [B, M, Q] and sequence_length is Q. If False, LSTM receives data as [B, Q, M] and sequence_length is M. -- default: True\n",
        "    'se': {'values': [0, 8, 16]},                                               # A reduction ratio of 16 was used in the original paper, while 0 removes the sqeeze-excite block from the model -- default: 0\n",
        "    'tabular_layers': {'value': [200, 100]},                                    # Number of layers in tabular model -- default: [200, 100]\n",
        "    'tab_fc_dropout': {'values': [0.2, 0.3, 0.4]},                              # Dropout in tabular model -- default: 0\n",
        "    'use_bn': {'value': True},                                                  # Batch normalization layers alongisde each linear layer in the tabular model. -- default: True\n",
        "    'bn_final': {'value': False},                                               # Batch normalization layer in the final layer of the tabular model. -- default: False\n",
        "    'bn_cont': {'value': True},                                                 # Batch normalization on continuous inputs. -- default: True\n",
        "    'skip': {'values': [True, False]},                                          # Skip function like resnet. -- default: False\n",
        "    'optimizer': {'value': \"adam\"},                                             # -- default: Adam // {'values': [\"adam\", \"sgd\"]}\n",
        "    'loss_function': {'value': None},                                           # -- default: None (gets CrossEntropyLoss from dls) // {'values': [None, \"focal_loss\"]}\n",
        "    'gamma': {'value': 2},                                                      # -- default: 2\n",
        "    'wd': {'values': [1e-4, 1e-5, 1e-6]},                                       # weight decay -- default: None\n",
        "    'wd_bn_bias': {'value': False},                                             # if wd is applied to BatchNorm layers and bias -- default: False\n",
        "    'train_bn': {'value': False},                                               # train_bn: whether or not to train BatchNorm layers -- default: True\n",
        "    'moms': {'values': [[0.99, 0.90, 0.99], [0.95, 0.85, 0.95]]},               # Momentums for the learning rate scheduler -- default: (0.85,0.95,0.85)\n",
        "    'num_epochs': {'value': 30},\n",
        "    'train_pct_start': {'value': 0.25},                                         # Percentage of data used initially for the fit_one_cycle.\n",
        "    'lr_division': {'values': [25, 100, 300]}                                   # The learning rate in fit_one_cycle ranges from lr_max/lr_division to lr_max.\n",
        "}\n",
        "\n",
        "sweep_config['parameters'] = parameters_dict\n",
        "\n",
        "pprint(sweep_config)"
      ]
    },
    {
      "cell_type": "code",
      "execution_count": null,
      "metadata": {
        "colab": {
          "base_uri": "https://localhost:8080/"
        },
        "id": "zLPNEnJU4P3S",
        "outputId": "6b833a25-37c1-465b-e92a-e78d7c0063d8"
      },
      "outputs": [
        {
          "name": "stderr",
          "output_type": "stream",
          "text": [
            "ERROR:wandb.sdk.internal.internal_api:500 response executing GraphQL.\n",
            "ERROR:wandb.sdk.internal.internal_api:{\"errors\":[{\"message\":\"An internal error occurred. Please contact support.\",\"path\":[\"upsertSweep\"]}],\"data\":{\"upsertSweep\":null}}\n",
            "\u001b[34m\u001b[1mwandb\u001b[0m: \u001b[32m\u001b[41mERROR\u001b[0m Error while calling W&B API: An internal error occurred. Please contact support. (<Response [500]>)\n",
            "\u001b[34m\u001b[1mwandb\u001b[0m: Network error (HTTPError), entering retry loop.\n"
          ]
        },
        {
          "name": "stdout",
          "output_type": "stream",
          "text": [
            "Create sweep with ID: czfo2xxb\n",
            "Sweep URL: https://wandb.ai/masadeghi6/fmri-dementia-wt-fe-multimodal-ten/sweeps/czfo2xxb\n"
          ]
        }
      ],
      "source": [
        "sweep_id = wandb.sweep(sweep_config, project = \"fmri-dementia-wt-fe-multimodal-ten\")"
      ]
    },
    {
      "cell_type": "markdown",
      "metadata": {
        "id": "Wmaxro8c4omq"
      },
      "source": [
        "## Training procedure"
      ]
    },
    {
      "cell_type": "code",
      "execution_count": null,
      "metadata": {
        "id": "1JEMHGEd4qdS"
      },
      "outputs": [],
      "source": [
        "def train(config = None):\n",
        "\n",
        "  with wandb.init(config = config):\n",
        "\n",
        "    config = wandb.config\n",
        "\n",
        "    X_cwt, features_df, y = load_data(config.wvt_max_freq, config.features_ext)\n",
        "\n",
        "    class_weights = torch.FloatTensor(class_weight.compute_class_weight('balanced', classes = np.unique(y), y = y))\n",
        "\n",
        "    loss_function = build_loss_function(config.loss_function, config.gamma, class_weights)\n",
        "\n",
        "    optimizer = build_optimizer(config.optimizer)\n",
        "\n",
        "    chosen_wvt_freqs = choose_wvt_freqs(config.desired_wvt_freqs)\n",
        "\n",
        "    ensemble_accuracy, ensemble_balanced_accuracy, ensemble_f1_score, actual_num_epochs, average_epochs = train_loop(\n",
        "        X_cwt, features_df, y,\n",
        "        desired_wvt_freqs = chosen_wvt_freqs,\n",
        "        batch_size = config.batch_size, # For the tabular and time series data loaders\n",
        "        sequence_length = config.seq_len, # For the MLSTM-FCN model on time series data:\n",
        "        n_units_in_hidden_layer = config.hidden_size,\n",
        "        num_rnn_layers = config.rnn_layers,\n",
        "        rnn_cell_dropout = config.cell_dropout,\n",
        "        rnn_whole_dropout = config.rnn_dropout,\n",
        "        if_bidirectional = config.bidirectional,\n",
        "        ts_fc_dropout = config.ts_fc_dropout,\n",
        "        if_shuffle = config.shuffle,\n",
        "        se_reduction_ratio = config.se,\n",
        "        n_units_in_tab_layers = config.tabular_layers, # The TabModel on features data\n",
        "        tab_fc_dropout = config.tab_fc_dropout,\n",
        "        if_use_tab_bn = config.use_bn,\n",
        "        if_bn_final = config.bn_final,\n",
        "        if_bn_cont = config.bn_cont,\n",
        "        if_skip = config.skip,\n",
        "        optimizer = optimizer, # The Learner\n",
        "        loss_function = loss_function,\n",
        "        weight_decay = config.wd,\n",
        "        if_wd_bn_bias = config.wd_bn_bias,\n",
        "        if_train_bn = config.train_bn,\n",
        "        momentums = config.moms,\n",
        "        num_epochs = config.num_epochs,\n",
        "        train_pct_start = config.train_pct_start, # fit_one_cycle\n",
        "        lr_division = config.lr_division\n",
        "        )\n",
        "\n",
        "    wandb.log({\"accuracy\": ensemble_accuracy, \"balanced_accuracy\": ensemble_balanced_accuracy, \"f1_score\": ensemble_f1_score, 'actual_num_epochs': actual_num_epochs, 'average_epochs': average_epochs})"
      ]
    },
    {
      "cell_type": "markdown",
      "metadata": {
        "id": "TU1UYJ4K6TsD"
      },
      "source": [
        "# Functions used in the training procedure"
      ]
    },
    {
      "cell_type": "markdown",
      "metadata": {
        "id": "vFxCgvKlOjOG"
      },
      "source": [
        "## Function for loading desired dataset"
      ]
    },
    {
      "cell_type": "code",
      "execution_count": null,
      "metadata": {
        "id": "5zbVS0nt6Vfu"
      },
      "outputs": [],
      "source": [
        "def load_data(wvt_max_freq, features_ext):\n",
        "\n",
        "  if wvt_max_freq == 'full':\n",
        "    X_cwt = np.load('wavelet_transformed_data/X_cwt_final_full.npy', mmap_mode = 'c')\n",
        "  elif wvt_max_freq == 'half':\n",
        "    X_cwt = np.load('wavelet_transformed_data/X_cwt_final_half.npy', mmap_mode = 'c')\n",
        "\n",
        "  if features_ext == 'min':\n",
        "    features_df = pd.read_csv('features_data/features_final_df_min.csv', index_col = False)\n",
        "    features_df['target'] = features_df['target'].astype('str')\n",
        "  elif features_ext == 'custom':\n",
        "    features_df = pd.read_csv('features_data/features_final_df_custom_mod.csv', index_col = False)\n",
        "    features_df['target'] = features_df['target'].astype('str')\n",
        "\n",
        "  y = np.load('scaled_datasets_as_np_arrays/y_final_train_val.npy', mmap_mode = 'c')\n",
        "\n",
        "  return X_cwt, features_df, y"
      ]
    },
    {
      "cell_type": "markdown",
      "metadata": {
        "id": "u-7qXekl6iGp"
      },
      "source": [
        "## Function for generating the loss function"
      ]
    },
    {
      "cell_type": "code",
      "execution_count": null,
      "metadata": {
        "id": "CwQKGAxFWIE2"
      },
      "outputs": [],
      "source": [
        "def build_loss_function(loss_function, gamma = None, class_weights = None):\n",
        "  if loss_function == None:\n",
        "    loss_functon = None\n",
        "  elif loss_function == \"focal_loss\":\n",
        "    loss_function = FocalLoss(gamma = gamma)\n",
        "  return loss_function"
      ]
    },
    {
      "cell_type": "markdown",
      "metadata": {
        "id": "MZHo9_-ZOnql"
      },
      "source": [
        "## Function for creating the optimizer"
      ]
    },
    {
      "cell_type": "code",
      "execution_count": null,
      "metadata": {
        "id": "MpTG5qztO0CK"
      },
      "outputs": [],
      "source": [
        "def build_optimizer(optimizer):\n",
        "  if optimizer == \"sgd\":\n",
        "    optimizer = fastai.optimizer.SGD\n",
        "  elif optimizer == \"adam\":\n",
        "    optimizer = fastai.optimizer.Adam\n",
        "  return optimizer"
      ]
    },
    {
      "cell_type": "markdown",
      "metadata": {
        "id": "MvDym1_opPa4"
      },
      "source": [
        "## Custom multiclassification metrics"
      ]
    },
    {
      "cell_type": "code",
      "execution_count": null,
      "metadata": {
        "id": "FJX7aHiQpUj6"
      },
      "outputs": [],
      "source": [
        "def balanced_accuracy(input, target):\n",
        "  input, target = input.cpu(), target.cpu()\n",
        "  input, target = flatten_check(input.argmax(axis = -1), target)\n",
        "  output = balanced_accuracy_score(target, input)\n",
        "  return output"
      ]
    },
    {
      "cell_type": "markdown",
      "metadata": {
        "id": "cM87-3R7lJQa"
      },
      "source": [
        "# Function for choosing the desired wavelet transformations"
      ]
    },
    {
      "cell_type": "code",
      "execution_count": null,
      "metadata": {
        "id": "7RjqDcwRlNHS"
      },
      "outputs": [],
      "source": [
        "def choose_wvt_freqs(type):\n",
        "  if type == 'full':\n",
        "    freqs = np.arange(20)\n",
        "  elif type == 'lax':\n",
        "    freqs = np.array([1, 3, 4, 5, 6, 7, 8, 9, 11, 12, 13, 15, 16, 17, 19])\n",
        "  elif type == 'stingy':\n",
        "    freqs = np.array([3, 4, 5, 6, 7, 8, 11, 12, 13, 15, 16, 17, 19])\n",
        "\n",
        "  return freqs"
      ]
    },
    {
      "cell_type": "markdown",
      "metadata": {
        "id": "OlfwH3GbW8U2"
      },
      "source": [
        "## Function for runnning the training loop"
      ]
    },
    {
      "cell_type": "code",
      "execution_count": null,
      "metadata": {
        "id": "rUy8iHyZHyYO"
      },
      "outputs": [],
      "source": [
        "train_val_idx = np.load('datasets_as_np_arrays/train_val_idx.npy')\n",
        "train_idx = np.load('datasets_as_np_arrays/train_idx.npy')\n",
        "val_idx = np.load('datasets_as_np_arrays/val_idx.npy')\n",
        "test_idx = np.load('datasets_as_np_arrays/test_idx.npy')"
      ]
    },
    {
      "cell_type": "code",
      "execution_count": null,
      "metadata": {
        "id": "RL_t-BqWTInd"
      },
      "outputs": [],
      "source": [
        "new_train_idx = np.empty(shape = (len(train_idx), ))\n",
        "for i, idx in enumerate(train_idx):\n",
        "  new_train_idx[i] = np.where(train_val_idx == idx)[0].item()\n",
        "new_train_idx = new_train_idx.astype(np.int64)\n",
        "\n",
        "\n",
        "new_val_idx = np.empty(shape = (len(val_idx), ))\n",
        "for i, idx in enumerate(val_idx):\n",
        "  new_val_idx[i] = np.where(train_val_idx == idx)[0].item()\n",
        "new_val_idx = new_val_idx.astype(np.int64)"
      ]
    },
    {
      "cell_type": "code",
      "execution_count": null,
      "metadata": {
        "colab": {
          "base_uri": "https://localhost:8080/",
          "height": 172
        },
        "id": "Y_tsY5CBKL7n",
        "outputId": "c1bf2fca-15ad-492f-cc75-1ac6d4bfcb6d"
      },
      "outputs": [
        {
          "ename": "NameError",
          "evalue": "ignored",
          "output_type": "error",
          "traceback": [
            "\u001b[0;31m---------------------------------------------------------------------------\u001b[0m",
            "\u001b[0;31mNameError\u001b[0m                                 Traceback (most recent call last)",
            "\u001b[0;32m<ipython-input-2-d24f9592fa63>\u001b[0m in \u001b[0;36m<cell line: 1>\u001b[0;34m()\u001b[0m\n\u001b[0;32m----> 1\u001b[0;31m \u001b[0my_val\u001b[0m \u001b[0;34m=\u001b[0m \u001b[0mnp\u001b[0m\u001b[0;34m.\u001b[0m\u001b[0mload\u001b[0m\u001b[0;34m(\u001b[0m\u001b[0;34m'scaled_datasets_as_np_arrays/y_final_val.npy'\u001b[0m\u001b[0;34m,\u001b[0m \u001b[0mmmap_mode\u001b[0m \u001b[0;34m=\u001b[0m \u001b[0;34m'c'\u001b[0m\u001b[0;34m)\u001b[0m\u001b[0;34m\u001b[0m\u001b[0;34m\u001b[0m\u001b[0m\n\u001b[0m",
            "\u001b[0;31mNameError\u001b[0m: name 'np' is not defined"
          ]
        }
      ],
      "source": [
        "y_val = np.load('scaled_datasets_as_np_arrays/y_final_val.npy', mmap_mode = 'c')"
      ]
    },
    {
      "cell_type": "code",
      "execution_count": null,
      "metadata": {
        "id": "4AHUeBAhGcN3"
      },
      "outputs": [],
      "source": [
        "y_val"
      ]
    },
    {
      "cell_type": "code",
      "execution_count": null,
      "metadata": {
        "id": "ha95by4IW6ph"
      },
      "outputs": [],
      "source": [
        "def train_loop(dataset, feature_data, target_data,\n",
        "               desired_wvt_freqs,\n",
        "               batch_size,\n",
        "               sequence_length, n_units_in_hidden_layer, num_rnn_layers, rnn_cell_dropout, rnn_whole_dropout, if_bidirectional, ts_fc_dropout, if_shuffle, se_reduction_ratio, #MLSTM-FCN\n",
        "               n_units_in_tab_layers, tab_fc_dropout, if_use_tab_bn, if_bn_final, if_bn_cont, if_skip, # TabModel\n",
        "               optimizer, loss_function, weight_decay, if_wd_bn_bias, if_train_bn, momentums, # Learner\n",
        "               num_epochs,\n",
        "               train_pct_start, lr_division\n",
        "               ):\n",
        "\n",
        "  # Pick out train and val data from time series and features data\n",
        "  dataset, feature_data = dataset[train_val_idx, :, :, :], feature_data.loc[train_val_idx, :]\n",
        "\n",
        "  # train/val split\n",
        "  splits = tuple([L(list(new_train_idx)), L(list(new_val_idx))])\n",
        "\n",
        "  # tabular features dataloader and model\n",
        "  cat_names = None\n",
        "  cont_names = feature_data.columns[:-1]\n",
        "  y_names = 'target'\n",
        "\n",
        "  dls_features = get_tabular_dls(feature_data, # Has normalization of continuous features built in\n",
        "                                  cat_names = cat_names, cont_names = cont_names,\n",
        "                                  y_names = y_names, splits = splits, bs = batch_size)\n",
        "\n",
        "  # Initializing arrays for keeping the model predictions on each wavelet transformation\n",
        "  number_of_frequencies = len(desired_wvt_freqs)\n",
        "  val_len = len(val_idx)\n",
        "  y_probas = np.empty((number_of_frequencies, val_len, 4))\n",
        "  y_pred = np.empty((number_of_frequencies, val_len))\n",
        "\n",
        "  # Keeping track of the training performance of each wavelet transformation\n",
        "  actual_num_epochs = []\n",
        "\n",
        "  # For each wavelet transformation, train the multi-input model\n",
        "  for i in desired_wvt_freqs:\n",
        "\n",
        "    # Extract the desired wavelet-transformed dataset\n",
        "    X_scale = dataset[:, i, :, :]\n",
        "    X_scale = np.transpose(X_scale, (0, 2, 1))\n",
        "\n",
        "    # ts data loader\n",
        "    tfms = [None, [Categorize()]]\n",
        "    dls_ts = get_ts_dls(X_scale, target_data.astype(str), splits = splits, tfms = tfms, bs = batch_size)\n",
        "\n",
        "    # Mixed data loader\n",
        "    dls_mixed = get_mixed_dls(dls_ts, dls_features)\n",
        "\n",
        "    # Time series model\n",
        "    ts_model = MLSTM_FCNPlus(dls_ts.vars, dls_ts.c, seq_len = sequence_length,\n",
        "                              hidden_size = n_units_in_hidden_layer, rnn_layers = num_rnn_layers,\n",
        "                              cell_dropout = rnn_cell_dropout, rnn_dropout = rnn_whole_dropout,\n",
        "                              bidirectional = if_bidirectional, fc_dropout = ts_fc_dropout,\n",
        "                              shuffle = if_shuffle, se = se_reduction_ratio)\n",
        "\n",
        "    # Tabular model\n",
        "    tab_model = build_tabular_model(TabModel, dls = dls_features, layers = n_units_in_tab_layers,\n",
        "                                    arch_config = {'fc_dropout': tab_fc_dropout, 'use_bn': if_use_tab_bn,\n",
        "                                                    'bn_final': if_bn_final, 'bn_cont': if_bn_cont,\n",
        "                                                    'skip': if_skip})\n",
        "\n",
        "    # Multi-input model\n",
        "    multimodal_model = MultiInputNet(ts_model, tab_model,\n",
        "                                    #  multi_output = True\n",
        "                                     )\n",
        "\n",
        "    # The training process\n",
        "    learn = Learner(dls_mixed, multimodal_model, metrics = balanced_accuracy,\n",
        "                    opt_func = optimizer,\n",
        "                    loss_func = loss_function,\n",
        "                    wd = weight_decay,\n",
        "                    wd_bn_bias = if_wd_bn_bias,\n",
        "                    train_bn = if_train_bn,\n",
        "                    moms = momentums)\n",
        "    lrs = learn.lr_find(suggest_funcs = (minimum, valley))\n",
        "    final_lr = (lrs.minimum + lrs.valley)/2\n",
        "    learn.fit_one_cycle(num_epochs,\n",
        "                        lr_max = final_lr,\n",
        "                        pct_start = train_pct_start,\n",
        "                        div = lr_division,\n",
        "                        cbs = EarlyStoppingCallback(monitor = 'balanced_accuracy', min_delta = 0.02, patience = 5))\n",
        "\n",
        "    actual_num_epochs.append(learn.epoch)\n",
        "\n",
        "    # # Export model weights\n",
        "    # export_path = os.path.join(\"model_weights\", f\"exp_20_morl_scale_{i}_min_features_lstm_fcn_30_epochs.pth\")\n",
        "    # learn.export(export_path)\n",
        "\n",
        "    if loss_function == None:\n",
        "      probas, _, preds = learn.get_preds(dl = dls_mixed.valid, with_decoded = True)\n",
        "    else:\n",
        "      probas, _, _ = learn.get_preds(dl = dls_mixed.valid, with_decoded = True)\n",
        "      preds = torch.argmax(torch.nn.Softmax(dim = 1)(probas), axis = -1)\n",
        "\n",
        "    y_probas[i], y_pred[i] = probas, preds\n",
        "\n",
        "    del ts_model, tab_model, multimodal_model, learn, dls_ts, dls_mixed, probas, preds\n",
        "    gc.collect()\n",
        "\n",
        "  # Combine outputs of all wavelet transformations into one prediction\n",
        "  cumulative_prediction = []\n",
        "\n",
        "  for i in range(y_pred.shape[1]):\n",
        "    pred_array = y_pred[:, i]\n",
        "    values, counts = np.unique(pred_array, return_counts = True)\n",
        "    idx = np.argmax(counts)\n",
        "    cumulative_prediction.append(values[idx])\n",
        "\n",
        "  cumulative_prediction = np.array(cumulative_prediction) + 1\n",
        "\n",
        "  ensemble_accuracy = np.mean(cumulative_prediction == y_val)\n",
        "  ensemble_balanced_accuracy = balanced_accuracy_score(y_val, cumulative_prediction)\n",
        "  ensemble_f1 = f1_score(y_val, cumulative_prediction, average = 'weighted')\n",
        "  average_epochs = np.mean(actual_num_epochs)\n",
        "  return ensemble_accuracy, ensemble_balanced_accuracy, ensemble_f1, actual_num_epochs, average_epochs"
      ]
    },
    {
      "cell_type": "markdown",
      "metadata": {
        "id": "8IFY_xvw5c6b"
      },
      "source": [
        "# Run the sweep"
      ]
    },
    {
      "cell_type": "code",
      "execution_count": null,
      "metadata": {
        "id": "WmExHuU35fhg"
      },
      "outputs": [],
      "source": [
        "wandb.agent(sweep_id, train, count = 10)"
      ]
    },
    {
      "cell_type": "code",
      "execution_count": null,
      "metadata": {
        "id": "D4_eTlObQRgC"
      },
      "outputs": [],
      "source": [
        "from google.colab import runtime\n",
        "runtime.unassign()"
      ]
    },
    {
      "cell_type": "markdown",
      "metadata": {
        "id": "QgfgRRqz6PeJ"
      },
      "source": [
        "#Test code"
      ]
    },
    {
      "cell_type": "code",
      "execution_count": null,
      "metadata": {
        "id": "OA0NVJ6r6SXw"
      },
      "outputs": [],
      "source": [
        "X, features_data, y = load_data(despiking = False, wvt_max_freq = 'full', features_ext = 'min')"
      ]
    },
    {
      "cell_type": "code",
      "execution_count": null,
      "metadata": {
        "id": "hzp5LpEWESxt"
      },
      "outputs": [],
      "source": [
        "# X_orig = np.load('scaled_datasets_as_np_arrays/X_train_val.npy', mmap_mode = 'c')\n",
        "# y_orig = np.load('scaled_datasets_as_np_arrays/y_train_val.npy', mmap_mode = 'c')"
      ]
    },
    {
      "cell_type": "code",
      "execution_count": null,
      "metadata": {
        "colab": {
          "base_uri": "https://localhost:8080/",
          "height": 91
        },
        "id": "Naxx8yD-HBJ0",
        "outputId": "377d68e6-07dc-4e2b-f2bd-f518bf8265f5"
      },
      "outputs": [
        {
          "data": {
            "image/png": "[encoded data removed]",
            "text/plain": [
              "<Figure size 1152x36 with 1 Axes>"
            ]
          },
          "metadata": {},
          "output_type": "display_data"
        }
      ],
      "source": [
        "# train/val split\n",
        "splits = get_splits(y, valid_size = .2, stratify = True, random_state = 42, shuffle = True)\n",
        "\n",
        "# tabular features dataloader and model\n",
        "cat_names = None\n",
        "cont_names = features_data.columns[:-1]\n",
        "y_names = 'target'\n",
        "\n",
        "\n",
        "# Initializing arrays for keeping the model predictions on each wavelet transformation\n",
        "number_of_frequencies = 20\n",
        "val_len = int(0.2 * len(y))\n",
        "y_probas = np.empty((number_of_frequencies, val_len, 4))\n",
        "y_pred = np.empty((number_of_frequencies, val_len))"
      ]
    },
    {
      "cell_type": "code",
      "execution_count": null,
      "metadata": {
        "id": "E2jKITvtGM5O"
      },
      "outputs": [],
      "source": [
        "dls_features = get_tabular_dls(features_data, # Has normalization of continuous features built in\n",
        "                                cat_names = cat_names, cont_names = cont_names,\n",
        "                                y_names = y_names, splits = splits, bs = sweep_config['parameters']['batch_size']['values'][0])"
      ]
    },
    {
      "cell_type": "code",
      "execution_count": null,
      "metadata": {
        "id": "9VTXiUWu96ln"
      },
      "outputs": [],
      "source": [
        "class_weights = torch.FloatTensor(class_weight.compute_class_weight('balanced', classes = np.unique(y), y = y))\n",
        "\n",
        "loss_function = build_loss_function(sweep_config['parameters']['loss_function']['value'], sweep_config['parameters']['gamma']['value'], class_weights)\n",
        "\n",
        "optimizer = build_optimizer(sweep_config['parameters']['optimizer']['value'])"
      ]
    },
    {
      "cell_type": "code",
      "execution_count": null,
      "metadata": {
        "id": "eVV6wEi-6PNm"
      },
      "outputs": [],
      "source": [
        "# For each wavelet transformation, train the multi-input model\n",
        "# for i in range(1):\n",
        "\n",
        "# Extract the desired wavelet-transformed dataset\n",
        "X_scale = X[:, 0, :, :]\n",
        "X_scale = np.transpose(X_scale, (0, 2, 1))\n",
        "\n",
        "# ts data loader\n",
        "tfms = [None, [Categorize()]]\n",
        "dls_ts = get_ts_dls(X_scale, y.astype(str), splits = splits, tfms = tfms, bs = sweep_config['parameters']['batch_size']['values'][0])\n",
        "\n",
        "# Mixed data loader\n",
        "dls_mixed = get_mixed_dls(dls_ts, dls_features)\n",
        "\n",
        "# Time series model\n",
        "ts_model = MLSTM_FCNPlus(dls_ts.vars, dls_ts.c, seq_len = sweep_config['parameters']['seq_len']['value'],\n",
        "                          hidden_size = sweep_config['parameters']['hidden_size']['values'][0], rnn_layers = sweep_config['parameters']['rnn_layers']['values'][0],\n",
        "                          cell_dropout = sweep_config['parameters']['cell_dropout']['values'][0], rnn_dropout = sweep_config['parameters']['rnn_dropout']['values'][0],\n",
        "                          bidirectional = sweep_config['parameters']['bidirectional']['values'][0], fc_dropout = sweep_config['parameters']['ts_fc_dropout']['value'],\n",
        "                          shuffle = sweep_config['parameters']['shuffle']['value'], se = sweep_config['parameters']['se']['values'][0])\n",
        "\n",
        "# Tabular model\n",
        "tab_model = build_tabular_model(TabModel, dls = dls_features, layers = [400, 200, 100],\n",
        "                                arch_config = {'fc_dropout': sweep_config['parameters']['tab_fc_dropout']['values'][0], 'use_bn': sweep_config['parameters']['use_bn']['value'],\n",
        "                                                'bn_final': sweep_config['parameters']['bn_final']['value'], 'bn_cont': sweep_config['parameters']['bn_cont']['value'],\n",
        "                                                'skip': True})\n",
        "\n",
        "# Multi-input model\n",
        "multimodal_model = MultiInputNet(ts_model, tab_model,\n",
        "                                #  multi_output = True\n",
        "                                  )\n",
        "\n",
        "# The training process\n",
        "learn = Learner(dls_mixed, multimodal_model, metrics = balanced_accuracy,\n",
        "                opt_func = optimizer,\n",
        "                loss_func = loss_function,\n",
        "                wd = sweep_config['parameters']['wd']['values'][0],\n",
        "                wd_bn_bias = sweep_config['parameters']['wd_bn_bias']['value'],\n",
        "                train_bn = sweep_config['parameters']['train_bn']['value'],\n",
        "                moms = [0.95, 0.85, 0.95])"
      ]
    },
    {
      "cell_type": "code",
      "execution_count": null,
      "metadata": {
        "colab": {
          "base_uri": "https://localhost:8080/",
          "height": 283
        },
        "id": "PouD40or9dIh",
        "outputId": "1b994ed1-3d59-481b-e1ed-ff4eb00d1bc3"
      },
      "outputs": [
        {
          "data": {
            "text/html": [
              "\n",
              "<style>\n",
              "    /* Turns off some styling */\n",
              "    progress {\n",
              "        /* gets rid of default border in Firefox and Opera. */\n",
              "        border: none;\n",
              "        /* Needs to be in here for Safari polyfill so background images work as expected. */\n",
              "        background-size: auto;\n",
              "    }\n",
              "    progress:not([value]), progress:not([value])::-webkit-progress-bar {\n",
              "        background: repeating-linear-gradient(45deg, #7e7e7e, #7e7e7e 10px, #5c5c5c 10px, #5c5c5c 20px);\n",
              "    }\n",
              "    .progress-bar-interrupted, .progress-bar-interrupted::-webkit-progress-bar {\n",
              "        background: #F44336;\n",
              "    }\n",
              "</style>\n"
            ],
            "text/plain": [
              "<IPython.core.display.HTML object>"
            ]
          },
          "metadata": {},
          "output_type": "display_data"
        },
        {
          "data": {
            "text/html": [],
            "text/plain": [
              "<IPython.core.display.HTML object>"
            ]
          },
          "metadata": {},
          "output_type": "display_data"
        },
        {
          "data": {
            "image/png": "[encoded data removed]",
            "text/plain": [
              "<Figure size 432x288 with 1 Axes>"
            ]
          },
          "metadata": {},
          "output_type": "display_data"
        }
      ],
      "source": [
        "lrs = learn.lr_find(suggest_funcs = (minimum, valley))"
      ]
    },
    {
      "cell_type": "code",
      "execution_count": null,
      "metadata": {
        "colab": {
          "base_uri": "https://localhost:8080/"
        },
        "id": "nTo-2VpvmyUJ",
        "outputId": "9d71789b-b4ce-4a3d-b521-a5b83abcacc2"
      },
      "outputs": [
        {
          "data": {
            "text/plain": [
              "7.875541632529348e-05"
            ]
          },
          "execution_count": 31,
          "metadata": {},
          "output_type": "execute_result"
        }
      ],
      "source": [
        "final_lr = (lrs.minimum + lrs.valley)/2\n",
        "\n",
        "final_lr"
      ]
    },
    {
      "cell_type": "code",
      "execution_count": null,
      "metadata": {
        "colab": {
          "base_uri": "https://localhost:8080/",
          "height": 255
        },
        "id": "_5j_RwRRb7cV",
        "outputId": "a7308d22-6459-4cda-e707-3f4e2418920f"
      },
      "outputs": [
        {
          "data": {
            "text/html": [
              "\n",
              "<style>\n",
              "    /* Turns off some styling */\n",
              "    progress {\n",
              "        /* gets rid of default border in Firefox and Opera. */\n",
              "        border: none;\n",
              "        /* Needs to be in here for Safari polyfill so background images work as expected. */\n",
              "        background-size: auto;\n",
              "    }\n",
              "    progress:not([value]), progress:not([value])::-webkit-progress-bar {\n",
              "        background: repeating-linear-gradient(45deg, #7e7e7e, #7e7e7e 10px, #5c5c5c 10px, #5c5c5c 20px);\n",
              "    }\n",
              "    .progress-bar-interrupted, .progress-bar-interrupted::-webkit-progress-bar {\n",
              "        background: #F44336;\n",
              "    }\n",
              "</style>\n"
            ],
            "text/plain": [
              "<IPython.core.display.HTML object>"
            ]
          },
          "metadata": {},
          "output_type": "display_data"
        },
        {
          "data": {
            "text/html": [
              "<table border=\"1\" class=\"dataframe\">\n",
              "  <thead>\n",
              "    <tr style=\"text-align: left;\">\n",
              "      <th>epoch</th>\n",
              "      <th>train_loss</th>\n",
              "      <th>valid_loss</th>\n",
              "      <th>balanced_accuracy</th>\n",
              "      <th>time</th>\n",
              "    </tr>\n",
              "  </thead>\n",
              "  <tbody>\n",
              "    <tr>\n",
              "      <td>0</td>\n",
              "      <td>1.392422</td>\n",
              "      <td>1.414370</td>\n",
              "      <td>0.107951</td>\n",
              "      <td>00:01</td>\n",
              "    </tr>\n",
              "    <tr>\n",
              "      <td>1</td>\n",
              "      <td>1.382642</td>\n",
              "      <td>1.403345</td>\n",
              "      <td>0.119017</td>\n",
              "      <td>00:01</td>\n",
              "    </tr>\n",
              "    <tr>\n",
              "      <td>2</td>\n",
              "      <td>1.370239</td>\n",
              "      <td>1.399338</td>\n",
              "      <td>0.086043</td>\n",
              "      <td>00:01</td>\n",
              "    </tr>\n",
              "    <tr>\n",
              "      <td>3</td>\n",
              "      <td>1.355550</td>\n",
              "      <td>1.391526</td>\n",
              "      <td>0.103790</td>\n",
              "      <td>00:01</td>\n",
              "    </tr>\n",
              "    <tr>\n",
              "      <td>4</td>\n",
              "      <td>1.338265</td>\n",
              "      <td>1.385071</td>\n",
              "      <td>0.151964</td>\n",
              "      <td>00:01</td>\n",
              "    </tr>\n",
              "    <tr>\n",
              "      <td>5</td>\n",
              "      <td>1.318795</td>\n",
              "      <td>1.382124</td>\n",
              "      <td>0.161164</td>\n",
              "      <td>00:01</td>\n",
              "    </tr>\n",
              "  </tbody>\n",
              "</table>"
            ],
            "text/plain": [
              "<IPython.core.display.HTML object>"
            ]
          },
          "metadata": {},
          "output_type": "display_data"
        },
        {
          "name": "stdout",
          "output_type": "stream",
          "text": [
            "No improvement since epoch 0: early stopping\n"
          ]
        }
      ],
      "source": [
        "learn.fit_one_cycle(sweep_config['parameters']['num_epochs']['value'],\n",
        "                    lr_max = final_lr,\n",
        "                    cbs = [EarlyStoppingCallback(monitor = 'balanced_accuracy', min_delta = 0.1, patience = 5),\n",
        "                           TrackerCallback(monitor = 'balanced_accuracy')])"
      ]
    },
    {
      "cell_type": "code",
      "execution_count": null,
      "metadata": {
        "colab": {
          "base_uri": "https://localhost:8080/"
        },
        "id": "kF1mJM5a3Bl6",
        "outputId": "81eb29c8-54f2-448b-9ddd-87c7cd7e1f3b"
      },
      "outputs": [
        {
          "data": {
            "text/plain": [
              "5"
            ]
          },
          "execution_count": 36,
          "metadata": {},
          "output_type": "execute_result"
        }
      ],
      "source": [
        "learn.epoch"
      ]
    },
    {
      "cell_type": "code",
      "execution_count": null,
      "metadata": {
        "id": "z-in3FNW3sGw"
      },
      "outputs": [],
      "source": [
        "learn."
      ]
    },
    {
      "cell_type": "code",
      "execution_count": null,
      "metadata": {
        "id": "XbtNDmXOzF3e"
      },
      "outputs": [],
      "source": [
        "cumulative_prediction = []\n",
        "\n",
        "for i in range(y_pred_stack.shape[1]):\n",
        "  pred_array = y_pred_stack[:, i]\n",
        "  values, counts = np.unique(pred_array, return_counts = True)\n",
        "  idx = np.argmax(counts)\n",
        "  cumulative_prediction.append(values[idx])"
      ]
    },
    {
      "cell_type": "code",
      "execution_count": null,
      "metadata": {
        "id": "97l1YEb5z7Xe"
      },
      "outputs": [],
      "source": [
        "cumulative_prediction"
      ]
    },
    {
      "cell_type": "code",
      "execution_count": null,
      "metadata": {
        "colab": {
          "base_uri": "https://localhost:8080/"
        },
        "id": "QpDzEtD09Nog",
        "outputId": "581933a2-390e-49ba-f1d4-8675845585eb"
      },
      "outputs": [
        {
          "name": "stdout",
          "output_type": "stream",
          "text": [
            "0.4050632911392405 0.3468751577565753 0.3738655198869332\n"
          ]
        }
      ],
      "source": [
        "cumulative_prediction = np.array(cumulative_prediction) + 1\n",
        "\n",
        "ensemble_accuracy = np.mean(cumulative_prediction == y_val)\n",
        "ensemble_balanced_accuracy = balanced_accuracy_score(y_val, cumulative_prediction)\n",
        "ensemble_f1 = f1_score(y_val, cumulative_prediction, average = 'weighted')\n",
        "\n",
        "print(ensemble_accuracy, ensemble_balanced_accuracy, ensemble_f1)"
      ]
    }
  ],
  "metadata": {
    "accelerator": "GPU",
    "colab": {
      "collapsed_sections": [
        "QgfgRRqz6PeJ"
      ],
      "machine_shape": "hm",
      "provenance": [],
      "authorship_tag": "ABX9TyNDb/3Xu/SPOAcgfNSAB+qH",
      "include_colab_link": true
    },
    "kernelspec": {
      "display_name": "Python 3",
      "name": "python3"
    },
    "language_info": {
      "name": "python"
    }
  },
  "nbformat": 4,
  "nbformat_minor": 0
}
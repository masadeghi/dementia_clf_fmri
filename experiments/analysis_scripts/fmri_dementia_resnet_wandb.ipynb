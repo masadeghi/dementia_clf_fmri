{
  "nbformat": 4,
  "nbformat_minor": 0,
  "metadata": {
    "colab": {
      "provenance": [],
      "collapsed_sections": [
        "jUogsa6IiyHX"
      ],
      "authorship_tag": "ABX9TyM2OErij6oxHvLzh3X52jJG",
      "include_colab_link": true
    },
    "kernelspec": {
      "name": "python3",
      "display_name": "Python 3"
    },
    "language_info": {
      "name": "python"
    },
    "gpuClass": "standard",
    "widgets": {
      "application/vnd.jupyter.widget-state+json": {
        "24dc464eacc948f68d890844ac23f36e": {
          "model_module": "@jupyter-widgets/controls",
          "model_name": "VBoxModel",
          "model_module_version": "1.5.0",
          "state": {
            "_dom_classes": [],
            "_model_module": "@jupyter-widgets/controls",
            "_model_module_version": "1.5.0",
            "_model_name": "VBoxModel",
            "_view_count": null,
            "_view_module": "@jupyter-widgets/controls",
            "_view_module_version": "1.5.0",
            "_view_name": "VBoxView",
            "box_style": "",
            "children": [
              "IPY_MODEL_0fadeb12895a4831b20c45b173cdbf9c",
              "IPY_MODEL_1a6ea7d6f90e42d896b4d49a71fbd4d3"
            ],
            "layout": "IPY_MODEL_fbaf617116a44ea7b7bcfdba545e24e3"
          }
        },
        "0fadeb12895a4831b20c45b173cdbf9c": {
          "model_module": "@jupyter-widgets/controls",
          "model_name": "LabelModel",
          "model_module_version": "1.5.0",
          "state": {
            "_dom_classes": [],
            "_model_module": "@jupyter-widgets/controls",
            "_model_module_version": "1.5.0",
            "_model_name": "LabelModel",
            "_view_count": null,
            "_view_module": "@jupyter-widgets/controls",
            "_view_module_version": "1.5.0",
            "_view_name": "LabelView",
            "description": "",
            "description_tooltip": null,
            "layout": "IPY_MODEL_e5f0920ba49c426a9a3fdfd2c2c3a71c",
            "placeholder": "​",
            "style": "IPY_MODEL_160c3f691257440cb9604c64f6635f57",
            "value": "0.001 MB of 0.009 MB uploaded (0.000 MB deduped)\r"
          }
        },
        "1a6ea7d6f90e42d896b4d49a71fbd4d3": {
          "model_module": "@jupyter-widgets/controls",
          "model_name": "FloatProgressModel",
          "model_module_version": "1.5.0",
          "state": {
            "_dom_classes": [],
            "_model_module": "@jupyter-widgets/controls",
            "_model_module_version": "1.5.0",
            "_model_name": "FloatProgressModel",
            "_view_count": null,
            "_view_module": "@jupyter-widgets/controls",
            "_view_module_version": "1.5.0",
            "_view_name": "ProgressView",
            "bar_style": "",
            "description": "",
            "description_tooltip": null,
            "layout": "IPY_MODEL_ab003d2d6b844a4e98394257df412f1d",
            "max": 1,
            "min": 0,
            "orientation": "horizontal",
            "style": "IPY_MODEL_8bab0a8085394c85b92a4afc7af6c9ed",
            "value": 0.08892845920184352
          }
        },
        "fbaf617116a44ea7b7bcfdba545e24e3": {
          "model_module": "@jupyter-widgets/base",
          "model_name": "LayoutModel",
          "model_module_version": "1.2.0",
          "state": {
            "_model_module": "@jupyter-widgets/base",
            "_model_module_version": "1.2.0",
            "_model_name": "LayoutModel",
            "_view_count": null,
            "_view_module": "@jupyter-widgets/base",
            "_view_module_version": "1.2.0",
            "_view_name": "LayoutView",
            "align_content": null,
            "align_items": null,
            "align_self": null,
            "border": null,
            "bottom": null,
            "display": null,
            "flex": null,
            "flex_flow": null,
            "grid_area": null,
            "grid_auto_columns": null,
            "grid_auto_flow": null,
            "grid_auto_rows": null,
            "grid_column": null,
            "grid_gap": null,
            "grid_row": null,
            "grid_template_areas": null,
            "grid_template_columns": null,
            "grid_template_rows": null,
            "height": null,
            "justify_content": null,
            "justify_items": null,
            "left": null,
            "margin": null,
            "max_height": null,
            "max_width": null,
            "min_height": null,
            "min_width": null,
            "object_fit": null,
            "object_position": null,
            "order": null,
            "overflow": null,
            "overflow_x": null,
            "overflow_y": null,
            "padding": null,
            "right": null,
            "top": null,
            "visibility": null,
            "width": null
          }
        },
        "e5f0920ba49c426a9a3fdfd2c2c3a71c": {
          "model_module": "@jupyter-widgets/base",
          "model_name": "LayoutModel",
          "model_module_version": "1.2.0",
          "state": {
            "_model_module": "@jupyter-widgets/base",
            "_model_module_version": "1.2.0",
            "_model_name": "LayoutModel",
            "_view_count": null,
            "_view_module": "@jupyter-widgets/base",
            "_view_module_version": "1.2.0",
            "_view_name": "LayoutView",
            "align_content": null,
            "align_items": null,
            "align_self": null,
            "border": null,
            "bottom": null,
            "display": null,
            "flex": null,
            "flex_flow": null,
            "grid_area": null,
            "grid_auto_columns": null,
            "grid_auto_flow": null,
            "grid_auto_rows": null,
            "grid_column": null,
            "grid_gap": null,
            "grid_row": null,
            "grid_template_areas": null,
            "grid_template_columns": null,
            "grid_template_rows": null,
            "height": null,
            "justify_content": null,
            "justify_items": null,
            "left": null,
            "margin": null,
            "max_height": null,
            "max_width": null,
            "min_height": null,
            "min_width": null,
            "object_fit": null,
            "object_position": null,
            "order": null,
            "overflow": null,
            "overflow_x": null,
            "overflow_y": null,
            "padding": null,
            "right": null,
            "top": null,
            "visibility": null,
            "width": null
          }
        },
        "160c3f691257440cb9604c64f6635f57": {
          "model_module": "@jupyter-widgets/controls",
          "model_name": "DescriptionStyleModel",
          "model_module_version": "1.5.0",
          "state": {
            "_model_module": "@jupyter-widgets/controls",
            "_model_module_version": "1.5.0",
            "_model_name": "DescriptionStyleModel",
            "_view_count": null,
            "_view_module": "@jupyter-widgets/base",
            "_view_module_version": "1.2.0",
            "_view_name": "StyleView",
            "description_width": ""
          }
        },
        "ab003d2d6b844a4e98394257df412f1d": {
          "model_module": "@jupyter-widgets/base",
          "model_name": "LayoutModel",
          "model_module_version": "1.2.0",
          "state": {
            "_model_module": "@jupyter-widgets/base",
            "_model_module_version": "1.2.0",
            "_model_name": "LayoutModel",
            "_view_count": null,
            "_view_module": "@jupyter-widgets/base",
            "_view_module_version": "1.2.0",
            "_view_name": "LayoutView",
            "align_content": null,
            "align_items": null,
            "align_self": null,
            "border": null,
            "bottom": null,
            "display": null,
            "flex": null,
            "flex_flow": null,
            "grid_area": null,
            "grid_auto_columns": null,
            "grid_auto_flow": null,
            "grid_auto_rows": null,
            "grid_column": null,
            "grid_gap": null,
            "grid_row": null,
            "grid_template_areas": null,
            "grid_template_columns": null,
            "grid_template_rows": null,
            "height": null,
            "justify_content": null,
            "justify_items": null,
            "left": null,
            "margin": null,
            "max_height": null,
            "max_width": null,
            "min_height": null,
            "min_width": null,
            "object_fit": null,
            "object_position": null,
            "order": null,
            "overflow": null,
            "overflow_x": null,
            "overflow_y": null,
            "padding": null,
            "right": null,
            "top": null,
            "visibility": null,
            "width": null
          }
        },
        "8bab0a8085394c85b92a4afc7af6c9ed": {
          "model_module": "@jupyter-widgets/controls",
          "model_name": "ProgressStyleModel",
          "model_module_version": "1.5.0",
          "state": {
            "_model_module": "@jupyter-widgets/controls",
            "_model_module_version": "1.5.0",
            "_model_name": "ProgressStyleModel",
            "_view_count": null,
            "_view_module": "@jupyter-widgets/base",
            "_view_module_version": "1.2.0",
            "_view_name": "StyleView",
            "bar_color": null,
            "description_width": ""
          }
        },
        "1cd3bff9fb094dbfa048f9bb60620f1f": {
          "model_module": "@jupyter-widgets/controls",
          "model_name": "VBoxModel",
          "model_module_version": "1.5.0",
          "state": {
            "_dom_classes": [],
            "_model_module": "@jupyter-widgets/controls",
            "_model_module_version": "1.5.0",
            "_model_name": "VBoxModel",
            "_view_count": null,
            "_view_module": "@jupyter-widgets/controls",
            "_view_module_version": "1.5.0",
            "_view_name": "VBoxView",
            "box_style": "",
            "children": [
              "IPY_MODEL_41672202f04d4ceba31413dbacb734e9",
              "IPY_MODEL_544a8cbe6b854acd8ed59e5e4ac0f65e"
            ],
            "layout": "IPY_MODEL_4572366aa5b746d489d8f26d4ce4c927"
          }
        },
        "41672202f04d4ceba31413dbacb734e9": {
          "model_module": "@jupyter-widgets/controls",
          "model_name": "LabelModel",
          "model_module_version": "1.5.0",
          "state": {
            "_dom_classes": [],
            "_model_module": "@jupyter-widgets/controls",
            "_model_module_version": "1.5.0",
            "_model_name": "LabelModel",
            "_view_count": null,
            "_view_module": "@jupyter-widgets/controls",
            "_view_module_version": "1.5.0",
            "_view_name": "LabelView",
            "description": "",
            "description_tooltip": null,
            "layout": "IPY_MODEL_fced2b42de034ae9a7e54574ff398c05",
            "placeholder": "​",
            "style": "IPY_MODEL_b3c842150c944511833c20ab8a1dad5b",
            "value": "Waiting for wandb.init()...\r"
          }
        },
        "544a8cbe6b854acd8ed59e5e4ac0f65e": {
          "model_module": "@jupyter-widgets/controls",
          "model_name": "FloatProgressModel",
          "model_module_version": "1.5.0",
          "state": {
            "_dom_classes": [],
            "_model_module": "@jupyter-widgets/controls",
            "_model_module_version": "1.5.0",
            "_model_name": "FloatProgressModel",
            "_view_count": null,
            "_view_module": "@jupyter-widgets/controls",
            "_view_module_version": "1.5.0",
            "_view_name": "ProgressView",
            "bar_style": "",
            "description": "",
            "description_tooltip": null,
            "layout": "IPY_MODEL_dd8e66dcb08446838f5ce2a232bb1cf4",
            "max": 1,
            "min": 0,
            "orientation": "horizontal",
            "style": "IPY_MODEL_627fa8cfbfeb47488c84ec5a66a49a79",
            "value": 1
          }
        },
        "4572366aa5b746d489d8f26d4ce4c927": {
          "model_module": "@jupyter-widgets/base",
          "model_name": "LayoutModel",
          "model_module_version": "1.2.0",
          "state": {
            "_model_module": "@jupyter-widgets/base",
            "_model_module_version": "1.2.0",
            "_model_name": "LayoutModel",
            "_view_count": null,
            "_view_module": "@jupyter-widgets/base",
            "_view_module_version": "1.2.0",
            "_view_name": "LayoutView",
            "align_content": null,
            "align_items": null,
            "align_self": null,
            "border": null,
            "bottom": null,
            "display": null,
            "flex": null,
            "flex_flow": null,
            "grid_area": null,
            "grid_auto_columns": null,
            "grid_auto_flow": null,
            "grid_auto_rows": null,
            "grid_column": null,
            "grid_gap": null,
            "grid_row": null,
            "grid_template_areas": null,
            "grid_template_columns": null,
            "grid_template_rows": null,
            "height": null,
            "justify_content": null,
            "justify_items": null,
            "left": null,
            "margin": null,
            "max_height": null,
            "max_width": null,
            "min_height": null,
            "min_width": null,
            "object_fit": null,
            "object_position": null,
            "order": null,
            "overflow": null,
            "overflow_x": null,
            "overflow_y": null,
            "padding": null,
            "right": null,
            "top": null,
            "visibility": null,
            "width": null
          }
        },
        "fced2b42de034ae9a7e54574ff398c05": {
          "model_module": "@jupyter-widgets/base",
          "model_name": "LayoutModel",
          "model_module_version": "1.2.0",
          "state": {
            "_model_module": "@jupyter-widgets/base",
            "_model_module_version": "1.2.0",
            "_model_name": "LayoutModel",
            "_view_count": null,
            "_view_module": "@jupyter-widgets/base",
            "_view_module_version": "1.2.0",
            "_view_name": "LayoutView",
            "align_content": null,
            "align_items": null,
            "align_self": null,
            "border": null,
            "bottom": null,
            "display": null,
            "flex": null,
            "flex_flow": null,
            "grid_area": null,
            "grid_auto_columns": null,
            "grid_auto_flow": null,
            "grid_auto_rows": null,
            "grid_column": null,
            "grid_gap": null,
            "grid_row": null,
            "grid_template_areas": null,
            "grid_template_columns": null,
            "grid_template_rows": null,
            "height": null,
            "justify_content": null,
            "justify_items": null,
            "left": null,
            "margin": null,
            "max_height": null,
            "max_width": null,
            "min_height": null,
            "min_width": null,
            "object_fit": null,
            "object_position": null,
            "order": null,
            "overflow": null,
            "overflow_x": null,
            "overflow_y": null,
            "padding": null,
            "right": null,
            "top": null,
            "visibility": null,
            "width": null
          }
        },
        "b3c842150c944511833c20ab8a1dad5b": {
          "model_module": "@jupyter-widgets/controls",
          "model_name": "DescriptionStyleModel",
          "model_module_version": "1.5.0",
          "state": {
            "_model_module": "@jupyter-widgets/controls",
            "_model_module_version": "1.5.0",
            "_model_name": "DescriptionStyleModel",
            "_view_count": null,
            "_view_module": "@jupyter-widgets/base",
            "_view_module_version": "1.2.0",
            "_view_name": "StyleView",
            "description_width": ""
          }
        },
        "dd8e66dcb08446838f5ce2a232bb1cf4": {
          "model_module": "@jupyter-widgets/base",
          "model_name": "LayoutModel",
          "model_module_version": "1.2.0",
          "state": {
            "_model_module": "@jupyter-widgets/base",
            "_model_module_version": "1.2.0",
            "_model_name": "LayoutModel",
            "_view_count": null,
            "_view_module": "@jupyter-widgets/base",
            "_view_module_version": "1.2.0",
            "_view_name": "LayoutView",
            "align_content": null,
            "align_items": null,
            "align_self": null,
            "border": null,
            "bottom": null,
            "display": null,
            "flex": null,
            "flex_flow": null,
            "grid_area": null,
            "grid_auto_columns": null,
            "grid_auto_flow": null,
            "grid_auto_rows": null,
            "grid_column": null,
            "grid_gap": null,
            "grid_row": null,
            "grid_template_areas": null,
            "grid_template_columns": null,
            "grid_template_rows": null,
            "height": null,
            "justify_content": null,
            "justify_items": null,
            "left": null,
            "margin": null,
            "max_height": null,
            "max_width": null,
            "min_height": null,
            "min_width": null,
            "object_fit": null,
            "object_position": null,
            "order": null,
            "overflow": null,
            "overflow_x": null,
            "overflow_y": null,
            "padding": null,
            "right": null,
            "top": null,
            "visibility": null,
            "width": null
          }
        },
        "627fa8cfbfeb47488c84ec5a66a49a79": {
          "model_module": "@jupyter-widgets/controls",
          "model_name": "ProgressStyleModel",
          "model_module_version": "1.5.0",
          "state": {
            "_model_module": "@jupyter-widgets/controls",
            "_model_module_version": "1.5.0",
            "_model_name": "ProgressStyleModel",
            "_view_count": null,
            "_view_module": "@jupyter-widgets/base",
            "_view_module_version": "1.2.0",
            "_view_name": "StyleView",
            "bar_color": null,
            "description_width": ""
          }
        },
        "874561825a7c4b4da5668ac2bb1f05c0": {
          "model_module": "@jupyter-widgets/controls",
          "model_name": "VBoxModel",
          "model_module_version": "1.5.0",
          "state": {
            "_dom_classes": [],
            "_model_module": "@jupyter-widgets/controls",
            "_model_module_version": "1.5.0",
            "_model_name": "VBoxModel",
            "_view_count": null,
            "_view_module": "@jupyter-widgets/controls",
            "_view_module_version": "1.5.0",
            "_view_name": "VBoxView",
            "box_style": "",
            "children": [
              "IPY_MODEL_9340ec15686b418aa521760fbc3c2666",
              "IPY_MODEL_33f76dab6ded4bc09f035df42528a4c4"
            ],
            "layout": "IPY_MODEL_146d02ef88f84fce8148e023c86175a0"
          }
        },
        "9340ec15686b418aa521760fbc3c2666": {
          "model_module": "@jupyter-widgets/controls",
          "model_name": "LabelModel",
          "model_module_version": "1.5.0",
          "state": {
            "_dom_classes": [],
            "_model_module": "@jupyter-widgets/controls",
            "_model_module_version": "1.5.0",
            "_model_name": "LabelModel",
            "_view_count": null,
            "_view_module": "@jupyter-widgets/controls",
            "_view_module_version": "1.5.0",
            "_view_name": "LabelView",
            "description": "",
            "description_tooltip": null,
            "layout": "IPY_MODEL_4a2cbe0ecdc5445e991a8c6015857383",
            "placeholder": "​",
            "style": "IPY_MODEL_638c1566745a4df69a6a6ca48e34f16a",
            "value": "0.001 MB of 0.009 MB uploaded (0.000 MB deduped)\r"
          }
        },
        "33f76dab6ded4bc09f035df42528a4c4": {
          "model_module": "@jupyter-widgets/controls",
          "model_name": "FloatProgressModel",
          "model_module_version": "1.5.0",
          "state": {
            "_dom_classes": [],
            "_model_module": "@jupyter-widgets/controls",
            "_model_module_version": "1.5.0",
            "_model_name": "FloatProgressModel",
            "_view_count": null,
            "_view_module": "@jupyter-widgets/controls",
            "_view_module_version": "1.5.0",
            "_view_name": "ProgressView",
            "bar_style": "",
            "description": "",
            "description_tooltip": null,
            "layout": "IPY_MODEL_1a3d867e019249f7b68150d3ab77367f",
            "max": 1,
            "min": 0,
            "orientation": "horizontal",
            "style": "IPY_MODEL_b6598690b9144195a9b47dce0c0440fe",
            "value": 0.08074935400516796
          }
        },
        "146d02ef88f84fce8148e023c86175a0": {
          "model_module": "@jupyter-widgets/base",
          "model_name": "LayoutModel",
          "model_module_version": "1.2.0",
          "state": {
            "_model_module": "@jupyter-widgets/base",
            "_model_module_version": "1.2.0",
            "_model_name": "LayoutModel",
            "_view_count": null,
            "_view_module": "@jupyter-widgets/base",
            "_view_module_version": "1.2.0",
            "_view_name": "LayoutView",
            "align_content": null,
            "align_items": null,
            "align_self": null,
            "border": null,
            "bottom": null,
            "display": null,
            "flex": null,
            "flex_flow": null,
            "grid_area": null,
            "grid_auto_columns": null,
            "grid_auto_flow": null,
            "grid_auto_rows": null,
            "grid_column": null,
            "grid_gap": null,
            "grid_row": null,
            "grid_template_areas": null,
            "grid_template_columns": null,
            "grid_template_rows": null,
            "height": null,
            "justify_content": null,
            "justify_items": null,
            "left": null,
            "margin": null,
            "max_height": null,
            "max_width": null,
            "min_height": null,
            "min_width": null,
            "object_fit": null,
            "object_position": null,
            "order": null,
            "overflow": null,
            "overflow_x": null,
            "overflow_y": null,
            "padding": null,
            "right": null,
            "top": null,
            "visibility": null,
            "width": null
          }
        },
        "4a2cbe0ecdc5445e991a8c6015857383": {
          "model_module": "@jupyter-widgets/base",
          "model_name": "LayoutModel",
          "model_module_version": "1.2.0",
          "state": {
            "_model_module": "@jupyter-widgets/base",
            "_model_module_version": "1.2.0",
            "_model_name": "LayoutModel",
            "_view_count": null,
            "_view_module": "@jupyter-widgets/base",
            "_view_module_version": "1.2.0",
            "_view_name": "LayoutView",
            "align_content": null,
            "align_items": null,
            "align_self": null,
            "border": null,
            "bottom": null,
            "display": null,
            "flex": null,
            "flex_flow": null,
            "grid_area": null,
            "grid_auto_columns": null,
            "grid_auto_flow": null,
            "grid_auto_rows": null,
            "grid_column": null,
            "grid_gap": null,
            "grid_row": null,
            "grid_template_areas": null,
            "grid_template_columns": null,
            "grid_template_rows": null,
            "height": null,
            "justify_content": null,
            "justify_items": null,
            "left": null,
            "margin": null,
            "max_height": null,
            "max_width": null,
            "min_height": null,
            "min_width": null,
            "object_fit": null,
            "object_position": null,
            "order": null,
            "overflow": null,
            "overflow_x": null,
            "overflow_y": null,
            "padding": null,
            "right": null,
            "top": null,
            "visibility": null,
            "width": null
          }
        },
        "638c1566745a4df69a6a6ca48e34f16a": {
          "model_module": "@jupyter-widgets/controls",
          "model_name": "DescriptionStyleModel",
          "model_module_version": "1.5.0",
          "state": {
            "_model_module": "@jupyter-widgets/controls",
            "_model_module_version": "1.5.0",
            "_model_name": "DescriptionStyleModel",
            "_view_count": null,
            "_view_module": "@jupyter-widgets/base",
            "_view_module_version": "1.2.0",
            "_view_name": "StyleView",
            "description_width": ""
          }
        },
        "1a3d867e019249f7b68150d3ab77367f": {
          "model_module": "@jupyter-widgets/base",
          "model_name": "LayoutModel",
          "model_module_version": "1.2.0",
          "state": {
            "_model_module": "@jupyter-widgets/base",
            "_model_module_version": "1.2.0",
            "_model_name": "LayoutModel",
            "_view_count": null,
            "_view_module": "@jupyter-widgets/base",
            "_view_module_version": "1.2.0",
            "_view_name": "LayoutView",
            "align_content": null,
            "align_items": null,
            "align_self": null,
            "border": null,
            "bottom": null,
            "display": null,
            "flex": null,
            "flex_flow": null,
            "grid_area": null,
            "grid_auto_columns": null,
            "grid_auto_flow": null,
            "grid_auto_rows": null,
            "grid_column": null,
            "grid_gap": null,
            "grid_row": null,
            "grid_template_areas": null,
            "grid_template_columns": null,
            "grid_template_rows": null,
            "height": null,
            "justify_content": null,
            "justify_items": null,
            "left": null,
            "margin": null,
            "max_height": null,
            "max_width": null,
            "min_height": null,
            "min_width": null,
            "object_fit": null,
            "object_position": null,
            "order": null,
            "overflow": null,
            "overflow_x": null,
            "overflow_y": null,
            "padding": null,
            "right": null,
            "top": null,
            "visibility": null,
            "width": null
          }
        },
        "b6598690b9144195a9b47dce0c0440fe": {
          "model_module": "@jupyter-widgets/controls",
          "model_name": "ProgressStyleModel",
          "model_module_version": "1.5.0",
          "state": {
            "_model_module": "@jupyter-widgets/controls",
            "_model_module_version": "1.5.0",
            "_model_name": "ProgressStyleModel",
            "_view_count": null,
            "_view_module": "@jupyter-widgets/base",
            "_view_module_version": "1.2.0",
            "_view_name": "StyleView",
            "bar_color": null,
            "description_width": ""
          }
        },
        "b044af2416f74ebaa4f71b7fd28b5f8f": {
          "model_module": "@jupyter-widgets/controls",
          "model_name": "VBoxModel",
          "model_module_version": "1.5.0",
          "state": {
            "_dom_classes": [],
            "_model_module": "@jupyter-widgets/controls",
            "_model_module_version": "1.5.0",
            "_model_name": "VBoxModel",
            "_view_count": null,
            "_view_module": "@jupyter-widgets/controls",
            "_view_module_version": "1.5.0",
            "_view_name": "VBoxView",
            "box_style": "",
            "children": [
              "IPY_MODEL_398249fc920846408ab9d919af6bc4c2",
              "IPY_MODEL_dfcae6d088754354908078c00da9d254"
            ],
            "layout": "IPY_MODEL_824c7281f3ce4c3b86127ed9234ef2e1"
          }
        },
        "398249fc920846408ab9d919af6bc4c2": {
          "model_module": "@jupyter-widgets/controls",
          "model_name": "LabelModel",
          "model_module_version": "1.5.0",
          "state": {
            "_dom_classes": [],
            "_model_module": "@jupyter-widgets/controls",
            "_model_module_version": "1.5.0",
            "_model_name": "LabelModel",
            "_view_count": null,
            "_view_module": "@jupyter-widgets/controls",
            "_view_module_version": "1.5.0",
            "_view_name": "LabelView",
            "description": "",
            "description_tooltip": null,
            "layout": "IPY_MODEL_a891d7d568884db2aafb256d5526eae3",
            "placeholder": "​",
            "style": "IPY_MODEL_2f3a2ccf9c9d485aa8827809fab4bf95",
            "value": "0.009 MB of 0.009 MB uploaded (0.000 MB deduped)\r"
          }
        },
        "dfcae6d088754354908078c00da9d254": {
          "model_module": "@jupyter-widgets/controls",
          "model_name": "FloatProgressModel",
          "model_module_version": "1.5.0",
          "state": {
            "_dom_classes": [],
            "_model_module": "@jupyter-widgets/controls",
            "_model_module_version": "1.5.0",
            "_model_name": "FloatProgressModel",
            "_view_count": null,
            "_view_module": "@jupyter-widgets/controls",
            "_view_module_version": "1.5.0",
            "_view_name": "ProgressView",
            "bar_style": "",
            "description": "",
            "description_tooltip": null,
            "layout": "IPY_MODEL_35e98bac69494bbe89e7232a16da638d",
            "max": 1,
            "min": 0,
            "orientation": "horizontal",
            "style": "IPY_MODEL_ea33f6aae9934bd3a0ec4c63e6afd6c3",
            "value": 1
          }
        },
        "824c7281f3ce4c3b86127ed9234ef2e1": {
          "model_module": "@jupyter-widgets/base",
          "model_name": "LayoutModel",
          "model_module_version": "1.2.0",
          "state": {
            "_model_module": "@jupyter-widgets/base",
            "_model_module_version": "1.2.0",
            "_model_name": "LayoutModel",
            "_view_count": null,
            "_view_module": "@jupyter-widgets/base",
            "_view_module_version": "1.2.0",
            "_view_name": "LayoutView",
            "align_content": null,
            "align_items": null,
            "align_self": null,
            "border": null,
            "bottom": null,
            "display": null,
            "flex": null,
            "flex_flow": null,
            "grid_area": null,
            "grid_auto_columns": null,
            "grid_auto_flow": null,
            "grid_auto_rows": null,
            "grid_column": null,
            "grid_gap": null,
            "grid_row": null,
            "grid_template_areas": null,
            "grid_template_columns": null,
            "grid_template_rows": null,
            "height": null,
            "justify_content": null,
            "justify_items": null,
            "left": null,
            "margin": null,
            "max_height": null,
            "max_width": null,
            "min_height": null,
            "min_width": null,
            "object_fit": null,
            "object_position": null,
            "order": null,
            "overflow": null,
            "overflow_x": null,
            "overflow_y": null,
            "padding": null,
            "right": null,
            "top": null,
            "visibility": null,
            "width": null
          }
        },
        "a891d7d568884db2aafb256d5526eae3": {
          "model_module": "@jupyter-widgets/base",
          "model_name": "LayoutModel",
          "model_module_version": "1.2.0",
          "state": {
            "_model_module": "@jupyter-widgets/base",
            "_model_module_version": "1.2.0",
            "_model_name": "LayoutModel",
            "_view_count": null,
            "_view_module": "@jupyter-widgets/base",
            "_view_module_version": "1.2.0",
            "_view_name": "LayoutView",
            "align_content": null,
            "align_items": null,
            "align_self": null,
            "border": null,
            "bottom": null,
            "display": null,
            "flex": null,
            "flex_flow": null,
            "grid_area": null,
            "grid_auto_columns": null,
            "grid_auto_flow": null,
            "grid_auto_rows": null,
            "grid_column": null,
            "grid_gap": null,
            "grid_row": null,
            "grid_template_areas": null,
            "grid_template_columns": null,
            "grid_template_rows": null,
            "height": null,
            "justify_content": null,
            "justify_items": null,
            "left": null,
            "margin": null,
            "max_height": null,
            "max_width": null,
            "min_height": null,
            "min_width": null,
            "object_fit": null,
            "object_position": null,
            "order": null,
            "overflow": null,
            "overflow_x": null,
            "overflow_y": null,
            "padding": null,
            "right": null,
            "top": null,
            "visibility": null,
            "width": null
          }
        },
        "2f3a2ccf9c9d485aa8827809fab4bf95": {
          "model_module": "@jupyter-widgets/controls",
          "model_name": "DescriptionStyleModel",
          "model_module_version": "1.5.0",
          "state": {
            "_model_module": "@jupyter-widgets/controls",
            "_model_module_version": "1.5.0",
            "_model_name": "DescriptionStyleModel",
            "_view_count": null,
            "_view_module": "@jupyter-widgets/base",
            "_view_module_version": "1.2.0",
            "_view_name": "StyleView",
            "description_width": ""
          }
        },
        "35e98bac69494bbe89e7232a16da638d": {
          "model_module": "@jupyter-widgets/base",
          "model_name": "LayoutModel",
          "model_module_version": "1.2.0",
          "state": {
            "_model_module": "@jupyter-widgets/base",
            "_model_module_version": "1.2.0",
            "_model_name": "LayoutModel",
            "_view_count": null,
            "_view_module": "@jupyter-widgets/base",
            "_view_module_version": "1.2.0",
            "_view_name": "LayoutView",
            "align_content": null,
            "align_items": null,
            "align_self": null,
            "border": null,
            "bottom": null,
            "display": null,
            "flex": null,
            "flex_flow": null,
            "grid_area": null,
            "grid_auto_columns": null,
            "grid_auto_flow": null,
            "grid_auto_rows": null,
            "grid_column": null,
            "grid_gap": null,
            "grid_row": null,
            "grid_template_areas": null,
            "grid_template_columns": null,
            "grid_template_rows": null,
            "height": null,
            "justify_content": null,
            "justify_items": null,
            "left": null,
            "margin": null,
            "max_height": null,
            "max_width": null,
            "min_height": null,
            "min_width": null,
            "object_fit": null,
            "object_position": null,
            "order": null,
            "overflow": null,
            "overflow_x": null,
            "overflow_y": null,
            "padding": null,
            "right": null,
            "top": null,
            "visibility": null,
            "width": null
          }
        },
        "ea33f6aae9934bd3a0ec4c63e6afd6c3": {
          "model_module": "@jupyter-widgets/controls",
          "model_name": "ProgressStyleModel",
          "model_module_version": "1.5.0",
          "state": {
            "_model_module": "@jupyter-widgets/controls",
            "_model_module_version": "1.5.0",
            "_model_name": "ProgressStyleModel",
            "_view_count": null,
            "_view_module": "@jupyter-widgets/base",
            "_view_module_version": "1.2.0",
            "_view_name": "StyleView",
            "bar_color": null,
            "description_width": ""
          }
        },
        "93b1f25847754fafad685c958642ff5c": {
          "model_module": "@jupyter-widgets/controls",
          "model_name": "VBoxModel",
          "model_module_version": "1.5.0",
          "state": {
            "_dom_classes": [],
            "_model_module": "@jupyter-widgets/controls",
            "_model_module_version": "1.5.0",
            "_model_name": "VBoxModel",
            "_view_count": null,
            "_view_module": "@jupyter-widgets/controls",
            "_view_module_version": "1.5.0",
            "_view_name": "VBoxView",
            "box_style": "",
            "children": [
              "IPY_MODEL_19383d9c405a40c6ba31b1cb9a670a60",
              "IPY_MODEL_c9e31ec4ae8d4192a15f805e8aa1dcda"
            ],
            "layout": "IPY_MODEL_3c5b1adb8de440129183ddc795065ef0"
          }
        },
        "19383d9c405a40c6ba31b1cb9a670a60": {
          "model_module": "@jupyter-widgets/controls",
          "model_name": "LabelModel",
          "model_module_version": "1.5.0",
          "state": {
            "_dom_classes": [],
            "_model_module": "@jupyter-widgets/controls",
            "_model_module_version": "1.5.0",
            "_model_name": "LabelModel",
            "_view_count": null,
            "_view_module": "@jupyter-widgets/controls",
            "_view_module_version": "1.5.0",
            "_view_name": "LabelView",
            "description": "",
            "description_tooltip": null,
            "layout": "IPY_MODEL_9ab33dfe7d60486e91778b3de07a5df3",
            "placeholder": "​",
            "style": "IPY_MODEL_5e8fe440e07e4044a365cf568f51761d",
            "value": "0.001 MB of 0.009 MB uploaded (0.000 MB deduped)\r"
          }
        },
        "c9e31ec4ae8d4192a15f805e8aa1dcda": {
          "model_module": "@jupyter-widgets/controls",
          "model_name": "FloatProgressModel",
          "model_module_version": "1.5.0",
          "state": {
            "_dom_classes": [],
            "_model_module": "@jupyter-widgets/controls",
            "_model_module_version": "1.5.0",
            "_model_name": "FloatProgressModel",
            "_view_count": null,
            "_view_module": "@jupyter-widgets/controls",
            "_view_module_version": "1.5.0",
            "_view_name": "ProgressView",
            "bar_style": "",
            "description": "",
            "description_tooltip": null,
            "layout": "IPY_MODEL_024b07c469bb4b3f9c87f0cd7cf42987",
            "max": 1,
            "min": 0,
            "orientation": "horizontal",
            "style": "IPY_MODEL_d15845176f9446deaaad54fc68d669cf",
            "value": 0.0868897758673626
          }
        },
        "3c5b1adb8de440129183ddc795065ef0": {
          "model_module": "@jupyter-widgets/base",
          "model_name": "LayoutModel",
          "model_module_version": "1.2.0",
          "state": {
            "_model_module": "@jupyter-widgets/base",
            "_model_module_version": "1.2.0",
            "_model_name": "LayoutModel",
            "_view_count": null,
            "_view_module": "@jupyter-widgets/base",
            "_view_module_version": "1.2.0",
            "_view_name": "LayoutView",
            "align_content": null,
            "align_items": null,
            "align_self": null,
            "border": null,
            "bottom": null,
            "display": null,
            "flex": null,
            "flex_flow": null,
            "grid_area": null,
            "grid_auto_columns": null,
            "grid_auto_flow": null,
            "grid_auto_rows": null,
            "grid_column": null,
            "grid_gap": null,
            "grid_row": null,
            "grid_template_areas": null,
            "grid_template_columns": null,
            "grid_template_rows": null,
            "height": null,
            "justify_content": null,
            "justify_items": null,
            "left": null,
            "margin": null,
            "max_height": null,
            "max_width": null,
            "min_height": null,
            "min_width": null,
            "object_fit": null,
            "object_position": null,
            "order": null,
            "overflow": null,
            "overflow_x": null,
            "overflow_y": null,
            "padding": null,
            "right": null,
            "top": null,
            "visibility": null,
            "width": null
          }
        },
        "9ab33dfe7d60486e91778b3de07a5df3": {
          "model_module": "@jupyter-widgets/base",
          "model_name": "LayoutModel",
          "model_module_version": "1.2.0",
          "state": {
            "_model_module": "@jupyter-widgets/base",
            "_model_module_version": "1.2.0",
            "_model_name": "LayoutModel",
            "_view_count": null,
            "_view_module": "@jupyter-widgets/base",
            "_view_module_version": "1.2.0",
            "_view_name": "LayoutView",
            "align_content": null,
            "align_items": null,
            "align_self": null,
            "border": null,
            "bottom": null,
            "display": null,
            "flex": null,
            "flex_flow": null,
            "grid_area": null,
            "grid_auto_columns": null,
            "grid_auto_flow": null,
            "grid_auto_rows": null,
            "grid_column": null,
            "grid_gap": null,
            "grid_row": null,
            "grid_template_areas": null,
            "grid_template_columns": null,
            "grid_template_rows": null,
            "height": null,
            "justify_content": null,
            "justify_items": null,
            "left": null,
            "margin": null,
            "max_height": null,
            "max_width": null,
            "min_height": null,
            "min_width": null,
            "object_fit": null,
            "object_position": null,
            "order": null,
            "overflow": null,
            "overflow_x": null,
            "overflow_y": null,
            "padding": null,
            "right": null,
            "top": null,
            "visibility": null,
            "width": null
          }
        },
        "5e8fe440e07e4044a365cf568f51761d": {
          "model_module": "@jupyter-widgets/controls",
          "model_name": "DescriptionStyleModel",
          "model_module_version": "1.5.0",
          "state": {
            "_model_module": "@jupyter-widgets/controls",
            "_model_module_version": "1.5.0",
            "_model_name": "DescriptionStyleModel",
            "_view_count": null,
            "_view_module": "@jupyter-widgets/base",
            "_view_module_version": "1.2.0",
            "_view_name": "StyleView",
            "description_width": ""
          }
        },
        "024b07c469bb4b3f9c87f0cd7cf42987": {
          "model_module": "@jupyter-widgets/base",
          "model_name": "LayoutModel",
          "model_module_version": "1.2.0",
          "state": {
            "_model_module": "@jupyter-widgets/base",
            "_model_module_version": "1.2.0",
            "_model_name": "LayoutModel",
            "_view_count": null,
            "_view_module": "@jupyter-widgets/base",
            "_view_module_version": "1.2.0",
            "_view_name": "LayoutView",
            "align_content": null,
            "align_items": null,
            "align_self": null,
            "border": null,
            "bottom": null,
            "display": null,
            "flex": null,
            "flex_flow": null,
            "grid_area": null,
            "grid_auto_columns": null,
            "grid_auto_flow": null,
            "grid_auto_rows": null,
            "grid_column": null,
            "grid_gap": null,
            "grid_row": null,
            "grid_template_areas": null,
            "grid_template_columns": null,
            "grid_template_rows": null,
            "height": null,
            "justify_content": null,
            "justify_items": null,
            "left": null,
            "margin": null,
            "max_height": null,
            "max_width": null,
            "min_height": null,
            "min_width": null,
            "object_fit": null,
            "object_position": null,
            "order": null,
            "overflow": null,
            "overflow_x": null,
            "overflow_y": null,
            "padding": null,
            "right": null,
            "top": null,
            "visibility": null,
            "width": null
          }
        },
        "d15845176f9446deaaad54fc68d669cf": {
          "model_module": "@jupyter-widgets/controls",
          "model_name": "ProgressStyleModel",
          "model_module_version": "1.5.0",
          "state": {
            "_model_module": "@jupyter-widgets/controls",
            "_model_module_version": "1.5.0",
            "_model_name": "ProgressStyleModel",
            "_view_count": null,
            "_view_module": "@jupyter-widgets/base",
            "_view_module_version": "1.2.0",
            "_view_name": "StyleView",
            "bar_color": null,
            "description_width": ""
          }
        }
      }
    }
  },
  "cells": [
    {
      "cell_type": "markdown",
      "metadata": {
        "id": "view-in-github",
        "colab_type": "text"
      },
      "source": [
        "<a href=\"https://colab.research.google.com/github/masadeghi/dementia_clf_fmri/blob/main/experiments/analysis_scripts/fmri_dementia_resnet_wandb.ipynb\" target=\"_parent\"><img src=\"https://colab.research.google.com/assets/colab-badge.svg\" alt=\"Open In Colab\"/></a>"
      ]
    },
    {
      "cell_type": "markdown",
      "source": [
        "# Import dependencies"
      ],
      "metadata": {
        "id": "JbbIDVJZEmCS"
      }
    },
    {
      "cell_type": "code",
      "execution_count": null,
      "metadata": {
        "id": "jyodsVHpEj__",
        "colab": {
          "base_uri": "https://localhost:8080/"
        },
        "outputId": "1fbcb5df-dff3-4715-cd8b-cc2ce256cd03"
      },
      "outputs": [
        {
          "output_type": "stream",
          "name": "stdout",
          "text": [
            "\u001b[2K     \u001b[90m━━━━━━━━━━━━━━━━━━━━━━━━━━━━━━━━━━━━━━━\u001b[0m \u001b[32m549.1/549.1 KB\u001b[0m \u001b[31m9.4 MB/s\u001b[0m eta \u001b[36m0:00:00\u001b[0m\n",
            "\u001b[2K     \u001b[90m━━━━━━━━━━━━━━━━━━━━━━━━━━━━━━━━━━━━━━\u001b[0m \u001b[32m190.3/190.3 KB\u001b[0m \u001b[31m20.9 MB/s\u001b[0m eta \u001b[36m0:00:00\u001b[0m\n",
            "\u001b[?25h"
          ]
        }
      ],
      "source": [
        "import os\n",
        "import time\n",
        "import copy\n",
        "import math\n",
        "from pprint import pprint\n",
        "\n",
        "import numpy as np\n",
        "import pandas as pd\n",
        "import matplotlib.pyplot as plt\n",
        "\n",
        "from sklearn.model_selection import train_test_split, KFold\n",
        "from sklearn.metrics import f1_score, roc_auc_score, accuracy_score, balanced_accuracy_score\n",
        "from sklearn.utils import class_weight\n",
        "\n",
        "!pip install -qU focal_loss_torch\n",
        "from focal_loss.focal_loss import FocalLoss\n",
        "\n",
        "import torch\n",
        "import torch.nn as nn\n",
        "import torch.nn.functional as F\n",
        "from torch.utils.data import Dataset, DataLoader\n",
        "!pip install -qU timm\n",
        "import timm"
      ]
    },
    {
      "cell_type": "code",
      "source": [
        "device = torch.device(\"cuda\" if torch.cuda.is_available() else \"cpu\")"
      ],
      "metadata": {
        "id": "Eg-Y5phZgGlU"
      },
      "execution_count": null,
      "outputs": []
    },
    {
      "cell_type": "markdown",
      "metadata": {
        "id": "1h0ADUPUsDCe"
      },
      "source": [
        "# Import data"
      ]
    },
    {
      "cell_type": "code",
      "execution_count": null,
      "metadata": {
        "colab": {
          "base_uri": "https://localhost:8080/"
        },
        "id": "HRCYLtg3sECV",
        "outputId": "5da64973-6612-4c52-8935-1706a030ef74"
      },
      "outputs": [
        {
          "output_type": "stream",
          "name": "stdout",
          "text": [
            "Mounted at /content/gdrive\n"
          ]
        }
      ],
      "source": [
        "# Mount Google drive\n",
        "from google.colab import drive\n",
        "\n",
        "drive.mount('/content/gdrive')"
      ]
    },
    {
      "cell_type": "code",
      "execution_count": null,
      "metadata": {
        "id": "zMTFFgAFtHQ0"
      },
      "outputs": [],
      "source": [
        "data_path = \"/content/gdrive/MyDrive/Coding projects/resting_fmri_dementia\"\n",
        "\n",
        "labels = pd.read_csv(os.path.join(data_path, 'labels_new.csv'))"
      ]
    },
    {
      "cell_type": "markdown",
      "source": [
        "## Train/val/test split"
      ],
      "metadata": {
        "id": "lIEzLQt4ZfHF"
      }
    },
    {
      "cell_type": "code",
      "source": [
        "# Splitting out the test set\n",
        "labels_train_val, labels_test = train_test_split(labels, test_size = 0.1,\n",
        "                                            shuffle = True, random_state = 42,\n",
        "                                            stratify = labels['label'])\n",
        "\n",
        "# Train/val split\n",
        "labels_train, labels_val = train_test_split(labels_train_val, test_size = 0.2,\n",
        "                                            shuffle = True, random_state = 42,\n",
        "                                            stratify = labels_train_val['label'])"
      ],
      "metadata": {
        "id": "a_VEdL-PZeNJ"
      },
      "execution_count": null,
      "outputs": []
    },
    {
      "cell_type": "code",
      "source": [
        "labels_train_val = labels_train_val.reset_index()\n",
        "labels_train = labels_train.reset_index()\n",
        "labels_val = labels_val.reset_index()\n",
        "labels_test = labels_test.reset_index()"
      ],
      "metadata": {
        "id": "7z2tQ20mDs5u"
      },
      "execution_count": null,
      "outputs": []
    },
    {
      "cell_type": "code",
      "source": [
        "# labels_train_val.to_csv(os.path.join(data_path, 'labels_train_val.csv'), header = True)\n",
        "# labels_test.to_csv(os.path.join(data_path, 'labels_test.csv'), header = True)\n",
        "# labels_train.to_csv(os.path.join(data_path, 'labels_train.csv'), header = True)\n",
        "# labels_val.to_csv(os.path.join(data_path, 'labels_val.csv'), header = True)"
      ],
      "metadata": {
        "id": "r3FDx3_MD1F2"
      },
      "execution_count": null,
      "outputs": []
    },
    {
      "cell_type": "markdown",
      "source": [
        "## Standardizing the data\n",
        "* Get the means and standard deviations across all of the training set fMRIs\n",
        "* Standardize the whole dataset using the calculated means and standard deviations"
      ],
      "metadata": {
        "id": "WhCkLg1c-Njk"
      }
    },
    {
      "cell_type": "code",
      "source": [
        "# # Getting all of the training data\n",
        "\n",
        "# def get_datasets(data_csv):\n",
        "\n",
        "#   X = np.empty((len(data_csv), 200, 140))\n",
        "#   y = np.empty(len(data_csv))\n",
        "\n",
        "#   for i, row in data_csv.iterrows():\n",
        "#     matrix_name = row['matrix']\n",
        "#     matrix_label = row['label']\n",
        "#     matrix_path = os.path.join(data_path, 'data_dir', matrix_name)\n",
        "#     matrix_arr = np.genfromtxt(matrix_path, delimiter = ',')\n",
        "#     matrix_arr = matrix_arr[:200, :140]\n",
        "#     X[i] = matrix_arr\n",
        "#     y[i] = matrix_label\n",
        "\n",
        "#   return X, y"
      ],
      "metadata": {
        "id": "ff0GmDaNAzJA"
      },
      "execution_count": null,
      "outputs": []
    },
    {
      "cell_type": "code",
      "source": [
        "# X_train, y_train = get_datasets(labels_train)"
      ],
      "metadata": {
        "id": "YDsq3x8-DnwQ"
      },
      "execution_count": null,
      "outputs": []
    },
    {
      "cell_type": "code",
      "source": [
        "# train_mean = np.mean(X_train)\n",
        "# train_std = np.std(X_train)\n",
        "# train_mean, train_std"
      ],
      "metadata": {
        "id": "9D8W9nMCBN4M"
      },
      "execution_count": null,
      "outputs": []
    },
    {
      "cell_type": "code",
      "source": [
        "# os.makedirs(os.path.join(data_path, 'scaled_data_dir'))"
      ],
      "metadata": {
        "id": "SBh4JmzxFTyn"
      },
      "execution_count": null,
      "outputs": []
    },
    {
      "cell_type": "code",
      "source": [
        "# save_path = \"/content/gdrive/MyDrive/Coding projects/resting_fmri_dementia/scaled_data_dir\"\n",
        "\n",
        "# for i, row in labels.iterrows():\n",
        "#   matrix_name = row['matrix']\n",
        "#   matrix_path = os.path.join(data_path, 'data_dir', matrix_name)\n",
        "#   matrix_arr = np.genfromtxt(matrix_path, delimiter = ',')\n",
        "#   matrix_arr_scaled = (matrix_arr - train_mean)/train_std\n",
        "#   new_path = os.path.join(save_path, matrix_name)\n",
        "#   np.savetxt(os.path.join(save_path, matrix_name), matrix_arr_scaled, delimiter = ',')"
      ],
      "metadata": {
        "id": "Zhcjv0nn-Sy5"
      },
      "execution_count": null,
      "outputs": []
    },
    {
      "cell_type": "markdown",
      "source": [
        "# Setup Weights and Biases"
      ],
      "metadata": {
        "id": "F_4u0nMbIvJh"
      }
    },
    {
      "cell_type": "code",
      "source": [
        "!pip install -qU wandb\n",
        "import wandb\n",
        "\n",
        "wandb.login(key = '####')"
      ],
      "metadata": {
        "colab": {
          "base_uri": "https://localhost:8080/"
        },
        "id": "gAR-B1WKFOON",
        "outputId": "dddf52d5-0ea2-4c3d-93a2-b83efc4108a0"
      },
      "execution_count": null,
      "outputs": [
        {
          "output_type": "stream",
          "name": "stdout",
          "text": [
            "\u001b[2K     \u001b[90m━━━━━━━━━━━━━━━━━━━━━━━━━━━━━━━━━━━━━━━━\u001b[0m \u001b[32m2.0/2.0 MB\u001b[0m \u001b[31m28.6 MB/s\u001b[0m eta \u001b[36m0:00:00\u001b[0m\n",
            "\u001b[2K     \u001b[90m━━━━━━━━━━━━━━━━━━━━━━━━━━━━━━━━━━━━━━\u001b[0m \u001b[32m178.9/178.9 KB\u001b[0m \u001b[31m22.8 MB/s\u001b[0m eta \u001b[36m0:00:00\u001b[0m\n",
            "\u001b[?25h  Preparing metadata (setup.py) ... \u001b[?25l\u001b[?25hdone\n",
            "\u001b[2K     \u001b[90m━━━━━━━━━━━━━━━━━━━━━━━━━━━━━━━━━━━━━━\u001b[0m \u001b[32m184.0/184.0 KB\u001b[0m \u001b[31m21.1 MB/s\u001b[0m eta \u001b[36m0:00:00\u001b[0m\n",
            "\u001b[2K     \u001b[90m━━━━━━━━━━━━━━━━━━━━━━━━━━━━━━━━━━━━━━━━\u001b[0m \u001b[32m62.7/62.7 KB\u001b[0m \u001b[31m7.5 MB/s\u001b[0m eta \u001b[36m0:00:00\u001b[0m\n",
            "\u001b[2K     \u001b[90m━━━━━━━━━━━━━━━━━━━━━━━━━━━━━━━━━━━━━━\u001b[0m \u001b[32m140.6/140.6 KB\u001b[0m \u001b[31m19.0 MB/s\u001b[0m eta \u001b[36m0:00:00\u001b[0m\n",
            "\u001b[?25h  Building wheel for pathtools (setup.py) ... \u001b[?25l\u001b[?25hdone\n"
          ]
        },
        {
          "output_type": "stream",
          "name": "stderr",
          "text": [
            "\u001b[34m\u001b[1mwandb\u001b[0m: W&B API key is configured. Use \u001b[1m`wandb login --relogin`\u001b[0m to force relogin\n",
            "\u001b[34m\u001b[1mwandb\u001b[0m: \u001b[33mWARNING\u001b[0m If you're specifying your api key in code, ensure this code is not shared publicly.\n",
            "\u001b[34m\u001b[1mwandb\u001b[0m: \u001b[33mWARNING\u001b[0m Consider setting the WANDB_API_KEY environment variable, or running `wandb login` from the command line.\n",
            "\u001b[34m\u001b[1mwandb\u001b[0m: Appending key for api.wandb.ai to your netrc file: /root/.netrc\n"
          ]
        },
        {
          "output_type": "execute_result",
          "data": {
            "text/plain": [
              "True"
            ]
          },
          "metadata": {},
          "execution_count": 13
        }
      ]
    },
    {
      "cell_type": "code",
      "source": [
        "# Setting up the weights and biases sweep\n",
        "\n",
        "sweep_config = {\n",
        "    'method' : 'random'\n",
        "}\n",
        "\n",
        "metric = {\n",
        "    'name': 'val_f1',\n",
        "    'goal': 'maximize'\n",
        "}\n",
        "\n",
        "sweep_config['metric'] = metric\n",
        "\n",
        "parameters_dict = {\n",
        "    'optimizer': {'values': ['adam', 'sgd']},\n",
        "    'fc_layer_size': {'values': [128, 256, 512]},\n",
        "    'dropout': {'values': [0, 0.2, 0.4, 0.6]},\n",
        "    'epochs': {'value': 8},\n",
        "    'learning_rate': {'distribution': 'uniform', 'min': 0.0001, 'max': 0.01},\n",
        "    'train_batch_size': {'distribution': 'q_log_uniform_values', 'q': 1, 'min': 32, 'max': 128},\n",
        "    'val_batch_size': {'distribution': 'q_log_uniform_values', 'q': 2, 'min': 32, 'max': 256},\n",
        "    'momentum': {'distribution': 'uniform', 'min' : 0.7, 'max': 1},\n",
        "    'architecture': {'value': 'resnet18'},\n",
        "    'gamma': {'values': [0.5, 2 , 4]}\n",
        "}\n",
        "\n",
        "sweep_config['parameters'] = parameters_dict\n",
        "\n",
        "pprint(sweep_config)"
      ],
      "metadata": {
        "colab": {
          "base_uri": "https://localhost:8080/"
        },
        "id": "PV73S4leFGgB",
        "outputId": "5013adcb-a361-44f2-9741-94f5e18c3152"
      },
      "execution_count": null,
      "outputs": [
        {
          "output_type": "stream",
          "name": "stdout",
          "text": [
            "{'method': 'random',\n",
            " 'metric': {'goal': 'maximize', 'name': 'val_f1'},\n",
            " 'parameters': {'architecture': {'value': 'resnet18'},\n",
            "                'dropout': {'values': [0, 0.2, 0.4, 0.6]},\n",
            "                'epochs': {'value': 8},\n",
            "                'fc_layer_size': {'values': [128, 256, 512]},\n",
            "                'gamma': {'values': [0.5, 2, 4]},\n",
            "                'learning_rate': {'distribution': 'uniform',\n",
            "                                  'max': 0.01,\n",
            "                                  'min': 0.0001},\n",
            "                'momentum': {'distribution': 'uniform', 'max': 1, 'min': 0.7},\n",
            "                'optimizer': {'values': ['adam', 'sgd']},\n",
            "                'train_batch_size': {'distribution': 'q_log_uniform_values',\n",
            "                                     'max': 128,\n",
            "                                     'min': 32,\n",
            "                                     'q': 1},\n",
            "                'val_batch_size': {'distribution': 'q_log_uniform_values',\n",
            "                                   'max': 256,\n",
            "                                   'min': 32,\n",
            "                                   'q': 2}}}\n"
          ]
        }
      ]
    },
    {
      "cell_type": "code",
      "source": [
        "sweep_id = wandb.sweep(sweep_config, project = \"fmri-dementia-sweep-six\")"
      ],
      "metadata": {
        "colab": {
          "base_uri": "https://localhost:8080/"
        },
        "id": "j_BgJf8RYThQ",
        "outputId": "d5865077-f1ba-4b17-ffb7-f89840dedcb7"
      },
      "execution_count": null,
      "outputs": [
        {
          "output_type": "stream",
          "name": "stdout",
          "text": [
            "Create sweep with ID: aytv2g68\n",
            "Sweep URL: https://wandb.ai/masadeghi6/fmri-dementia-sweep-six/sweeps/aytv2g68\n"
          ]
        }
      ]
    },
    {
      "cell_type": "markdown",
      "source": [
        "# Training procedure"
      ],
      "metadata": {
        "id": "p2Ri8duhFcjy"
      }
    },
    {
      "cell_type": "markdown",
      "source": [
        "Notable resources used:\n",
        "\n",
        "Focal loss source: https://github.com/mathiaszinnen/focal_loss_torch\n",
        "\n",
        "ROC-AUC score: https://scikit-learn.org/stable/modules/generated/sklearn.metrics.roc_auc_score.html#sklearn.metrics.roc_auc_score"
      ],
      "metadata": {
        "id": "_dsh9rQ-cnH1"
      }
    },
    {
      "cell_type": "code",
      "source": [
        "class_weights = class_weight.compute_class_weight('balanced', classes = labels['label'].unique(), y = labels['label'].values)\n",
        "class_weights = torch.FloatTensor(class_weights).to(device)"
      ],
      "metadata": {
        "id": "0oJJhklDctTV"
      },
      "execution_count": null,
      "outputs": []
    },
    {
      "cell_type": "code",
      "source": [
        "def train(config = None):\n",
        "\n",
        "  with wandb.init(config = config):\n",
        "\n",
        "    config = wandb.config\n",
        "\n",
        "    train_data_loader = build_train_loader(config.train_batch_size)\n",
        "    val_data_loader = build_val_loader(config.val_batch_size)\n",
        "\n",
        "    model = build_model(config.architecture, config.fc_layer_size, config.dropout)\n",
        "    criterion = FocalLoss(gamma = config.gamma, weights = class_weights)\n",
        "    optimizer = build_optimizer(model, config.optimizer, config.learning_rate, config.momentum)\n",
        "\n",
        "    for epoch in range(config.epochs):\n",
        "      train_loss, val_loss, train_accuracy, val_accuracy, train_f1, val_f1, train_auc, val_auc = train_epoch(model, train_data_loader, val_data_loader, criterion, optimizer)\n",
        "      wandb.log({\"train_loss\": train_loss, \"val_loss\": val_loss,\n",
        "                 \"train_accuracy\": train_accuracy, \"val_accuracy\": val_accuracy,\n",
        "                 \"train_f1\": train_f1, \"val_f1\": val_f1,\n",
        "                 \"train_auc\": train_auc, \"val_auc\": val_auc,\n",
        "                 \"epoch\": epoch})"
      ],
      "metadata": {
        "id": "k-aXmMwBFej1"
      },
      "execution_count": null,
      "outputs": []
    },
    {
      "cell_type": "markdown",
      "metadata": {
        "id": "AiAcy8_QsZvG"
      },
      "source": [
        "# Create dataloaders"
      ]
    },
    {
      "cell_type": "code",
      "execution_count": null,
      "metadata": {
        "id": "Zq8QYQ4-sb_U"
      },
      "outputs": [],
      "source": [
        "class FMRILoader(Dataset):\n",
        "    \"\"\"\n",
        "    fMRI Dataset Loader\n",
        "\n",
        "    Args:\n",
        "        path (str):\n",
        "            Path to the CSV file\n",
        "\n",
        "        labels (dict):\n",
        "            Labels dictionnary if not provided by the CSV file\n",
        "\n",
        "            AD: Alzheimer's disease\n",
        "            FTD: Frontotemporal dementia\n",
        "            HC: Healthy control\n",
        "            MCI: Mild cognitive impairment\n",
        "    \"\"\"\n",
        "\n",
        "    def __init__(self, path:str, labels:dict = {1:'AD', 2:'FTD', 3:'HC', 4:'MCI'}):\n",
        "        self.folder = os.path.dirname(path)\n",
        "        self.df = pd.read_csv(path)\n",
        "        idname = dict()\n",
        "        if 'class_name' in self.df:\n",
        "            for i, row in self.df.iterrows():\n",
        "                idname[row['label']] = row['class_name']\n",
        "        else:\n",
        "            idname = labels\n",
        "        self.idclass = dict()\n",
        "        for i, id in enumerate(set(idname)):\n",
        "            self.idclass[id] = i\n",
        "        self.classes = []\n",
        "        for id in self.idclass:\n",
        "            self.classes.append(idname[id])\n",
        "\n",
        "    def __len__(self):\n",
        "        return len(self.df)\n",
        "\n",
        "    def __getitem__(self, idx):\n",
        "        \"\"\"\n",
        "        Returns:\n",
        "            A multichannel signal tensor and class id.\n",
        "        \"\"\"\n",
        "        matrix_path = self.df['matrix'][idx]\n",
        "        id = self.df['label'][idx]\n",
        "        data = pd.read_csv(self.folder + '/scaled_data_dir/' + matrix_path, header = None).to_numpy()\n",
        "        data = np.stack((data,)*3, axis = 0)\n",
        "        data = data[:3, :200, :140]\n",
        "\n",
        "        tensor = torch.tensor(data, dtype = torch.float32)\n",
        "\n",
        "        return tensor, self.idclass[id]"
      ]
    },
    {
      "cell_type": "code",
      "source": [
        "train_dataset = FMRILoader(\"/content/gdrive/MyDrive/Coding projects/resting_fmri_dementia/labels_train.csv\")\n",
        "val_dataset = FMRILoader(\"/content/gdrive/MyDrive/Coding projects/resting_fmri_dementia/labels_val.csv\")\n",
        "\n",
        "def build_train_loader(batch_size):\n",
        "\n",
        "  train_loader = DataLoader(train_dataset, batch_size = batch_size, shuffle = True)\n",
        "\n",
        "  return train_loader\n",
        "\n",
        "def build_val_loader(batch_size):\n",
        "\n",
        "  val_loader = DataLoader(val_dataset, batch_size = batch_size, shuffle = False)\n",
        "\n",
        "  return val_loader"
      ],
      "metadata": {
        "id": "aldwe7dZHEOo"
      },
      "execution_count": null,
      "outputs": []
    },
    {
      "cell_type": "markdown",
      "source": [
        "# Create model"
      ],
      "metadata": {
        "id": "uQdDyb09ftHO"
      }
    },
    {
      "cell_type": "code",
      "source": [
        "# model_architectures = list(sweep_config['parameters']['architecture'].items())[0][1]\n",
        "# model_architectures = model_architectures if isinstance(model_architectures, list) else [model_architectures]\n",
        "\n",
        "# models = {}\n",
        "# #\n",
        "# for net in model_architectures:\n",
        "#   model = timm.create_model(net,\n",
        "#                             pretrained = True,\n",
        "#                             num_classes = 4,\n",
        "#                             global_pool = 'catavgmax')\n",
        "#   models[net] = model"
      ],
      "metadata": {
        "id": "Yh_hJkrDaauO"
      },
      "execution_count": null,
      "outputs": []
    },
    {
      "cell_type": "code",
      "source": [
        "def build_model(architecture, fc_layer_size, dropout):\n",
        "\n",
        "  model = timm.create_model(architecture,\n",
        "                            pretrained = True,\n",
        "                            num_classes = 4,\n",
        "                            global_pool = 'catavgmax')\n",
        "\n",
        "  num_in_features = model.get_classifier().in_features\n",
        "\n",
        "  custom_head = nn.Sequential(\n",
        "    nn.BatchNorm1d(num_in_features),\n",
        "    nn.Linear(in_features = num_in_features, out_features = fc_layer_size, bias = False),\n",
        "    nn.ReLU(inplace=True),\n",
        "    nn.BatchNorm1d(fc_layer_size),\n",
        "    nn.Dropout(dropout),\n",
        "    nn.Linear(in_features = fc_layer_size, out_features = 4),\n",
        "    nn.Softmax(dim = -1)\n",
        "  )\n",
        "\n",
        "  if 'resnet' in architecture:\n",
        "    model.fc = custom_head\n",
        "\n",
        "  return model.to(device)"
      ],
      "metadata": {
        "id": "UocKVorIKPuu"
      },
      "execution_count": null,
      "outputs": []
    },
    {
      "cell_type": "markdown",
      "source": [
        "# Choose optimizer"
      ],
      "metadata": {
        "id": "cksOcLQsgeXc"
      }
    },
    {
      "cell_type": "code",
      "source": [
        "def build_optimizer(model, optimizer, learning_rate, momentum):\n",
        "  if optimizer == \"sgd\":\n",
        "    optimizer = torch.optim.SGD(model.parameters(),\n",
        "                          lr = learning_rate, momentum = momentum)\n",
        "  elif optimizer == \"adam\":\n",
        "    optimizer = torch.optim.Adam(model.parameters(),\n",
        "                                 lr = learning_rate)\n",
        "\n",
        "  return optimizer"
      ],
      "metadata": {
        "id": "_bkpkcmPRlV2"
      },
      "execution_count": null,
      "outputs": []
    },
    {
      "cell_type": "markdown",
      "source": [
        "# Training loop"
      ],
      "metadata": {
        "id": "ZW41jOBXg8et"
      }
    },
    {
      "cell_type": "code",
      "source": [
        "def train_epoch(model, train_data_loader, val_data_loader, criterion, optimizer):\n",
        "\n",
        "  for phase in ['train', 'validation']:\n",
        "      if phase == 'train':\n",
        "          model.train()\n",
        "          dataset = train_dataset\n",
        "          dataloader = train_data_loader\n",
        "      else:\n",
        "          model.eval()\n",
        "          dataset = val_dataset\n",
        "          dataloader = val_data_loader\n",
        "\n",
        "      running_loss = 0.0\n",
        "      running_outputs = torch.empty(0).to(device)\n",
        "      running_labels = torch.empty(0).to(device)\n",
        "      running_preds = torch.empty(0).to(device)\n",
        "\n",
        "      for inputs, targets in dataloader:\n",
        "          inputs, targets = inputs.to(device), targets.to(device)\n",
        "\n",
        "          outputs = model(inputs)\n",
        "          loss = criterion(outputs, targets)\n",
        "\n",
        "          if phase == 'train':\n",
        "              optimizer.zero_grad()\n",
        "              loss.backward()\n",
        "              optimizer.step()\n",
        "\n",
        "          preds = torch.argmax(outputs, axis = -1)\n",
        "          running_preds = torch.cat([running_preds, preds])\n",
        "\n",
        "          running_loss += loss.item() * inputs.size(0)\n",
        "          running_outputs = torch.cat([running_outputs, outputs])\n",
        "          running_labels = torch.cat([running_labels, targets])\n",
        "\n",
        "      running_labels = running_labels.cpu()\n",
        "      running_preds = running_preds.cpu()\n",
        "      running_outputs = running_outputs.detach().cpu()\n",
        "\n",
        "      if phase == 'train':\n",
        "        train_loss = running_loss / len(dataset)\n",
        "        train_accuracy = balanced_accuracy_score(running_labels, running_preds)\n",
        "        train_f1 = f1_score(running_labels, running_preds, average = 'weighted')\n",
        "        train_auc = roc_auc_score(running_labels, running_outputs, multi_class = \"ovr\", average = \"weighted\")\n",
        "\n",
        "        # print('train loss: {:.4f}, accuracy: {:.4f}, f1: {:.4f}, auc: {:.4f}'.format(train_accuracy, train_loss, train_f1, train_auc))\n",
        "\n",
        "      else:\n",
        "        val_loss = running_loss / len(dataset)\n",
        "        val_accuracy = balanced_accuracy_score(running_labels, running_preds)\n",
        "        val_f1 = f1_score(running_labels, running_preds, average = 'weighted')\n",
        "        val_auc = roc_auc_score(running_labels, running_outputs, multi_class = \"ovr\", average = \"weighted\")\n",
        "\n",
        "        # print('validation loss: {:.4f}, accuracy: {:.4f}, f1: {:.4f}, auc: {:.4f}'.format(val_accuracy, val_loss, val_f1, val_auc))\n",
        "\n",
        "  return train_loss, val_loss, train_accuracy, val_accuracy, train_f1, val_f1, train_auc, val_auc"
      ],
      "metadata": {
        "id": "_2rXWDyFhhM2"
      },
      "execution_count": null,
      "outputs": []
    },
    {
      "cell_type": "markdown",
      "source": [
        "# Initiate sweep"
      ],
      "metadata": {
        "id": "l1SmgyEjkfx7"
      }
    },
    {
      "cell_type": "code",
      "source": [
        "wandb.agent(sweep_id, train, count = 10)"
      ],
      "metadata": {
        "colab": {
          "base_uri": "https://localhost:8080/",
          "height": 1000,
          "referenced_widgets": [
            "24dc464eacc948f68d890844ac23f36e",
            "0fadeb12895a4831b20c45b173cdbf9c",
            "1a6ea7d6f90e42d896b4d49a71fbd4d3",
            "fbaf617116a44ea7b7bcfdba545e24e3",
            "e5f0920ba49c426a9a3fdfd2c2c3a71c",
            "160c3f691257440cb9604c64f6635f57",
            "ab003d2d6b844a4e98394257df412f1d",
            "8bab0a8085394c85b92a4afc7af6c9ed",
            "1cd3bff9fb094dbfa048f9bb60620f1f",
            "41672202f04d4ceba31413dbacb734e9",
            "544a8cbe6b854acd8ed59e5e4ac0f65e",
            "4572366aa5b746d489d8f26d4ce4c927",
            "fced2b42de034ae9a7e54574ff398c05",
            "b3c842150c944511833c20ab8a1dad5b",
            "dd8e66dcb08446838f5ce2a232bb1cf4",
            "627fa8cfbfeb47488c84ec5a66a49a79",
            "874561825a7c4b4da5668ac2bb1f05c0",
            "9340ec15686b418aa521760fbc3c2666",
            "33f76dab6ded4bc09f035df42528a4c4",
            "146d02ef88f84fce8148e023c86175a0",
            "4a2cbe0ecdc5445e991a8c6015857383",
            "638c1566745a4df69a6a6ca48e34f16a",
            "1a3d867e019249f7b68150d3ab77367f",
            "b6598690b9144195a9b47dce0c0440fe",
            "b044af2416f74ebaa4f71b7fd28b5f8f",
            "398249fc920846408ab9d919af6bc4c2",
            "dfcae6d088754354908078c00da9d254",
            "824c7281f3ce4c3b86127ed9234ef2e1",
            "a891d7d568884db2aafb256d5526eae3",
            "2f3a2ccf9c9d485aa8827809fab4bf95",
            "35e98bac69494bbe89e7232a16da638d",
            "ea33f6aae9934bd3a0ec4c63e6afd6c3",
            "93b1f25847754fafad685c958642ff5c",
            "19383d9c405a40c6ba31b1cb9a670a60",
            "c9e31ec4ae8d4192a15f805e8aa1dcda",
            "3c5b1adb8de440129183ddc795065ef0",
            "9ab33dfe7d60486e91778b3de07a5df3",
            "5e8fe440e07e4044a365cf568f51761d",
            "024b07c469bb4b3f9c87f0cd7cf42987",
            "d15845176f9446deaaad54fc68d669cf"
          ]
        },
        "id": "9tenWb7OkhcT",
        "outputId": "6f07a2fe-a93e-4345-e7a2-1394695113df"
      },
      "execution_count": null,
      "outputs": [
        {
          "metadata": {
            "tags": null
          },
          "name": "stderr",
          "output_type": "stream",
          "text": [
            "\u001b[34m\u001b[1mwandb\u001b[0m: Agent Starting Run: 3a8jgkhc with config:\n",
            "\u001b[34m\u001b[1mwandb\u001b[0m: \tarchitecture: resnet18\n",
            "\u001b[34m\u001b[1mwandb\u001b[0m: \tdropout: 0\n",
            "\u001b[34m\u001b[1mwandb\u001b[0m: \tepochs: 8\n",
            "\u001b[34m\u001b[1mwandb\u001b[0m: \tfc_layer_size: 512\n",
            "\u001b[34m\u001b[1mwandb\u001b[0m: \tgamma: 0.5\n",
            "\u001b[34m\u001b[1mwandb\u001b[0m: \tlearning_rate: 0.00434004880540479\n",
            "\u001b[34m\u001b[1mwandb\u001b[0m: \tmomentum: 0.8992448972355611\n",
            "\u001b[34m\u001b[1mwandb\u001b[0m: \toptimizer: adam\n",
            "\u001b[34m\u001b[1mwandb\u001b[0m: \ttrain_batch_size: 122\n",
            "\u001b[34m\u001b[1mwandb\u001b[0m: \tval_batch_size: 230\n",
            "\u001b[34m\u001b[1mwandb\u001b[0m: Currently logged in as: \u001b[33mmasadeghi6\u001b[0m. Use \u001b[1m`wandb login --relogin`\u001b[0m to force relogin\n"
          ]
        },
        {
          "data": {
            "text/html": [
              "Tracking run with wandb version 0.13.9"
            ],
            "text/plain": [
              "<IPython.core.display.HTML object>"
            ]
          },
          "metadata": {},
          "output_type": "display_data"
        },
        {
          "data": {
            "text/html": [
              "Run data is saved locally in <code>/content/wandb/run-20230126_082417-3a8jgkhc</code>"
            ],
            "text/plain": [
              "<IPython.core.display.HTML object>"
            ]
          },
          "metadata": {},
          "output_type": "display_data"
        },
        {
          "data": {
            "text/html": [
              "Syncing run <strong><a href=\"https://wandb.ai/masadeghi6/fmri-dementia-sweep-six/runs/3a8jgkhc\" target=\"_blank\">vibrant-sweep-1</a></strong> to <a href=\"https://wandb.ai/masadeghi6/fmri-dementia-sweep-six\" target=\"_blank\">Weights & Biases</a> (<a href=\"https://wandb.me/run\" target=\"_blank\">docs</a>)<br/>Sweep page: <a href=\"https://wandb.ai/masadeghi6/fmri-dementia-sweep-six/sweeps/aytv2g68\" target=\"_blank\">https://wandb.ai/masadeghi6/fmri-dementia-sweep-six/sweeps/aytv2g68</a>"
            ],
            "text/plain": [
              "<IPython.core.display.HTML object>"
            ]
          },
          "metadata": {},
          "output_type": "display_data"
        },
        {
          "data": {
            "text/html": [
              " View project at <a href=\"https://wandb.ai/masadeghi6/fmri-dementia-sweep-six\" target=\"_blank\">https://wandb.ai/masadeghi6/fmri-dementia-sweep-six</a>"
            ],
            "text/plain": [
              "<IPython.core.display.HTML object>"
            ]
          },
          "metadata": {},
          "output_type": "display_data"
        },
        {
          "data": {
            "text/html": [
              " View sweep at <a href=\"https://wandb.ai/masadeghi6/fmri-dementia-sweep-six/sweeps/aytv2g68\" target=\"_blank\">https://wandb.ai/masadeghi6/fmri-dementia-sweep-six/sweeps/aytv2g68</a>"
            ],
            "text/plain": [
              "<IPython.core.display.HTML object>"
            ]
          },
          "metadata": {},
          "output_type": "display_data"
        },
        {
          "data": {
            "text/html": [
              " View run at <a href=\"https://wandb.ai/masadeghi6/fmri-dementia-sweep-six/runs/3a8jgkhc\" target=\"_blank\">https://wandb.ai/masadeghi6/fmri-dementia-sweep-six/runs/3a8jgkhc</a>"
            ],
            "text/plain": [
              "<IPython.core.display.HTML object>"
            ]
          },
          "metadata": {},
          "output_type": "display_data"
        },
        {
          "metadata": {
            "tags": null
          },
          "name": "stderr",
          "output_type": "stream",
          "text": [
            "Downloading: \"https://download.pytorch.org/models/resnet18-5c106cde.pth\" to /root/.cache/torch/hub/checkpoints/resnet18-5c106cde.pth\n"
          ]
        },
        {
          "data": {
            "text/html": [
              "Waiting for W&B process to finish... <strong style=\"color:red\">(failed 1).</strong> Press Control-C to abort syncing."
            ],
            "text/plain": [
              "<IPython.core.display.HTML object>"
            ]
          },
          "metadata": {},
          "output_type": "display_data"
        },
        {
          "data": {
            "application/vnd.jupyter.widget-view+json": {
              "model_id": "24dc464eacc948f68d890844ac23f36e",
              "version_major": 2,
              "version_minor": 0
            },
            "text/plain": [
              "VBox(children=(Label(value='0.001 MB of 0.009 MB uploaded (0.000 MB deduped)\\r'), FloatProgress(value=0.088928…"
            ]
          },
          "metadata": {},
          "output_type": "display_data"
        },
        {
          "data": {
            "text/html": [
              " View run <strong style=\"color:#cdcd00\">vibrant-sweep-1</strong> at: <a href=\"https://wandb.ai/masadeghi6/fmri-dementia-sweep-six/runs/3a8jgkhc\" target=\"_blank\">https://wandb.ai/masadeghi6/fmri-dementia-sweep-six/runs/3a8jgkhc</a><br/>Synced 5 W&B file(s), 0 media file(s), 0 artifact file(s) and 0 other file(s)"
            ],
            "text/plain": [
              "<IPython.core.display.HTML object>"
            ]
          },
          "metadata": {},
          "output_type": "display_data"
        },
        {
          "data": {
            "text/html": [
              "Find logs at: <code>./wandb/run-20230126_082417-3a8jgkhc/logs</code>"
            ],
            "text/plain": [
              "<IPython.core.display.HTML object>"
            ]
          },
          "metadata": {},
          "output_type": "display_data"
        },
        {
          "metadata": {
            "tags": null
          },
          "name": "stderr",
          "output_type": "stream",
          "text": [
            "Run 3a8jgkhc errored: AssertionError(ValueError('The predictions values should be between 0 and 1,                 make sure to pass the values to sigmoid for binary                 classification or softmax for multi-class classification'))\n",
            "\u001b[34m\u001b[1mwandb\u001b[0m: \u001b[32m\u001b[41mERROR\u001b[0m Run 3a8jgkhc errored: AssertionError(ValueError('The predictions values should be between 0 and 1,                 make sure to pass the values to sigmoid for binary                 classification or softmax for multi-class classification'))\n",
            "\u001b[34m\u001b[1mwandb\u001b[0m: Agent Starting Run: fmsg3fbb with config:\n",
            "\u001b[34m\u001b[1mwandb\u001b[0m: \tarchitecture: resnet18\n",
            "\u001b[34m\u001b[1mwandb\u001b[0m: \tdropout: 0.6\n",
            "\u001b[34m\u001b[1mwandb\u001b[0m: \tepochs: 8\n",
            "\u001b[34m\u001b[1mwandb\u001b[0m: \tfc_layer_size: 512\n",
            "\u001b[34m\u001b[1mwandb\u001b[0m: \tgamma: 4\n",
            "\u001b[34m\u001b[1mwandb\u001b[0m: \tlearning_rate: 0.009643949308079186\n",
            "\u001b[34m\u001b[1mwandb\u001b[0m: \tmomentum: 0.7908350291535264\n",
            "\u001b[34m\u001b[1mwandb\u001b[0m: \toptimizer: sgd\n",
            "\u001b[34m\u001b[1mwandb\u001b[0m: \ttrain_batch_size: 87\n",
            "\u001b[34m\u001b[1mwandb\u001b[0m: \tval_batch_size: 88\n",
            "Failed to detect the name of this notebook, you can set it manually with the WANDB_NOTEBOOK_NAME environment variable to enable code saving.\n"
          ]
        },
        {
          "data": {
            "text/html": [
              "Tracking run with wandb version 0.13.9"
            ],
            "text/plain": [
              "<IPython.core.display.HTML object>"
            ]
          },
          "metadata": {},
          "output_type": "display_data"
        },
        {
          "data": {
            "text/html": [
              "Run data is saved locally in <code>/content/wandb/run-20230126_082601-fmsg3fbb</code>"
            ],
            "text/plain": [
              "<IPython.core.display.HTML object>"
            ]
          },
          "metadata": {},
          "output_type": "display_data"
        },
        {
          "data": {
            "text/html": [
              "Syncing run <strong><a href=\"https://wandb.ai/masadeghi6/fmri-dementia-sweep-six/runs/fmsg3fbb\" target=\"_blank\">genial-sweep-2</a></strong> to <a href=\"https://wandb.ai/masadeghi6/fmri-dementia-sweep-six\" target=\"_blank\">Weights & Biases</a> (<a href=\"https://wandb.me/run\" target=\"_blank\">docs</a>)<br/>Sweep page: <a href=\"https://wandb.ai/masadeghi6/fmri-dementia-sweep-six/sweeps/aytv2g68\" target=\"_blank\">https://wandb.ai/masadeghi6/fmri-dementia-sweep-six/sweeps/aytv2g68</a>"
            ],
            "text/plain": [
              "<IPython.core.display.HTML object>"
            ]
          },
          "metadata": {},
          "output_type": "display_data"
        },
        {
          "data": {
            "text/html": [
              " View project at <a href=\"https://wandb.ai/masadeghi6/fmri-dementia-sweep-six\" target=\"_blank\">https://wandb.ai/masadeghi6/fmri-dementia-sweep-six</a>"
            ],
            "text/plain": [
              "<IPython.core.display.HTML object>"
            ]
          },
          "metadata": {},
          "output_type": "display_data"
        },
        {
          "data": {
            "text/html": [
              " View sweep at <a href=\"https://wandb.ai/masadeghi6/fmri-dementia-sweep-six/sweeps/aytv2g68\" target=\"_blank\">https://wandb.ai/masadeghi6/fmri-dementia-sweep-six/sweeps/aytv2g68</a>"
            ],
            "text/plain": [
              "<IPython.core.display.HTML object>"
            ]
          },
          "metadata": {},
          "output_type": "display_data"
        },
        {
          "data": {
            "text/html": [
              " View run at <a href=\"https://wandb.ai/masadeghi6/fmri-dementia-sweep-six/runs/fmsg3fbb\" target=\"_blank\">https://wandb.ai/masadeghi6/fmri-dementia-sweep-six/runs/fmsg3fbb</a>"
            ],
            "text/plain": [
              "<IPython.core.display.HTML object>"
            ]
          },
          "metadata": {},
          "output_type": "display_data"
        },
        {
          "data": {
            "text/html": [
              "Waiting for W&B process to finish... <strong style=\"color:green\">(success).</strong>"
            ],
            "text/plain": [
              "<IPython.core.display.HTML object>"
            ]
          },
          "metadata": {},
          "output_type": "display_data"
        },
        {
          "data": {
            "text/html": [
              "<style>\n",
              "    table.wandb td:nth-child(1) { padding: 0 10px; text-align: left ; width: auto;} td:nth-child(2) {text-align: left ; width: 100%}\n",
              "    .wandb-row { display: flex; flex-direction: row; flex-wrap: wrap; justify-content: flex-start; width: 100% }\n",
              "    .wandb-col { display: flex; flex-direction: column; flex-basis: 100%; flex: 1; padding: 10px; }\n",
              "    </style>\n",
              "<div class=\"wandb-row\"><div class=\"wandb-col\"><h3>Run history:</h3><br/><table class=\"wandb\"><tr><td>epoch</td><td>▁▂▃▄▅▆▇█</td></tr><tr><td>train_accuracy</td><td>▁▃▄▅▆▇██</td></tr><tr><td>train_auc</td><td>▁▄▅▆▇▇██</td></tr><tr><td>train_f1</td><td>▁▃▄▅▆▇▇█</td></tr><tr><td>train_loss</td><td>█▅▃▂▂▂▁▁</td></tr><tr><td>val_accuracy</td><td>▁▂▄▇▆▆█▆</td></tr><tr><td>val_auc</td><td>▁▄▅▇▇▇█▇</td></tr><tr><td>val_f1</td><td>▁▄▆█▇██▇</td></tr><tr><td>val_loss</td><td>█▅▆▆▂▆▁▄</td></tr></table><br/></div><div class=\"wandb-col\"><h3>Run summary:</h3><br/><table class=\"wandb\"><tr><td>epoch</td><td>7</td></tr><tr><td>train_accuracy</td><td>0.81837</td></tr><tr><td>train_auc</td><td>0.95405</td></tr><tr><td>train_f1</td><td>0.80689</td></tr><tr><td>train_loss</td><td>0.07929</td></tr><tr><td>val_accuracy</td><td>0.53113</td></tr><tr><td>val_auc</td><td>0.80968</td></tr><tr><td>val_f1</td><td>0.53693</td></tr><tr><td>val_loss</td><td>0.32924</td></tr></table><br/></div></div>"
            ],
            "text/plain": [
              "<IPython.core.display.HTML object>"
            ]
          },
          "metadata": {},
          "output_type": "display_data"
        },
        {
          "data": {
            "text/html": [
              " View run <strong style=\"color:#cdcd00\">genial-sweep-2</strong> at: <a href=\"https://wandb.ai/masadeghi6/fmri-dementia-sweep-six/runs/fmsg3fbb\" target=\"_blank\">https://wandb.ai/masadeghi6/fmri-dementia-sweep-six/runs/fmsg3fbb</a><br/>Synced 4 W&B file(s), 0 media file(s), 0 artifact file(s) and 0 other file(s)"
            ],
            "text/plain": [
              "<IPython.core.display.HTML object>"
            ]
          },
          "metadata": {},
          "output_type": "display_data"
        },
        {
          "data": {
            "text/html": [
              "Find logs at: <code>./wandb/run-20230126_082601-fmsg3fbb/logs</code>"
            ],
            "text/plain": [
              "<IPython.core.display.HTML object>"
            ]
          },
          "metadata": {},
          "output_type": "display_data"
        },
        {
          "metadata": {
            "tags": null
          },
          "name": "stderr",
          "output_type": "stream",
          "text": [
            "\u001b[34m\u001b[1mwandb\u001b[0m: Sweep Agent: Waiting for job.\n",
            "\u001b[34m\u001b[1mwandb\u001b[0m: Job received.\n",
            "\u001b[34m\u001b[1mwandb\u001b[0m: Agent Starting Run: 62y2mizp with config:\n",
            "\u001b[34m\u001b[1mwandb\u001b[0m: \tarchitecture: resnet18\n",
            "\u001b[34m\u001b[1mwandb\u001b[0m: \tdropout: 0.4\n",
            "\u001b[34m\u001b[1mwandb\u001b[0m: \tepochs: 8\n",
            "\u001b[34m\u001b[1mwandb\u001b[0m: \tfc_layer_size: 256\n",
            "\u001b[34m\u001b[1mwandb\u001b[0m: \tgamma: 4\n",
            "\u001b[34m\u001b[1mwandb\u001b[0m: \tlearning_rate: 0.0006041409578696525\n",
            "\u001b[34m\u001b[1mwandb\u001b[0m: \tmomentum: 0.8668885783762565\n",
            "\u001b[34m\u001b[1mwandb\u001b[0m: \toptimizer: adam\n",
            "\u001b[34m\u001b[1mwandb\u001b[0m: \ttrain_batch_size: 78\n",
            "\u001b[34m\u001b[1mwandb\u001b[0m: \tval_batch_size: 48\n",
            "Failed to detect the name of this notebook, you can set it manually with the WANDB_NOTEBOOK_NAME environment variable to enable code saving.\n"
          ]
        },
        {
          "data": {
            "application/vnd.jupyter.widget-view+json": {
              "model_id": "1cd3bff9fb094dbfa048f9bb60620f1f",
              "version_major": 2,
              "version_minor": 0
            },
            "text/plain": [
              "VBox(children=(Label(value='Waiting for wandb.init()...\\r'), FloatProgress(value=0.016668976466667117, max=1.0…"
            ]
          },
          "metadata": {},
          "output_type": "display_data"
        },
        {
          "data": {
            "text/html": [
              "Tracking run with wandb version 0.13.9"
            ],
            "text/plain": [
              "<IPython.core.display.HTML object>"
            ]
          },
          "metadata": {},
          "output_type": "display_data"
        },
        {
          "data": {
            "text/html": [
              "Run data is saved locally in <code>/content/wandb/run-20230126_083140-62y2mizp</code>"
            ],
            "text/plain": [
              "<IPython.core.display.HTML object>"
            ]
          },
          "metadata": {},
          "output_type": "display_data"
        },
        {
          "data": {
            "text/html": [
              "Syncing run <strong><a href=\"https://wandb.ai/masadeghi6/fmri-dementia-sweep-six/runs/62y2mizp\" target=\"_blank\">summer-sweep-3</a></strong> to <a href=\"https://wandb.ai/masadeghi6/fmri-dementia-sweep-six\" target=\"_blank\">Weights & Biases</a> (<a href=\"https://wandb.me/run\" target=\"_blank\">docs</a>)<br/>Sweep page: <a href=\"https://wandb.ai/masadeghi6/fmri-dementia-sweep-six/sweeps/aytv2g68\" target=\"_blank\">https://wandb.ai/masadeghi6/fmri-dementia-sweep-six/sweeps/aytv2g68</a>"
            ],
            "text/plain": [
              "<IPython.core.display.HTML object>"
            ]
          },
          "metadata": {},
          "output_type": "display_data"
        },
        {
          "data": {
            "text/html": [
              " View project at <a href=\"https://wandb.ai/masadeghi6/fmri-dementia-sweep-six\" target=\"_blank\">https://wandb.ai/masadeghi6/fmri-dementia-sweep-six</a>"
            ],
            "text/plain": [
              "<IPython.core.display.HTML object>"
            ]
          },
          "metadata": {},
          "output_type": "display_data"
        },
        {
          "data": {
            "text/html": [
              " View sweep at <a href=\"https://wandb.ai/masadeghi6/fmri-dementia-sweep-six/sweeps/aytv2g68\" target=\"_blank\">https://wandb.ai/masadeghi6/fmri-dementia-sweep-six/sweeps/aytv2g68</a>"
            ],
            "text/plain": [
              "<IPython.core.display.HTML object>"
            ]
          },
          "metadata": {},
          "output_type": "display_data"
        },
        {
          "data": {
            "text/html": [
              " View run at <a href=\"https://wandb.ai/masadeghi6/fmri-dementia-sweep-six/runs/62y2mizp\" target=\"_blank\">https://wandb.ai/masadeghi6/fmri-dementia-sweep-six/runs/62y2mizp</a>"
            ],
            "text/plain": [
              "<IPython.core.display.HTML object>"
            ]
          },
          "metadata": {},
          "output_type": "display_data"
        },
        {
          "data": {
            "text/html": [
              "Waiting for W&B process to finish... <strong style=\"color:green\">(success).</strong>"
            ],
            "text/plain": [
              "<IPython.core.display.HTML object>"
            ]
          },
          "metadata": {},
          "output_type": "display_data"
        },
        {
          "data": {
            "application/vnd.jupyter.widget-view+json": {
              "model_id": "874561825a7c4b4da5668ac2bb1f05c0",
              "version_major": 2,
              "version_minor": 0
            },
            "text/plain": [
              "VBox(children=(Label(value='0.001 MB of 0.009 MB uploaded (0.000 MB deduped)\\r'), FloatProgress(value=0.080749…"
            ]
          },
          "metadata": {},
          "output_type": "display_data"
        },
        {
          "data": {
            "text/html": [
              "<style>\n",
              "    table.wandb td:nth-child(1) { padding: 0 10px; text-align: left ; width: auto;} td:nth-child(2) {text-align: left ; width: 100%}\n",
              "    .wandb-row { display: flex; flex-direction: row; flex-wrap: wrap; justify-content: flex-start; width: 100% }\n",
              "    .wandb-col { display: flex; flex-direction: column; flex-basis: 100%; flex: 1; padding: 10px; }\n",
              "    </style>\n",
              "<div class=\"wandb-row\"><div class=\"wandb-col\"><h3>Run history:</h3><br/><table class=\"wandb\"><tr><td>epoch</td><td>▁▂▃▄▅▆▇█</td></tr><tr><td>train_accuracy</td><td>▁▃▃▅▅▆▇█</td></tr><tr><td>train_auc</td><td>▁▄▄▅▆▇▇█</td></tr><tr><td>train_f1</td><td>▁▃▃▅▅▆▇█</td></tr><tr><td>train_loss</td><td>█▅▄▃▃▂▁▁</td></tr><tr><td>val_accuracy</td><td>▁▂▇█▆▆█▇</td></tr><tr><td>val_auc</td><td>▁▅▆▄▃▅█▆</td></tr><tr><td>val_f1</td><td>▁▃█▆▅▇▇▇</td></tr><tr><td>val_loss</td><td>█▂▁▁▄▃▂▂</td></tr></table><br/></div><div class=\"wandb-col\"><h3>Run summary:</h3><br/><table class=\"wandb\"><tr><td>epoch</td><td>7</td></tr><tr><td>train_accuracy</td><td>0.79731</td></tr><tr><td>train_auc</td><td>0.94403</td></tr><tr><td>train_f1</td><td>0.7774</td></tr><tr><td>train_loss</td><td>0.07309</td></tr><tr><td>val_accuracy</td><td>0.56962</td></tr><tr><td>val_auc</td><td>0.81462</td></tr><tr><td>val_f1</td><td>0.56409</td></tr><tr><td>val_loss</td><td>0.30035</td></tr></table><br/></div></div>"
            ],
            "text/plain": [
              "<IPython.core.display.HTML object>"
            ]
          },
          "metadata": {},
          "output_type": "display_data"
        },
        {
          "data": {
            "text/html": [
              " View run <strong style=\"color:#cdcd00\">summer-sweep-3</strong> at: <a href=\"https://wandb.ai/masadeghi6/fmri-dementia-sweep-six/runs/62y2mizp\" target=\"_blank\">https://wandb.ai/masadeghi6/fmri-dementia-sweep-six/runs/62y2mizp</a><br/>Synced 4 W&B file(s), 0 media file(s), 0 artifact file(s) and 0 other file(s)"
            ],
            "text/plain": [
              "<IPython.core.display.HTML object>"
            ]
          },
          "metadata": {},
          "output_type": "display_data"
        },
        {
          "data": {
            "text/html": [
              "Find logs at: <code>./wandb/run-20230126_083140-62y2mizp/logs</code>"
            ],
            "text/plain": [
              "<IPython.core.display.HTML object>"
            ]
          },
          "metadata": {},
          "output_type": "display_data"
        },
        {
          "metadata": {
            "tags": null
          },
          "name": "stderr",
          "output_type": "stream",
          "text": [
            "\u001b[34m\u001b[1mwandb\u001b[0m: Sweep Agent: Waiting for job.\n",
            "\u001b[34m\u001b[1mwandb\u001b[0m: Job received.\n",
            "\u001b[34m\u001b[1mwandb\u001b[0m: Agent Starting Run: xr9fb030 with config:\n",
            "\u001b[34m\u001b[1mwandb\u001b[0m: \tarchitecture: resnet18\n",
            "\u001b[34m\u001b[1mwandb\u001b[0m: \tdropout: 0\n",
            "\u001b[34m\u001b[1mwandb\u001b[0m: \tepochs: 8\n",
            "\u001b[34m\u001b[1mwandb\u001b[0m: \tfc_layer_size: 256\n",
            "\u001b[34m\u001b[1mwandb\u001b[0m: \tgamma: 2\n",
            "\u001b[34m\u001b[1mwandb\u001b[0m: \tlearning_rate: 0.002682864405237744\n",
            "\u001b[34m\u001b[1mwandb\u001b[0m: \tmomentum: 0.926309723330665\n",
            "\u001b[34m\u001b[1mwandb\u001b[0m: \toptimizer: adam\n",
            "\u001b[34m\u001b[1mwandb\u001b[0m: \ttrain_batch_size: 33\n",
            "\u001b[34m\u001b[1mwandb\u001b[0m: \tval_batch_size: 156\n"
          ]
        },
        {
          "data": {
            "text/html": [
              "Tracking run with wandb version 0.13.9"
            ],
            "text/plain": [
              "<IPython.core.display.HTML object>"
            ]
          },
          "metadata": {},
          "output_type": "display_data"
        },
        {
          "data": {
            "text/html": [
              "Run data is saved locally in <code>/content/wandb/run-20230126_083455-xr9fb030</code>"
            ],
            "text/plain": [
              "<IPython.core.display.HTML object>"
            ]
          },
          "metadata": {},
          "output_type": "display_data"
        },
        {
          "data": {
            "text/html": [
              "Syncing run <strong><a href=\"https://wandb.ai/masadeghi6/fmri-dementia-sweep-six/runs/xr9fb030\" target=\"_blank\">radiant-sweep-4</a></strong> to <a href=\"https://wandb.ai/masadeghi6/fmri-dementia-sweep-six\" target=\"_blank\">Weights & Biases</a> (<a href=\"https://wandb.me/run\" target=\"_blank\">docs</a>)<br/>Sweep page: <a href=\"https://wandb.ai/masadeghi6/fmri-dementia-sweep-six/sweeps/aytv2g68\" target=\"_blank\">https://wandb.ai/masadeghi6/fmri-dementia-sweep-six/sweeps/aytv2g68</a>"
            ],
            "text/plain": [
              "<IPython.core.display.HTML object>"
            ]
          },
          "metadata": {},
          "output_type": "display_data"
        },
        {
          "data": {
            "text/html": [
              " View project at <a href=\"https://wandb.ai/masadeghi6/fmri-dementia-sweep-six\" target=\"_blank\">https://wandb.ai/masadeghi6/fmri-dementia-sweep-six</a>"
            ],
            "text/plain": [
              "<IPython.core.display.HTML object>"
            ]
          },
          "metadata": {},
          "output_type": "display_data"
        },
        {
          "data": {
            "text/html": [
              " View sweep at <a href=\"https://wandb.ai/masadeghi6/fmri-dementia-sweep-six/sweeps/aytv2g68\" target=\"_blank\">https://wandb.ai/masadeghi6/fmri-dementia-sweep-six/sweeps/aytv2g68</a>"
            ],
            "text/plain": [
              "<IPython.core.display.HTML object>"
            ]
          },
          "metadata": {},
          "output_type": "display_data"
        },
        {
          "data": {
            "text/html": [
              " View run at <a href=\"https://wandb.ai/masadeghi6/fmri-dementia-sweep-six/runs/xr9fb030\" target=\"_blank\">https://wandb.ai/masadeghi6/fmri-dementia-sweep-six/runs/xr9fb030</a>"
            ],
            "text/plain": [
              "<IPython.core.display.HTML object>"
            ]
          },
          "metadata": {},
          "output_type": "display_data"
        },
        {
          "data": {
            "text/html": [
              "Waiting for W&B process to finish... <strong style=\"color:green\">(success).</strong>"
            ],
            "text/plain": [
              "<IPython.core.display.HTML object>"
            ]
          },
          "metadata": {},
          "output_type": "display_data"
        },
        {
          "data": {
            "application/vnd.jupyter.widget-view+json": {
              "model_id": "b044af2416f74ebaa4f71b7fd28b5f8f",
              "version_major": 2,
              "version_minor": 0
            },
            "text/plain": [
              "VBox(children=(Label(value='0.009 MB of 0.009 MB uploaded (0.000 MB deduped)\\r'), FloatProgress(value=1.0, max…"
            ]
          },
          "metadata": {},
          "output_type": "display_data"
        },
        {
          "data": {
            "text/html": [
              "<style>\n",
              "    table.wandb td:nth-child(1) { padding: 0 10px; text-align: left ; width: auto;} td:nth-child(2) {text-align: left ; width: 100%}\n",
              "    .wandb-row { display: flex; flex-direction: row; flex-wrap: wrap; justify-content: flex-start; width: 100% }\n",
              "    .wandb-col { display: flex; flex-direction: column; flex-basis: 100%; flex: 1; padding: 10px; }\n",
              "    </style>\n",
              "<div class=\"wandb-row\"><div class=\"wandb-col\"><h3>Run history:</h3><br/><table class=\"wandb\"><tr><td>epoch</td><td>▁▂▃▄▅▆▇█</td></tr><tr><td>train_accuracy</td><td>▁▃▅▄▆▆▇█</td></tr><tr><td>train_auc</td><td>▁▄▆▆▇▇██</td></tr><tr><td>train_f1</td><td>▁▁▄▄▆▆▇█</td></tr><tr><td>train_loss</td><td>█▃▂▃▂▂▁▁</td></tr><tr><td>val_accuracy</td><td>▃█▆▁▇██▅</td></tr><tr><td>val_auc</td><td>▁▄▆▁▄▆█▃</td></tr><tr><td>val_f1</td><td>▃▄▅▁▆▆█▄</td></tr><tr><td>val_loss</td><td>█▄▃▇▇▆▁▃</td></tr></table><br/></div><div class=\"wandb-col\"><h3>Run summary:</h3><br/><table class=\"wandb\"><tr><td>epoch</td><td>7</td></tr><tr><td>train_accuracy</td><td>0.6405</td></tr><tr><td>train_auc</td><td>0.8545</td></tr><tr><td>train_f1</td><td>0.62699</td></tr><tr><td>train_loss</td><td>0.33037</td></tr><tr><td>val_accuracy</td><td>0.46001</td></tr><tr><td>val_auc</td><td>0.76656</td></tr><tr><td>val_f1</td><td>0.45264</td></tr><tr><td>val_loss</td><td>0.47338</td></tr></table><br/></div></div>"
            ],
            "text/plain": [
              "<IPython.core.display.HTML object>"
            ]
          },
          "metadata": {},
          "output_type": "display_data"
        },
        {
          "data": {
            "text/html": [
              " View run <strong style=\"color:#cdcd00\">radiant-sweep-4</strong> at: <a href=\"https://wandb.ai/masadeghi6/fmri-dementia-sweep-six/runs/xr9fb030\" target=\"_blank\">https://wandb.ai/masadeghi6/fmri-dementia-sweep-six/runs/xr9fb030</a><br/>Synced 4 W&B file(s), 0 media file(s), 0 artifact file(s) and 0 other file(s)"
            ],
            "text/plain": [
              "<IPython.core.display.HTML object>"
            ]
          },
          "metadata": {},
          "output_type": "display_data"
        },
        {
          "data": {
            "text/html": [
              "Find logs at: <code>./wandb/run-20230126_083455-xr9fb030/logs</code>"
            ],
            "text/plain": [
              "<IPython.core.display.HTML object>"
            ]
          },
          "metadata": {},
          "output_type": "display_data"
        },
        {
          "metadata": {
            "tags": null
          },
          "name": "stderr",
          "output_type": "stream",
          "text": [
            "\u001b[34m\u001b[1mwandb\u001b[0m: Agent Starting Run: jkm60vcm with config:\n",
            "\u001b[34m\u001b[1mwandb\u001b[0m: \tarchitecture: resnet18\n",
            "\u001b[34m\u001b[1mwandb\u001b[0m: \tdropout: 0.4\n",
            "\u001b[34m\u001b[1mwandb\u001b[0m: \tepochs: 8\n",
            "\u001b[34m\u001b[1mwandb\u001b[0m: \tfc_layer_size: 128\n",
            "\u001b[34m\u001b[1mwandb\u001b[0m: \tgamma: 2\n",
            "\u001b[34m\u001b[1mwandb\u001b[0m: \tlearning_rate: 0.006646358649803829\n",
            "\u001b[34m\u001b[1mwandb\u001b[0m: \tmomentum: 0.9494631789458028\n",
            "\u001b[34m\u001b[1mwandb\u001b[0m: \toptimizer: sgd\n",
            "\u001b[34m\u001b[1mwandb\u001b[0m: \ttrain_batch_size: 34\n",
            "\u001b[34m\u001b[1mwandb\u001b[0m: \tval_batch_size: 200\n"
          ]
        },
        {
          "data": {
            "text/html": [
              "Tracking run with wandb version 0.13.9"
            ],
            "text/plain": [
              "<IPython.core.display.HTML object>"
            ]
          },
          "metadata": {},
          "output_type": "display_data"
        },
        {
          "data": {
            "text/html": [
              "Run data is saved locally in <code>/content/wandb/run-20230126_083809-jkm60vcm</code>"
            ],
            "text/plain": [
              "<IPython.core.display.HTML object>"
            ]
          },
          "metadata": {},
          "output_type": "display_data"
        },
        {
          "data": {
            "text/html": [
              "Syncing run <strong><a href=\"https://wandb.ai/masadeghi6/fmri-dementia-sweep-six/runs/jkm60vcm\" target=\"_blank\">dazzling-sweep-5</a></strong> to <a href=\"https://wandb.ai/masadeghi6/fmri-dementia-sweep-six\" target=\"_blank\">Weights & Biases</a> (<a href=\"https://wandb.me/run\" target=\"_blank\">docs</a>)<br/>Sweep page: <a href=\"https://wandb.ai/masadeghi6/fmri-dementia-sweep-six/sweeps/aytv2g68\" target=\"_blank\">https://wandb.ai/masadeghi6/fmri-dementia-sweep-six/sweeps/aytv2g68</a>"
            ],
            "text/plain": [
              "<IPython.core.display.HTML object>"
            ]
          },
          "metadata": {},
          "output_type": "display_data"
        },
        {
          "data": {
            "text/html": [
              " View project at <a href=\"https://wandb.ai/masadeghi6/fmri-dementia-sweep-six\" target=\"_blank\">https://wandb.ai/masadeghi6/fmri-dementia-sweep-six</a>"
            ],
            "text/plain": [
              "<IPython.core.display.HTML object>"
            ]
          },
          "metadata": {},
          "output_type": "display_data"
        },
        {
          "data": {
            "text/html": [
              " View sweep at <a href=\"https://wandb.ai/masadeghi6/fmri-dementia-sweep-six/sweeps/aytv2g68\" target=\"_blank\">https://wandb.ai/masadeghi6/fmri-dementia-sweep-six/sweeps/aytv2g68</a>"
            ],
            "text/plain": [
              "<IPython.core.display.HTML object>"
            ]
          },
          "metadata": {},
          "output_type": "display_data"
        },
        {
          "data": {
            "text/html": [
              " View run at <a href=\"https://wandb.ai/masadeghi6/fmri-dementia-sweep-six/runs/jkm60vcm\" target=\"_blank\">https://wandb.ai/masadeghi6/fmri-dementia-sweep-six/runs/jkm60vcm</a>"
            ],
            "text/plain": [
              "<IPython.core.display.HTML object>"
            ]
          },
          "metadata": {},
          "output_type": "display_data"
        },
        {
          "data": {
            "text/html": [
              "Waiting for W&B process to finish... <strong style=\"color:green\">(success).</strong>"
            ],
            "text/plain": [
              "<IPython.core.display.HTML object>"
            ]
          },
          "metadata": {},
          "output_type": "display_data"
        },
        {
          "data": {
            "text/html": [
              "<style>\n",
              "    table.wandb td:nth-child(1) { padding: 0 10px; text-align: left ; width: auto;} td:nth-child(2) {text-align: left ; width: 100%}\n",
              "    .wandb-row { display: flex; flex-direction: row; flex-wrap: wrap; justify-content: flex-start; width: 100% }\n",
              "    .wandb-col { display: flex; flex-direction: column; flex-basis: 100%; flex: 1; padding: 10px; }\n",
              "    </style>\n",
              "<div class=\"wandb-row\"><div class=\"wandb-col\"><h3>Run history:</h3><br/><table class=\"wandb\"><tr><td>epoch</td><td>▁▂▃▄▅▆▇█</td></tr><tr><td>train_accuracy</td><td>▁▂▃▅▅▆██</td></tr><tr><td>train_auc</td><td>▁▄▅▆▆▇██</td></tr><tr><td>train_f1</td><td>▁▂▄▅▆▆██</td></tr><tr><td>train_loss</td><td>█▄▄▂▂▃▁▂</td></tr><tr><td>val_accuracy</td><td>▁▃▄▇▅▅█▇</td></tr><tr><td>val_auc</td><td>▃▁▆▆▆▇█▆</td></tr><tr><td>val_f1</td><td>▁▃▅▇▅▅█▅</td></tr><tr><td>val_loss</td><td>▇█▂▂▂▂▁▂</td></tr></table><br/></div><div class=\"wandb-col\"><h3>Run summary:</h3><br/><table class=\"wandb\"><tr><td>epoch</td><td>7</td></tr><tr><td>train_accuracy</td><td>0.63142</td></tr><tr><td>train_auc</td><td>0.85068</td></tr><tr><td>train_f1</td><td>0.61337</td></tr><tr><td>train_loss</td><td>0.42744</td></tr><tr><td>val_accuracy</td><td>0.57273</td></tr><tr><td>val_auc</td><td>0.80188</td></tr><tr><td>val_f1</td><td>0.49707</td></tr><tr><td>val_loss</td><td>0.40392</td></tr></table><br/></div></div>"
            ],
            "text/plain": [
              "<IPython.core.display.HTML object>"
            ]
          },
          "metadata": {},
          "output_type": "display_data"
        },
        {
          "data": {
            "text/html": [
              " View run <strong style=\"color:#cdcd00\">dazzling-sweep-5</strong> at: <a href=\"https://wandb.ai/masadeghi6/fmri-dementia-sweep-six/runs/jkm60vcm\" target=\"_blank\">https://wandb.ai/masadeghi6/fmri-dementia-sweep-six/runs/jkm60vcm</a><br/>Synced 4 W&B file(s), 0 media file(s), 0 artifact file(s) and 0 other file(s)"
            ],
            "text/plain": [
              "<IPython.core.display.HTML object>"
            ]
          },
          "metadata": {},
          "output_type": "display_data"
        },
        {
          "data": {
            "text/html": [
              "Find logs at: <code>./wandb/run-20230126_083809-jkm60vcm/logs</code>"
            ],
            "text/plain": [
              "<IPython.core.display.HTML object>"
            ]
          },
          "metadata": {},
          "output_type": "display_data"
        },
        {
          "metadata": {
            "tags": null
          },
          "name": "stderr",
          "output_type": "stream",
          "text": [
            "\u001b[34m\u001b[1mwandb\u001b[0m: Agent Starting Run: et92pe6p with config:\n",
            "\u001b[34m\u001b[1mwandb\u001b[0m: \tarchitecture: resnet18\n",
            "\u001b[34m\u001b[1mwandb\u001b[0m: \tdropout: 0.6\n",
            "\u001b[34m\u001b[1mwandb\u001b[0m: \tepochs: 8\n",
            "\u001b[34m\u001b[1mwandb\u001b[0m: \tfc_layer_size: 128\n",
            "\u001b[34m\u001b[1mwandb\u001b[0m: \tgamma: 4\n",
            "\u001b[34m\u001b[1mwandb\u001b[0m: \tlearning_rate: 0.004275518042334752\n",
            "\u001b[34m\u001b[1mwandb\u001b[0m: \tmomentum: 0.9137147834433812\n",
            "\u001b[34m\u001b[1mwandb\u001b[0m: \toptimizer: sgd\n",
            "\u001b[34m\u001b[1mwandb\u001b[0m: \ttrain_batch_size: 114\n",
            "\u001b[34m\u001b[1mwandb\u001b[0m: \tval_batch_size: 44\n"
          ]
        },
        {
          "data": {
            "text/html": [
              "Tracking run with wandb version 0.13.9"
            ],
            "text/plain": [
              "<IPython.core.display.HTML object>"
            ]
          },
          "metadata": {},
          "output_type": "display_data"
        },
        {
          "data": {
            "text/html": [
              "Run data is saved locally in <code>/content/wandb/run-20230126_084119-et92pe6p</code>"
            ],
            "text/plain": [
              "<IPython.core.display.HTML object>"
            ]
          },
          "metadata": {},
          "output_type": "display_data"
        },
        {
          "data": {
            "text/html": [
              "Syncing run <strong><a href=\"https://wandb.ai/masadeghi6/fmri-dementia-sweep-six/runs/et92pe6p\" target=\"_blank\">unique-sweep-6</a></strong> to <a href=\"https://wandb.ai/masadeghi6/fmri-dementia-sweep-six\" target=\"_blank\">Weights & Biases</a> (<a href=\"https://wandb.me/run\" target=\"_blank\">docs</a>)<br/>Sweep page: <a href=\"https://wandb.ai/masadeghi6/fmri-dementia-sweep-six/sweeps/aytv2g68\" target=\"_blank\">https://wandb.ai/masadeghi6/fmri-dementia-sweep-six/sweeps/aytv2g68</a>"
            ],
            "text/plain": [
              "<IPython.core.display.HTML object>"
            ]
          },
          "metadata": {},
          "output_type": "display_data"
        },
        {
          "data": {
            "text/html": [
              " View project at <a href=\"https://wandb.ai/masadeghi6/fmri-dementia-sweep-six\" target=\"_blank\">https://wandb.ai/masadeghi6/fmri-dementia-sweep-six</a>"
            ],
            "text/plain": [
              "<IPython.core.display.HTML object>"
            ]
          },
          "metadata": {},
          "output_type": "display_data"
        },
        {
          "data": {
            "text/html": [
              " View sweep at <a href=\"https://wandb.ai/masadeghi6/fmri-dementia-sweep-six/sweeps/aytv2g68\" target=\"_blank\">https://wandb.ai/masadeghi6/fmri-dementia-sweep-six/sweeps/aytv2g68</a>"
            ],
            "text/plain": [
              "<IPython.core.display.HTML object>"
            ]
          },
          "metadata": {},
          "output_type": "display_data"
        },
        {
          "data": {
            "text/html": [
              " View run at <a href=\"https://wandb.ai/masadeghi6/fmri-dementia-sweep-six/runs/et92pe6p\" target=\"_blank\">https://wandb.ai/masadeghi6/fmri-dementia-sweep-six/runs/et92pe6p</a>"
            ],
            "text/plain": [
              "<IPython.core.display.HTML object>"
            ]
          },
          "metadata": {},
          "output_type": "display_data"
        },
        {
          "data": {
            "text/html": [
              "Waiting for W&B process to finish... <strong style=\"color:green\">(success).</strong>"
            ],
            "text/plain": [
              "<IPython.core.display.HTML object>"
            ]
          },
          "metadata": {},
          "output_type": "display_data"
        },
        {
          "data": {
            "text/html": [
              "<style>\n",
              "    table.wandb td:nth-child(1) { padding: 0 10px; text-align: left ; width: auto;} td:nth-child(2) {text-align: left ; width: 100%}\n",
              "    .wandb-row { display: flex; flex-direction: row; flex-wrap: wrap; justify-content: flex-start; width: 100% }\n",
              "    .wandb-col { display: flex; flex-direction: column; flex-basis: 100%; flex: 1; padding: 10px; }\n",
              "    </style>\n",
              "<div class=\"wandb-row\"><div class=\"wandb-col\"><h3>Run history:</h3><br/><table class=\"wandb\"><tr><td>epoch</td><td>▁▂▃▄▅▆▇█</td></tr><tr><td>train_accuracy</td><td>▁▃▄▅▆▇▇█</td></tr><tr><td>train_auc</td><td>▁▄▅▆▇▇██</td></tr><tr><td>train_f1</td><td>▁▃▄▅▆▇▇█</td></tr><tr><td>train_loss</td><td>█▄▃▂▂▁▁▁</td></tr><tr><td>val_accuracy</td><td>▁▅▄▆▇█▇▆</td></tr><tr><td>val_auc</td><td>▁▆▆▆▇██▇</td></tr><tr><td>val_f1</td><td>▁▃▄▆▇█▇▇</td></tr><tr><td>val_loss</td><td>█▃▃▂▂▁▂▄</td></tr></table><br/></div><div class=\"wandb-col\"><h3>Run summary:</h3><br/><table class=\"wandb\"><tr><td>epoch</td><td>7</td></tr><tr><td>train_accuracy</td><td>0.81038</td></tr><tr><td>train_auc</td><td>0.94465</td></tr><tr><td>train_f1</td><td>0.79641</td></tr><tr><td>train_loss</td><td>0.08561</td></tr><tr><td>val_accuracy</td><td>0.54227</td></tr><tr><td>val_auc</td><td>0.7933</td></tr><tr><td>val_f1</td><td>0.55613</td></tr><tr><td>val_loss</td><td>0.27991</td></tr></table><br/></div></div>"
            ],
            "text/plain": [
              "<IPython.core.display.HTML object>"
            ]
          },
          "metadata": {},
          "output_type": "display_data"
        },
        {
          "data": {
            "text/html": [
              " View run <strong style=\"color:#cdcd00\">unique-sweep-6</strong> at: <a href=\"https://wandb.ai/masadeghi6/fmri-dementia-sweep-six/runs/et92pe6p\" target=\"_blank\">https://wandb.ai/masadeghi6/fmri-dementia-sweep-six/runs/et92pe6p</a><br/>Synced 4 W&B file(s), 0 media file(s), 0 artifact file(s) and 0 other file(s)"
            ],
            "text/plain": [
              "<IPython.core.display.HTML object>"
            ]
          },
          "metadata": {},
          "output_type": "display_data"
        },
        {
          "data": {
            "text/html": [
              "Find logs at: <code>./wandb/run-20230126_084119-et92pe6p/logs</code>"
            ],
            "text/plain": [
              "<IPython.core.display.HTML object>"
            ]
          },
          "metadata": {},
          "output_type": "display_data"
        },
        {
          "metadata": {
            "tags": null
          },
          "name": "stderr",
          "output_type": "stream",
          "text": [
            "\u001b[34m\u001b[1mwandb\u001b[0m: Agent Starting Run: 5qyhvuy8 with config:\n",
            "\u001b[34m\u001b[1mwandb\u001b[0m: \tarchitecture: resnet18\n",
            "\u001b[34m\u001b[1mwandb\u001b[0m: \tdropout: 0\n",
            "\u001b[34m\u001b[1mwandb\u001b[0m: \tepochs: 8\n",
            "\u001b[34m\u001b[1mwandb\u001b[0m: \tfc_layer_size: 512\n",
            "\u001b[34m\u001b[1mwandb\u001b[0m: \tgamma: 0.5\n",
            "\u001b[34m\u001b[1mwandb\u001b[0m: \tlearning_rate: 0.007390961838862098\n",
            "\u001b[34m\u001b[1mwandb\u001b[0m: \tmomentum: 0.713722994056481\n",
            "\u001b[34m\u001b[1mwandb\u001b[0m: \toptimizer: sgd\n",
            "\u001b[34m\u001b[1mwandb\u001b[0m: \ttrain_batch_size: 38\n",
            "\u001b[34m\u001b[1mwandb\u001b[0m: \tval_batch_size: 56\n"
          ]
        },
        {
          "data": {
            "text/html": [
              "Tracking run with wandb version 0.13.9"
            ],
            "text/plain": [
              "<IPython.core.display.HTML object>"
            ]
          },
          "metadata": {},
          "output_type": "display_data"
        },
        {
          "data": {
            "text/html": [
              "Run data is saved locally in <code>/content/wandb/run-20230126_084433-5qyhvuy8</code>"
            ],
            "text/plain": [
              "<IPython.core.display.HTML object>"
            ]
          },
          "metadata": {},
          "output_type": "display_data"
        },
        {
          "data": {
            "text/html": [
              "Syncing run <strong><a href=\"https://wandb.ai/masadeghi6/fmri-dementia-sweep-six/runs/5qyhvuy8\" target=\"_blank\">fragrant-sweep-7</a></strong> to <a href=\"https://wandb.ai/masadeghi6/fmri-dementia-sweep-six\" target=\"_blank\">Weights & Biases</a> (<a href=\"https://wandb.me/run\" target=\"_blank\">docs</a>)<br/>Sweep page: <a href=\"https://wandb.ai/masadeghi6/fmri-dementia-sweep-six/sweeps/aytv2g68\" target=\"_blank\">https://wandb.ai/masadeghi6/fmri-dementia-sweep-six/sweeps/aytv2g68</a>"
            ],
            "text/plain": [
              "<IPython.core.display.HTML object>"
            ]
          },
          "metadata": {},
          "output_type": "display_data"
        },
        {
          "data": {
            "text/html": [
              " View project at <a href=\"https://wandb.ai/masadeghi6/fmri-dementia-sweep-six\" target=\"_blank\">https://wandb.ai/masadeghi6/fmri-dementia-sweep-six</a>"
            ],
            "text/plain": [
              "<IPython.core.display.HTML object>"
            ]
          },
          "metadata": {},
          "output_type": "display_data"
        },
        {
          "data": {
            "text/html": [
              " View sweep at <a href=\"https://wandb.ai/masadeghi6/fmri-dementia-sweep-six/sweeps/aytv2g68\" target=\"_blank\">https://wandb.ai/masadeghi6/fmri-dementia-sweep-six/sweeps/aytv2g68</a>"
            ],
            "text/plain": [
              "<IPython.core.display.HTML object>"
            ]
          },
          "metadata": {},
          "output_type": "display_data"
        },
        {
          "data": {
            "text/html": [
              " View run at <a href=\"https://wandb.ai/masadeghi6/fmri-dementia-sweep-six/runs/5qyhvuy8\" target=\"_blank\">https://wandb.ai/masadeghi6/fmri-dementia-sweep-six/runs/5qyhvuy8</a>"
            ],
            "text/plain": [
              "<IPython.core.display.HTML object>"
            ]
          },
          "metadata": {},
          "output_type": "display_data"
        },
        {
          "data": {
            "text/html": [
              "Waiting for W&B process to finish... <strong style=\"color:green\">(success).</strong>"
            ],
            "text/plain": [
              "<IPython.core.display.HTML object>"
            ]
          },
          "metadata": {},
          "output_type": "display_data"
        },
        {
          "data": {
            "text/html": [
              "<style>\n",
              "    table.wandb td:nth-child(1) { padding: 0 10px; text-align: left ; width: auto;} td:nth-child(2) {text-align: left ; width: 100%}\n",
              "    .wandb-row { display: flex; flex-direction: row; flex-wrap: wrap; justify-content: flex-start; width: 100% }\n",
              "    .wandb-col { display: flex; flex-direction: column; flex-basis: 100%; flex: 1; padding: 10px; }\n",
              "    </style>\n",
              "<div class=\"wandb-row\"><div class=\"wandb-col\"><h3>Run history:</h3><br/><table class=\"wandb\"><tr><td>epoch</td><td>▁▂▃▄▅▆▇█</td></tr><tr><td>train_accuracy</td><td>▁▃▅▆▇███</td></tr><tr><td>train_auc</td><td>▁▄▆▇████</td></tr><tr><td>train_f1</td><td>▁▃▅▆▇███</td></tr><tr><td>train_loss</td><td>█▆▄▃▂▁▁▁</td></tr><tr><td>val_accuracy</td><td>▁█▅▅█▆▅▅</td></tr><tr><td>val_auc</td><td>▁▁▆▂█▆▆▄</td></tr><tr><td>val_f1</td><td>▁▅▅█▆▆▅█</td></tr><tr><td>val_loss</td><td>▁▃▂▇▂▇▅█</td></tr></table><br/></div><div class=\"wandb-col\"><h3>Run summary:</h3><br/><table class=\"wandb\"><tr><td>epoch</td><td>7</td></tr><tr><td>train_accuracy</td><td>0.98359</td></tr><tr><td>train_auc</td><td>0.9996</td></tr><tr><td>train_f1</td><td>0.98205</td></tr><tr><td>train_loss</td><td>0.04042</td></tr><tr><td>val_accuracy</td><td>0.53554</td></tr><tr><td>val_auc</td><td>0.79891</td></tr><tr><td>val_f1</td><td>0.55335</td></tr><tr><td>val_loss</td><td>1.25994</td></tr></table><br/></div></div>"
            ],
            "text/plain": [
              "<IPython.core.display.HTML object>"
            ]
          },
          "metadata": {},
          "output_type": "display_data"
        },
        {
          "data": {
            "text/html": [
              " View run <strong style=\"color:#cdcd00\">fragrant-sweep-7</strong> at: <a href=\"https://wandb.ai/masadeghi6/fmri-dementia-sweep-six/runs/5qyhvuy8\" target=\"_blank\">https://wandb.ai/masadeghi6/fmri-dementia-sweep-six/runs/5qyhvuy8</a><br/>Synced 4 W&B file(s), 0 media file(s), 0 artifact file(s) and 0 other file(s)"
            ],
            "text/plain": [
              "<IPython.core.display.HTML object>"
            ]
          },
          "metadata": {},
          "output_type": "display_data"
        },
        {
          "data": {
            "text/html": [
              "Find logs at: <code>./wandb/run-20230126_084433-5qyhvuy8/logs</code>"
            ],
            "text/plain": [
              "<IPython.core.display.HTML object>"
            ]
          },
          "metadata": {},
          "output_type": "display_data"
        },
        {
          "metadata": {
            "tags": null
          },
          "name": "stderr",
          "output_type": "stream",
          "text": [
            "\u001b[34m\u001b[1mwandb\u001b[0m: Sweep Agent: Waiting for job.\n",
            "\u001b[34m\u001b[1mwandb\u001b[0m: Job received.\n",
            "\u001b[34m\u001b[1mwandb\u001b[0m: Agent Starting Run: 7wqg4w84 with config:\n",
            "\u001b[34m\u001b[1mwandb\u001b[0m: \tarchitecture: resnet18\n",
            "\u001b[34m\u001b[1mwandb\u001b[0m: \tdropout: 0.2\n",
            "\u001b[34m\u001b[1mwandb\u001b[0m: \tepochs: 8\n",
            "\u001b[34m\u001b[1mwandb\u001b[0m: \tfc_layer_size: 128\n",
            "\u001b[34m\u001b[1mwandb\u001b[0m: \tgamma: 2\n",
            "\u001b[34m\u001b[1mwandb\u001b[0m: \tlearning_rate: 0.0022294561074912506\n",
            "\u001b[34m\u001b[1mwandb\u001b[0m: \tmomentum: 0.8257299700679712\n",
            "\u001b[34m\u001b[1mwandb\u001b[0m: \toptimizer: sgd\n",
            "\u001b[34m\u001b[1mwandb\u001b[0m: \ttrain_batch_size: 84\n",
            "\u001b[34m\u001b[1mwandb\u001b[0m: \tval_batch_size: 112\n"
          ]
        },
        {
          "data": {
            "text/html": [
              "Tracking run with wandb version 0.13.9"
            ],
            "text/plain": [
              "<IPython.core.display.HTML object>"
            ]
          },
          "metadata": {},
          "output_type": "display_data"
        },
        {
          "data": {
            "text/html": [
              "Run data is saved locally in <code>/content/wandb/run-20230126_084753-7wqg4w84</code>"
            ],
            "text/plain": [
              "<IPython.core.display.HTML object>"
            ]
          },
          "metadata": {},
          "output_type": "display_data"
        },
        {
          "data": {
            "text/html": [
              "Syncing run <strong><a href=\"https://wandb.ai/masadeghi6/fmri-dementia-sweep-six/runs/7wqg4w84\" target=\"_blank\">glorious-sweep-8</a></strong> to <a href=\"https://wandb.ai/masadeghi6/fmri-dementia-sweep-six\" target=\"_blank\">Weights & Biases</a> (<a href=\"https://wandb.me/run\" target=\"_blank\">docs</a>)<br/>Sweep page: <a href=\"https://wandb.ai/masadeghi6/fmri-dementia-sweep-six/sweeps/aytv2g68\" target=\"_blank\">https://wandb.ai/masadeghi6/fmri-dementia-sweep-six/sweeps/aytv2g68</a>"
            ],
            "text/plain": [
              "<IPython.core.display.HTML object>"
            ]
          },
          "metadata": {},
          "output_type": "display_data"
        },
        {
          "data": {
            "text/html": [
              " View project at <a href=\"https://wandb.ai/masadeghi6/fmri-dementia-sweep-six\" target=\"_blank\">https://wandb.ai/masadeghi6/fmri-dementia-sweep-six</a>"
            ],
            "text/plain": [
              "<IPython.core.display.HTML object>"
            ]
          },
          "metadata": {},
          "output_type": "display_data"
        },
        {
          "data": {
            "text/html": [
              " View sweep at <a href=\"https://wandb.ai/masadeghi6/fmri-dementia-sweep-six/sweeps/aytv2g68\" target=\"_blank\">https://wandb.ai/masadeghi6/fmri-dementia-sweep-six/sweeps/aytv2g68</a>"
            ],
            "text/plain": [
              "<IPython.core.display.HTML object>"
            ]
          },
          "metadata": {},
          "output_type": "display_data"
        },
        {
          "data": {
            "text/html": [
              " View run at <a href=\"https://wandb.ai/masadeghi6/fmri-dementia-sweep-six/runs/7wqg4w84\" target=\"_blank\">https://wandb.ai/masadeghi6/fmri-dementia-sweep-six/runs/7wqg4w84</a>"
            ],
            "text/plain": [
              "<IPython.core.display.HTML object>"
            ]
          },
          "metadata": {},
          "output_type": "display_data"
        },
        {
          "data": {
            "text/html": [
              "Waiting for W&B process to finish... <strong style=\"color:green\">(success).</strong>"
            ],
            "text/plain": [
              "<IPython.core.display.HTML object>"
            ]
          },
          "metadata": {},
          "output_type": "display_data"
        },
        {
          "data": {
            "text/html": [
              "<style>\n",
              "    table.wandb td:nth-child(1) { padding: 0 10px; text-align: left ; width: auto;} td:nth-child(2) {text-align: left ; width: 100%}\n",
              "    .wandb-row { display: flex; flex-direction: row; flex-wrap: wrap; justify-content: flex-start; width: 100% }\n",
              "    .wandb-col { display: flex; flex-direction: column; flex-basis: 100%; flex: 1; padding: 10px; }\n",
              "    </style>\n",
              "<div class=\"wandb-row\"><div class=\"wandb-col\"><h3>Run history:</h3><br/><table class=\"wandb\"><tr><td>epoch</td><td>▁▂▃▄▅▆▇█</td></tr><tr><td>train_accuracy</td><td>▁▄▅▆▇▇██</td></tr><tr><td>train_auc</td><td>▁▅▆▇████</td></tr><tr><td>train_f1</td><td>▁▄▅▆▇▇██</td></tr><tr><td>train_loss</td><td>█▅▄▃▂▁▁▁</td></tr><tr><td>val_accuracy</td><td>▁▄▄▅▅▄▅█</td></tr><tr><td>val_auc</td><td>▁▇▇▇▇█▇█</td></tr><tr><td>val_f1</td><td>▁▄▃▆▅▄▆█</td></tr><tr><td>val_loss</td><td>█▄▁▁▂▂▄▃</td></tr></table><br/></div><div class=\"wandb-col\"><h3>Run summary:</h3><br/><table class=\"wandb\"><tr><td>epoch</td><td>7</td></tr><tr><td>train_accuracy</td><td>0.9199</td></tr><tr><td>train_auc</td><td>0.98756</td></tr><tr><td>train_f1</td><td>0.91</td></tr><tr><td>train_loss</td><td>0.10157</td></tr><tr><td>val_accuracy</td><td>0.57712</td></tr><tr><td>val_auc</td><td>0.77606</td></tr><tr><td>val_f1</td><td>0.55821</td></tr><tr><td>val_loss</td><td>0.54814</td></tr></table><br/></div></div>"
            ],
            "text/plain": [
              "<IPython.core.display.HTML object>"
            ]
          },
          "metadata": {},
          "output_type": "display_data"
        },
        {
          "data": {
            "text/html": [
              " View run <strong style=\"color:#cdcd00\">glorious-sweep-8</strong> at: <a href=\"https://wandb.ai/masadeghi6/fmri-dementia-sweep-six/runs/7wqg4w84\" target=\"_blank\">https://wandb.ai/masadeghi6/fmri-dementia-sweep-six/runs/7wqg4w84</a><br/>Synced 4 W&B file(s), 0 media file(s), 0 artifact file(s) and 0 other file(s)"
            ],
            "text/plain": [
              "<IPython.core.display.HTML object>"
            ]
          },
          "metadata": {},
          "output_type": "display_data"
        },
        {
          "data": {
            "text/html": [
              "Find logs at: <code>./wandb/run-20230126_084753-7wqg4w84/logs</code>"
            ],
            "text/plain": [
              "<IPython.core.display.HTML object>"
            ]
          },
          "metadata": {},
          "output_type": "display_data"
        },
        {
          "metadata": {
            "tags": null
          },
          "name": "stderr",
          "output_type": "stream",
          "text": [
            "\u001b[34m\u001b[1mwandb\u001b[0m: Agent Starting Run: hwbqgftc with config:\n",
            "\u001b[34m\u001b[1mwandb\u001b[0m: \tarchitecture: resnet18\n",
            "\u001b[34m\u001b[1mwandb\u001b[0m: \tdropout: 0\n",
            "\u001b[34m\u001b[1mwandb\u001b[0m: \tepochs: 8\n",
            "\u001b[34m\u001b[1mwandb\u001b[0m: \tfc_layer_size: 256\n",
            "\u001b[34m\u001b[1mwandb\u001b[0m: \tgamma: 2\n",
            "\u001b[34m\u001b[1mwandb\u001b[0m: \tlearning_rate: 0.0034077622827766133\n",
            "\u001b[34m\u001b[1mwandb\u001b[0m: \tmomentum: 0.9311392524793592\n",
            "\u001b[34m\u001b[1mwandb\u001b[0m: \toptimizer: adam\n",
            "\u001b[34m\u001b[1mwandb\u001b[0m: \ttrain_batch_size: 41\n",
            "\u001b[34m\u001b[1mwandb\u001b[0m: \tval_batch_size: 162\n"
          ]
        },
        {
          "data": {
            "text/html": [
              "Tracking run with wandb version 0.13.9"
            ],
            "text/plain": [
              "<IPython.core.display.HTML object>"
            ]
          },
          "metadata": {},
          "output_type": "display_data"
        },
        {
          "data": {
            "text/html": [
              "Run data is saved locally in <code>/content/wandb/run-20230126_085101-hwbqgftc</code>"
            ],
            "text/plain": [
              "<IPython.core.display.HTML object>"
            ]
          },
          "metadata": {},
          "output_type": "display_data"
        },
        {
          "data": {
            "text/html": [
              "Syncing run <strong><a href=\"https://wandb.ai/masadeghi6/fmri-dementia-sweep-six/runs/hwbqgftc\" target=\"_blank\">rare-sweep-9</a></strong> to <a href=\"https://wandb.ai/masadeghi6/fmri-dementia-sweep-six\" target=\"_blank\">Weights & Biases</a> (<a href=\"https://wandb.me/run\" target=\"_blank\">docs</a>)<br/>Sweep page: <a href=\"https://wandb.ai/masadeghi6/fmri-dementia-sweep-six/sweeps/aytv2g68\" target=\"_blank\">https://wandb.ai/masadeghi6/fmri-dementia-sweep-six/sweeps/aytv2g68</a>"
            ],
            "text/plain": [
              "<IPython.core.display.HTML object>"
            ]
          },
          "metadata": {},
          "output_type": "display_data"
        },
        {
          "data": {
            "text/html": [
              " View project at <a href=\"https://wandb.ai/masadeghi6/fmri-dementia-sweep-six\" target=\"_blank\">https://wandb.ai/masadeghi6/fmri-dementia-sweep-six</a>"
            ],
            "text/plain": [
              "<IPython.core.display.HTML object>"
            ]
          },
          "metadata": {},
          "output_type": "display_data"
        },
        {
          "data": {
            "text/html": [
              " View sweep at <a href=\"https://wandb.ai/masadeghi6/fmri-dementia-sweep-six/sweeps/aytv2g68\" target=\"_blank\">https://wandb.ai/masadeghi6/fmri-dementia-sweep-six/sweeps/aytv2g68</a>"
            ],
            "text/plain": [
              "<IPython.core.display.HTML object>"
            ]
          },
          "metadata": {},
          "output_type": "display_data"
        },
        {
          "data": {
            "text/html": [
              " View run at <a href=\"https://wandb.ai/masadeghi6/fmri-dementia-sweep-six/runs/hwbqgftc\" target=\"_blank\">https://wandb.ai/masadeghi6/fmri-dementia-sweep-six/runs/hwbqgftc</a>"
            ],
            "text/plain": [
              "<IPython.core.display.HTML object>"
            ]
          },
          "metadata": {},
          "output_type": "display_data"
        },
        {
          "output_type": "display_data",
          "data": {
            "text/plain": [
              "<IPython.core.display.HTML object>"
            ],
            "text/html": [
              "Waiting for W&B process to finish... <strong style=\"color:green\">(success).</strong>"
            ]
          },
          "metadata": {}
        },
        {
          "output_type": "display_data",
          "data": {
            "text/plain": [
              "<IPython.core.display.HTML object>"
            ],
            "text/html": [
              "<style>\n",
              "    table.wandb td:nth-child(1) { padding: 0 10px; text-align: left ; width: auto;} td:nth-child(2) {text-align: left ; width: 100%}\n",
              "    .wandb-row { display: flex; flex-direction: row; flex-wrap: wrap; justify-content: flex-start; width: 100% }\n",
              "    .wandb-col { display: flex; flex-direction: column; flex-basis: 100%; flex: 1; padding: 10px; }\n",
              "    </style>\n",
              "<div class=\"wandb-row\"><div class=\"wandb-col\"><h3>Run history:</h3><br/><table class=\"wandb\"><tr><td>epoch</td><td>▁▂▃▄▅▆▇█</td></tr><tr><td>train_accuracy</td><td>▁▃▄▆▇█▆▇</td></tr><tr><td>train_auc</td><td>▁▄▅▅▇▇▇█</td></tr><tr><td>train_f1</td><td>▁▁▄▆████</td></tr><tr><td>train_loss</td><td>█▃▃▂▁▁▁▁</td></tr><tr><td>val_accuracy</td><td>▁▃▄█▅▆▇▇</td></tr><tr><td>val_auc</td><td>▁▁▂▃▄▃▁█</td></tr><tr><td>val_f1</td><td>▁▅▆▇▇▇█▅</td></tr><tr><td>val_loss</td><td>█▃▂▂▁▁▃▁</td></tr></table><br/></div><div class=\"wandb-col\"><h3>Run summary:</h3><br/><table class=\"wandb\"><tr><td>epoch</td><td>7</td></tr><tr><td>train_accuracy</td><td>0.53664</td></tr><tr><td>train_auc</td><td>0.79403</td></tr><tr><td>train_f1</td><td>0.50876</td></tr><tr><td>train_loss</td><td>0.44202</td></tr><tr><td>val_accuracy</td><td>0.46333</td></tr><tr><td>val_auc</td><td>0.79982</td></tr><tr><td>val_f1</td><td>0.37129</td></tr><tr><td>val_loss</td><td>0.46098</td></tr></table><br/></div></div>"
            ]
          },
          "metadata": {}
        },
        {
          "output_type": "display_data",
          "data": {
            "text/plain": [
              "<IPython.core.display.HTML object>"
            ],
            "text/html": [
              " View run <strong style=\"color:#cdcd00\">rare-sweep-9</strong> at: <a href=\"https://wandb.ai/masadeghi6/fmri-dementia-sweep-six/runs/hwbqgftc\" target=\"_blank\">https://wandb.ai/masadeghi6/fmri-dementia-sweep-six/runs/hwbqgftc</a><br/>Synced 4 W&B file(s), 0 media file(s), 0 artifact file(s) and 0 other file(s)"
            ]
          },
          "metadata": {}
        },
        {
          "output_type": "display_data",
          "data": {
            "text/plain": [
              "<IPython.core.display.HTML object>"
            ],
            "text/html": [
              "Find logs at: <code>./wandb/run-20230126_085101-hwbqgftc/logs</code>"
            ]
          },
          "metadata": {}
        },
        {
          "output_type": "stream",
          "name": "stderr",
          "text": [
            "\u001b[34m\u001b[1mwandb\u001b[0m: Agent Starting Run: 3xb48p5m with config:\n",
            "\u001b[34m\u001b[1mwandb\u001b[0m: \tarchitecture: resnet18\n",
            "\u001b[34m\u001b[1mwandb\u001b[0m: \tdropout: 0.4\n",
            "\u001b[34m\u001b[1mwandb\u001b[0m: \tepochs: 8\n",
            "\u001b[34m\u001b[1mwandb\u001b[0m: \tfc_layer_size: 256\n",
            "\u001b[34m\u001b[1mwandb\u001b[0m: \tgamma: 0.5\n",
            "\u001b[34m\u001b[1mwandb\u001b[0m: \tlearning_rate: 0.00926410893735149\n",
            "\u001b[34m\u001b[1mwandb\u001b[0m: \tmomentum: 0.8933300941578308\n",
            "\u001b[34m\u001b[1mwandb\u001b[0m: \toptimizer: sgd\n",
            "\u001b[34m\u001b[1mwandb\u001b[0m: \ttrain_batch_size: 35\n",
            "\u001b[34m\u001b[1mwandb\u001b[0m: \tval_batch_size: 62\n"
          ]
        },
        {
          "output_type": "display_data",
          "data": {
            "text/plain": [
              "<IPython.core.display.HTML object>"
            ],
            "text/html": [
              "Tracking run with wandb version 0.13.9"
            ]
          },
          "metadata": {}
        },
        {
          "output_type": "display_data",
          "data": {
            "text/plain": [
              "<IPython.core.display.HTML object>"
            ],
            "text/html": [
              "Run data is saved locally in <code>/content/wandb/run-20230126_085410-3xb48p5m</code>"
            ]
          },
          "metadata": {}
        },
        {
          "output_type": "display_data",
          "data": {
            "text/plain": [
              "<IPython.core.display.HTML object>"
            ],
            "text/html": [
              "Syncing run <strong><a href=\"https://wandb.ai/masadeghi6/fmri-dementia-sweep-six/runs/3xb48p5m\" target=\"_blank\">efficient-sweep-10</a></strong> to <a href=\"https://wandb.ai/masadeghi6/fmri-dementia-sweep-six\" target=\"_blank\">Weights & Biases</a> (<a href=\"https://wandb.me/run\" target=\"_blank\">docs</a>)<br/>Sweep page: <a href=\"https://wandb.ai/masadeghi6/fmri-dementia-sweep-six/sweeps/aytv2g68\" target=\"_blank\">https://wandb.ai/masadeghi6/fmri-dementia-sweep-six/sweeps/aytv2g68</a>"
            ]
          },
          "metadata": {}
        },
        {
          "output_type": "display_data",
          "data": {
            "text/plain": [
              "<IPython.core.display.HTML object>"
            ],
            "text/html": [
              " View project at <a href=\"https://wandb.ai/masadeghi6/fmri-dementia-sweep-six\" target=\"_blank\">https://wandb.ai/masadeghi6/fmri-dementia-sweep-six</a>"
            ]
          },
          "metadata": {}
        },
        {
          "output_type": "display_data",
          "data": {
            "text/plain": [
              "<IPython.core.display.HTML object>"
            ],
            "text/html": [
              " View sweep at <a href=\"https://wandb.ai/masadeghi6/fmri-dementia-sweep-six/sweeps/aytv2g68\" target=\"_blank\">https://wandb.ai/masadeghi6/fmri-dementia-sweep-six/sweeps/aytv2g68</a>"
            ]
          },
          "metadata": {}
        },
        {
          "output_type": "display_data",
          "data": {
            "text/plain": [
              "<IPython.core.display.HTML object>"
            ],
            "text/html": [
              " View run at <a href=\"https://wandb.ai/masadeghi6/fmri-dementia-sweep-six/runs/3xb48p5m\" target=\"_blank\">https://wandb.ai/masadeghi6/fmri-dementia-sweep-six/runs/3xb48p5m</a>"
            ]
          },
          "metadata": {}
        },
        {
          "output_type": "display_data",
          "data": {
            "text/plain": [
              "<IPython.core.display.HTML object>"
            ],
            "text/html": [
              "Waiting for W&B process to finish... <strong style=\"color:red\">(failed 1).</strong> Press Control-C to abort syncing."
            ]
          },
          "metadata": {}
        },
        {
          "output_type": "display_data",
          "data": {
            "text/plain": [
              "VBox(children=(Label(value='0.001 MB of 0.009 MB uploaded (0.000 MB deduped)\\r'), FloatProgress(value=0.086889…"
            ],
            "application/vnd.jupyter.widget-view+json": {
              "version_major": 2,
              "version_minor": 0,
              "model_id": "93b1f25847754fafad685c958642ff5c"
            }
          },
          "metadata": {}
        },
        {
          "output_type": "display_data",
          "data": {
            "text/plain": [
              "<IPython.core.display.HTML object>"
            ],
            "text/html": [
              "<style>\n",
              "    table.wandb td:nth-child(1) { padding: 0 10px; text-align: left ; width: auto;} td:nth-child(2) {text-align: left ; width: 100%}\n",
              "    .wandb-row { display: flex; flex-direction: row; flex-wrap: wrap; justify-content: flex-start; width: 100% }\n",
              "    .wandb-col { display: flex; flex-direction: column; flex-basis: 100%; flex: 1; padding: 10px; }\n",
              "    </style>\n",
              "<div class=\"wandb-row\"><div class=\"wandb-col\"><h3>Run history:</h3><br/><table class=\"wandb\"><tr><td>epoch</td><td>▁</td></tr><tr><td>train_accuracy</td><td>▁</td></tr><tr><td>train_auc</td><td>▁</td></tr><tr><td>train_f1</td><td>▁</td></tr><tr><td>train_loss</td><td>▁</td></tr><tr><td>val_accuracy</td><td>▁</td></tr><tr><td>val_auc</td><td>▁</td></tr><tr><td>val_f1</td><td>▁</td></tr><tr><td>val_loss</td><td>▁</td></tr></table><br/></div><div class=\"wandb-col\"><h3>Run summary:</h3><br/><table class=\"wandb\"><tr><td>epoch</td><td>0</td></tr><tr><td>train_accuracy</td><td>0.4387</td></tr><tr><td>train_auc</td><td>0.70528</td></tr><tr><td>train_f1</td><td>0.42097</td></tr><tr><td>train_loss</td><td>1.11339</td></tr><tr><td>val_accuracy</td><td>0.38504</td></tr><tr><td>val_auc</td><td>0.69456</td></tr><tr><td>val_f1</td><td>0.39073</td></tr><tr><td>val_loss</td><td>1.42878</td></tr></table><br/></div></div>"
            ]
          },
          "metadata": {}
        },
        {
          "output_type": "display_data",
          "data": {
            "text/plain": [
              "<IPython.core.display.HTML object>"
            ],
            "text/html": [
              " View run <strong style=\"color:#cdcd00\">efficient-sweep-10</strong> at: <a href=\"https://wandb.ai/masadeghi6/fmri-dementia-sweep-six/runs/3xb48p5m\" target=\"_blank\">https://wandb.ai/masadeghi6/fmri-dementia-sweep-six/runs/3xb48p5m</a><br/>Synced 4 W&B file(s), 0 media file(s), 0 artifact file(s) and 0 other file(s)"
            ]
          },
          "metadata": {}
        },
        {
          "output_type": "display_data",
          "data": {
            "text/plain": [
              "<IPython.core.display.HTML object>"
            ],
            "text/html": [
              "Find logs at: <code>./wandb/run-20230126_085410-3xb48p5m/logs</code>"
            ]
          },
          "metadata": {}
        },
        {
          "output_type": "stream",
          "name": "stderr",
          "text": [
            "Run 3xb48p5m errored: AssertionError(ValueError('The predictions values should be between 0 and 1,                 make sure to pass the values to sigmoid for binary                 classification or softmax for multi-class classification'))\n",
            "\u001b[34m\u001b[1mwandb\u001b[0m: \u001b[32m\u001b[41mERROR\u001b[0m Run 3xb48p5m errored: AssertionError(ValueError('The predictions values should be between 0 and 1,                 make sure to pass the values to sigmoid for binary                 classification or softmax for multi-class classification'))\n"
          ]
        }
      ]
    }
  ]
}